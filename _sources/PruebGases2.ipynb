{
 "cells": [
  {
   "cell_type": "markdown",
   "metadata": {},
   "source": [
    "# Prueba Técnica Gases del Caribe"
   ]
  },
  {
   "cell_type": "markdown",
   "metadata": {},
   "source": [
    "**Autor:** Karina Rodríguez\n",
    "<br>\n",
    "**Fecha:** 30/11/2023"
   ]
  },
  {
   "cell_type": "code",
   "execution_count": 1,
   "metadata": {},
   "outputs": [],
   "source": [
    "import warnings\n",
    "import plotly.express as px\n",
    "import pandas as pd\n",
    "import numpy as np\n",
    "import matplotlib.pyplot as plt\n",
    "warnings.filterwarnings('ignore')"
   ]
  },
  {
   "cell_type": "markdown",
   "metadata": {},
   "source": [
    "## TEORÍA\n"
   ]
  },
  {
   "cell_type": "markdown",
   "metadata": {},
   "source": [
    "### 1. SQL"
   ]
  },
  {
   "cell_type": "markdown",
   "metadata": {},
   "source": [
    "#### A. ¿Cuál es la estructura básica de un SELECT?"
   ]
  },
  {
   "cell_type": "markdown",
   "metadata": {},
   "source": [
    "La estructura básica de un SELECT corresponde a:\n",
    "\n",
    "(1) **SELECT** --Campos que se desean seleccionar--\n",
    "\n",
    "(2) **FROM** --Tabla de la cual se quieren extraer los campos/datos-- \n",
    "\n",
    "(3) --Otras cláusulas que permitan realizar operaciones sobre los datos. Ej: **WHERE**, para establecer una condición de filtrado; **ORDER BY**, para ordenar los datos; **GROUP BY** para agrupar los datos--  --Expresión que acompaña a la cláusula--\n"
   ]
  },
  {
   "cell_type": "markdown",
   "metadata": {},
   "source": [
    "**Ejemplo:**\n",
    "A continuación se muestra la tabla Fruta, la cual tiene 3 campos: un id para identificar la fruta, el tipo de fruta y cantidad de frutas por cada tipo."
   ]
  },
  {
   "cell_type": "code",
   "execution_count": 2,
   "metadata": {
    "tags": [
     "hide-input"
    ]
   },
   "outputs": [
    {
     "data": {
      "text/html": [
       "<div>\n",
       "<style scoped>\n",
       "    .dataframe tbody tr th:only-of-type {\n",
       "        vertical-align: middle;\n",
       "    }\n",
       "\n",
       "    .dataframe tbody tr th {\n",
       "        vertical-align: top;\n",
       "    }\n",
       "\n",
       "    .dataframe thead th {\n",
       "        text-align: right;\n",
       "    }\n",
       "</style>\n",
       "<table border=\"1\" class=\"dataframe\">\n",
       "  <thead>\n",
       "    <tr style=\"text-align: right;\">\n",
       "      <th></th>\n",
       "      <th>id</th>\n",
       "      <th>Tipo</th>\n",
       "      <th>Cantidad</th>\n",
       "    </tr>\n",
       "  </thead>\n",
       "  <tbody>\n",
       "    <tr>\n",
       "      <th>0</th>\n",
       "      <td>1</td>\n",
       "      <td>Banana</td>\n",
       "      <td>2</td>\n",
       "    </tr>\n",
       "    <tr>\n",
       "      <th>1</th>\n",
       "      <td>2</td>\n",
       "      <td>Fresa</td>\n",
       "      <td>5</td>\n",
       "    </tr>\n",
       "    <tr>\n",
       "      <th>2</th>\n",
       "      <td>3</td>\n",
       "      <td>Piña</td>\n",
       "      <td>0</td>\n",
       "    </tr>\n",
       "    <tr>\n",
       "      <th>3</th>\n",
       "      <td>4</td>\n",
       "      <td>Coco</td>\n",
       "      <td>10</td>\n",
       "    </tr>\n",
       "  </tbody>\n",
       "</table>\n",
       "</div>"
      ],
      "text/plain": [
       "   id    Tipo  Cantidad\n",
       "0   1  Banana         2\n",
       "1   2   Fresa         5\n",
       "2   3    Piña         0\n",
       "3   4    Coco        10"
      ]
     },
     "metadata": {},
     "output_type": "display_data"
    }
   ],
   "source": [
    "fruta = pd.DataFrame({\"id\":[1,2,3,4],\n",
    "              \"Tipo\":[\"Banana\", \"Fresa\", \"Piña\", \"Coco\"],\n",
    "              \"Cantidad\": [2, 5, 0, 10]})\n",
    "display(fruta)"
   ]
  },
  {
   "cell_type": "markdown",
   "metadata": {},
   "source": [
    "**Query:**\n",
    "<br>\n",
    "**SELECT** Tipo (Campo a seleccionar) \n",
    "<br>\n",
    "**FROM** Fruta (Tabla de la cual se extraen los datos)\n",
    "<br>\n",
    "**WHERE** (cláusula adicional) Cantidad >= 5 (expresión que acompaña a la cláusula)\n",
    "\n",
    "En este ejemplo se selecciona el campo Tipo de la tabla Fruta, pero solo aquellas frutas en las que se tiene una cantidad mayor o igual a 5, por lo que el resultado esperado seria: Fresa y Coco.\n",
    "\n"
   ]
  },
  {
   "cell_type": "markdown",
   "metadata": {},
   "source": [
    "#### B. ¿Qué es un JOIN?"
   ]
  },
  {
   "cell_type": "markdown",
   "metadata": {},
   "source": [
    "Es una cláusula que permite realizar una unión entre los registros (filas) de dos tablas, a partir de 1 o más campos que tengan en común las tablas. Se pueden realizar distintos tipos de Join entre las tablas, dependiendo del resultado que se quiera lograr. \n",
    "\n",
    "Estructura de un **JOIN**:\n",
    "\n",
    "**SELECT** Tipo\n",
    "\n",
    "**FROM** Fruta\n",
    "\n",
    "**INNER JOIN** Jugos **ON** Fruta.id = Jugos.IdFruta\n",
    "\n",
    "En este ejemplo las dos tablas que se van a unir son Fruta y Jugos. Los campos que tienen en común estas dos tablas son Id y IdFruta, por lo que la unicón se realizará a partir de este campo. \n",
    "\n",
    "Entre los tipo de JOIN que conozco estan:\n",
    "* **INNER:** con esta unión el resultado es una tabla que contiene los registros que se encuentran en ambas tablas, basado en el campo usado para unirlas. Los registros que se encuentran en una tabla pero no en la otra, no son tenidos en cuenta. \n",
    "* **LEFT:** con esta unión el resultados es una tabla con todos los registros de la tabla de la izquierda (en el ejemplo de las frutas la tabla de la izquierda es la que va antes del IINER JOIN), y solo los registros de la tabla derecha que se tienen en común con la tabla izquierda. \n",
    "* **RIGTH:** con esta unión el resultados es una tabla con todos los registros de la tabla de la derecha (en el ejemplo de las frutas la tabla de la derecha es la que va despues del INNER JOIN), y solo los registros de la tabla izquierda que se tienen en común con la tabla derecha. \n",
    "* **FULL:** con esta unión el resultados es una tabla con todos los registros de las dos tablas, aunque no existan registros en común."
   ]
  },
  {
   "cell_type": "markdown",
   "metadata": {},
   "source": [
    "#### C. Diferencias entre INNER JOIN y LEFT JOIN."
   ]
  },
  {
   "cell_type": "markdown",
   "metadata": {},
   "source": [
    "La principal diferencia entre estos dos tipos de JOIN es que que el INNER da como resultado una tabla con los registros que se tienen en común entre las dos tablas que se van a unir, mientras que el LEFT JOIN, da como resultado una tabla con todos los registros de la tabla de la izquierda (la que esta al aldo del FROM) y solo los registros de la tabla derecha que se tienen en común con la tabla izquierda. Para los registros que se encuentran en la tabla izquierda, pero no en la derecha, se tendrian valores faltantes en los campos que provienen de la tabla derecha. \n",
    "\n",
    "Otra forma de verlo, es que el resultado de un INNER JOIN es la intersección entre dos conjuntos, en este caso cada tabla es un conjunto, y la intersección son los registros que tienen en común las dos tablas, y no se tienen en cuenta todos los registros por fuera de la intersección. En el LEFT JOIN el resultado son todos los registros en la tabla de la izquierda, los registros en la intersección, dejando por fuera todo los registros que solo se encuentran en la tabla de la derecha. "
   ]
  },
  {
   "cell_type": "markdown",
   "metadata": {},
   "source": [
    "Se tiene la tabla fruta:"
   ]
  },
  {
   "cell_type": "code",
   "execution_count": 3,
   "metadata": {
    "tags": [
     "hide-input"
    ]
   },
   "outputs": [
    {
     "data": {
      "text/html": [
       "<div>\n",
       "<style scoped>\n",
       "    .dataframe tbody tr th:only-of-type {\n",
       "        vertical-align: middle;\n",
       "    }\n",
       "\n",
       "    .dataframe tbody tr th {\n",
       "        vertical-align: top;\n",
       "    }\n",
       "\n",
       "    .dataframe thead th {\n",
       "        text-align: right;\n",
       "    }\n",
       "</style>\n",
       "<table border=\"1\" class=\"dataframe\">\n",
       "  <thead>\n",
       "    <tr style=\"text-align: right;\">\n",
       "      <th></th>\n",
       "      <th>id</th>\n",
       "      <th>Tipo</th>\n",
       "      <th>Cantidad</th>\n",
       "    </tr>\n",
       "  </thead>\n",
       "  <tbody>\n",
       "    <tr>\n",
       "      <th>0</th>\n",
       "      <td>1</td>\n",
       "      <td>Banana</td>\n",
       "      <td>2</td>\n",
       "    </tr>\n",
       "    <tr>\n",
       "      <th>1</th>\n",
       "      <td>2</td>\n",
       "      <td>Fresa</td>\n",
       "      <td>5</td>\n",
       "    </tr>\n",
       "    <tr>\n",
       "      <th>2</th>\n",
       "      <td>3</td>\n",
       "      <td>Piña</td>\n",
       "      <td>0</td>\n",
       "    </tr>\n",
       "    <tr>\n",
       "      <th>3</th>\n",
       "      <td>4</td>\n",
       "      <td>Coco</td>\n",
       "      <td>10</td>\n",
       "    </tr>\n",
       "    <tr>\n",
       "      <th>4</th>\n",
       "      <td>5</td>\n",
       "      <td>Corozo</td>\n",
       "      <td>10</td>\n",
       "    </tr>\n",
       "  </tbody>\n",
       "</table>\n",
       "</div>"
      ],
      "text/plain": [
       "   id    Tipo  Cantidad\n",
       "0   1  Banana         2\n",
       "1   2   Fresa         5\n",
       "2   3    Piña         0\n",
       "3   4    Coco        10\n",
       "4   5  Corozo        10"
      ]
     },
     "metadata": {},
     "output_type": "display_data"
    }
   ],
   "source": [
    "fruta = pd.DataFrame({\"id\":[1,2,3,4, 5],\n",
    "              \"Tipo\":[\"Banana\", \"Fresa\", \"Piña\", \"Coco\", \"Corozo\"],\n",
    "              \"Cantidad\": [2, 5, 0, 10, 10]})\n",
    "display(fruta)"
   ]
  },
  {
   "cell_type": "markdown",
   "metadata": {},
   "source": [
    "Y la tabla jugos:"
   ]
  },
  {
   "cell_type": "code",
   "execution_count": 4,
   "metadata": {
    "tags": [
     "hide-input"
    ]
   },
   "outputs": [
    {
     "data": {
      "text/html": [
       "<div>\n",
       "<style scoped>\n",
       "    .dataframe tbody tr th:only-of-type {\n",
       "        vertical-align: middle;\n",
       "    }\n",
       "\n",
       "    .dataframe tbody tr th {\n",
       "        vertical-align: top;\n",
       "    }\n",
       "\n",
       "    .dataframe thead th {\n",
       "        text-align: right;\n",
       "    }\n",
       "</style>\n",
       "<table border=\"1\" class=\"dataframe\">\n",
       "  <thead>\n",
       "    <tr style=\"text-align: right;\">\n",
       "      <th></th>\n",
       "      <th>id</th>\n",
       "      <th>Jugo</th>\n",
       "      <th>Costo</th>\n",
       "      <th>IdFruta</th>\n",
       "    </tr>\n",
       "  </thead>\n",
       "  <tbody>\n",
       "    <tr>\n",
       "      <th>0</th>\n",
       "      <td>1</td>\n",
       "      <td>Granizado de Banana</td>\n",
       "      <td>6000</td>\n",
       "      <td>1</td>\n",
       "    </tr>\n",
       "    <tr>\n",
       "      <th>1</th>\n",
       "      <td>2</td>\n",
       "      <td>Malteada de Fresa</td>\n",
       "      <td>6500</td>\n",
       "      <td>2</td>\n",
       "    </tr>\n",
       "    <tr>\n",
       "      <th>2</th>\n",
       "      <td>3</td>\n",
       "      <td>Agua de Piña</td>\n",
       "      <td>5000</td>\n",
       "      <td>3</td>\n",
       "    </tr>\n",
       "    <tr>\n",
       "      <th>3</th>\n",
       "      <td>4</td>\n",
       "      <td>Agua de Coco</td>\n",
       "      <td>5000</td>\n",
       "      <td>4</td>\n",
       "    </tr>\n",
       "  </tbody>\n",
       "</table>\n",
       "</div>"
      ],
      "text/plain": [
       "   id                 Jugo  Costo  IdFruta\n",
       "0   1  Granizado de Banana   6000        1\n",
       "1   2    Malteada de Fresa   6500        2\n",
       "2   3         Agua de Piña   5000        3\n",
       "3   4         Agua de Coco   5000        4"
      ]
     },
     "metadata": {},
     "output_type": "display_data"
    }
   ],
   "source": [
    "jugos = pd.DataFrame({\"id\":[1,2,3,4],\n",
    "              \"Jugo\":[\"Granizado de Banana\", \"Malteada de Fresa\", \"Agua de Piña\", \"Agua de Coco\"],\n",
    "              \"Costo\": [6000, 6500, 5000, 5000],\n",
    "              \"IdFruta\": [1, 2, 3, 4]})\n",
    "display(jugos)"
   ]
  },
  {
   "cell_type": "markdown",
   "metadata": {},
   "source": [
    "**Query**\n",
    "\n",
    "**SELECT** Tipo, Cantidad, Jugo, Costo\n",
    "\n",
    "**FROM** Fruta\n",
    "\n",
    "**INNER JOIN** Jugos **ON** Fruta.id = Jugos.IdFruta\n",
    "\n",
    "Al hacer un INNER JOIN entre las tablas el resultado esperado seria el siguiente:"
   ]
  },
  {
   "cell_type": "code",
   "execution_count": 5,
   "metadata": {
    "tags": [
     "hide-input"
    ]
   },
   "outputs": [
    {
     "data": {
      "text/html": [
       "<div>\n",
       "<style scoped>\n",
       "    .dataframe tbody tr th:only-of-type {\n",
       "        vertical-align: middle;\n",
       "    }\n",
       "\n",
       "    .dataframe tbody tr th {\n",
       "        vertical-align: top;\n",
       "    }\n",
       "\n",
       "    .dataframe thead th {\n",
       "        text-align: right;\n",
       "    }\n",
       "</style>\n",
       "<table border=\"1\" class=\"dataframe\">\n",
       "  <thead>\n",
       "    <tr style=\"text-align: right;\">\n",
       "      <th></th>\n",
       "      <th>Tipo</th>\n",
       "      <th>Cantidad</th>\n",
       "      <th>Jugo</th>\n",
       "      <th>Costo</th>\n",
       "    </tr>\n",
       "  </thead>\n",
       "  <tbody>\n",
       "    <tr>\n",
       "      <th>0</th>\n",
       "      <td>Banana</td>\n",
       "      <td>2</td>\n",
       "      <td>Granizado de Banana</td>\n",
       "      <td>6000</td>\n",
       "    </tr>\n",
       "    <tr>\n",
       "      <th>1</th>\n",
       "      <td>Fresa</td>\n",
       "      <td>5</td>\n",
       "      <td>Malteada de Fresa</td>\n",
       "      <td>6500</td>\n",
       "    </tr>\n",
       "    <tr>\n",
       "      <th>2</th>\n",
       "      <td>Piña</td>\n",
       "      <td>0</td>\n",
       "      <td>Agua de Piña</td>\n",
       "      <td>5000</td>\n",
       "    </tr>\n",
       "    <tr>\n",
       "      <th>3</th>\n",
       "      <td>Coco</td>\n",
       "      <td>10</td>\n",
       "      <td>Agua de Coco</td>\n",
       "      <td>5000</td>\n",
       "    </tr>\n",
       "  </tbody>\n",
       "</table>\n",
       "</div>"
      ],
      "text/plain": [
       "     Tipo  Cantidad                 Jugo  Costo\n",
       "0  Banana         2  Granizado de Banana   6000\n",
       "1   Fresa         5    Malteada de Fresa   6500\n",
       "2    Piña         0         Agua de Piña   5000\n",
       "3    Coco        10         Agua de Coco   5000"
      ]
     },
     "metadata": {},
     "output_type": "display_data"
    }
   ],
   "source": [
    "display(pd.merge(fruta, jugos,  how=\"inner\", left_on=\"id\", right_on=\"IdFruta\").loc[:,[\"Tipo\", \"Cantidad\", \"Jugo\", \"Costo\"]])"
   ]
  },
  {
   "cell_type": "markdown",
   "metadata": {},
   "source": [
    "En este caso se excluye la información que corresponde a la fruta Corozo, ya que no se tiene información sobre esta en la tabla jugos."
   ]
  },
  {
   "cell_type": "markdown",
   "metadata": {},
   "source": [
    "Al hacer un LEFT JOIN entre las tablas el resultado esperado serie el siguiente:"
   ]
  },
  {
   "cell_type": "code",
   "execution_count": 6,
   "metadata": {
    "tags": [
     "hide-input"
    ]
   },
   "outputs": [
    {
     "data": {
      "text/html": [
       "<div>\n",
       "<style scoped>\n",
       "    .dataframe tbody tr th:only-of-type {\n",
       "        vertical-align: middle;\n",
       "    }\n",
       "\n",
       "    .dataframe tbody tr th {\n",
       "        vertical-align: top;\n",
       "    }\n",
       "\n",
       "    .dataframe thead th {\n",
       "        text-align: right;\n",
       "    }\n",
       "</style>\n",
       "<table border=\"1\" class=\"dataframe\">\n",
       "  <thead>\n",
       "    <tr style=\"text-align: right;\">\n",
       "      <th></th>\n",
       "      <th>Tipo</th>\n",
       "      <th>Cantidad</th>\n",
       "      <th>Jugo</th>\n",
       "      <th>Costo</th>\n",
       "    </tr>\n",
       "  </thead>\n",
       "  <tbody>\n",
       "    <tr>\n",
       "      <th>0</th>\n",
       "      <td>Banana</td>\n",
       "      <td>2</td>\n",
       "      <td>Granizado de Banana</td>\n",
       "      <td>6000.0</td>\n",
       "    </tr>\n",
       "    <tr>\n",
       "      <th>1</th>\n",
       "      <td>Fresa</td>\n",
       "      <td>5</td>\n",
       "      <td>Malteada de Fresa</td>\n",
       "      <td>6500.0</td>\n",
       "    </tr>\n",
       "    <tr>\n",
       "      <th>2</th>\n",
       "      <td>Piña</td>\n",
       "      <td>0</td>\n",
       "      <td>Agua de Piña</td>\n",
       "      <td>5000.0</td>\n",
       "    </tr>\n",
       "    <tr>\n",
       "      <th>3</th>\n",
       "      <td>Coco</td>\n",
       "      <td>10</td>\n",
       "      <td>Agua de Coco</td>\n",
       "      <td>5000.0</td>\n",
       "    </tr>\n",
       "    <tr>\n",
       "      <th>4</th>\n",
       "      <td>Corozo</td>\n",
       "      <td>10</td>\n",
       "      <td>NaN</td>\n",
       "      <td>NaN</td>\n",
       "    </tr>\n",
       "  </tbody>\n",
       "</table>\n",
       "</div>"
      ],
      "text/plain": [
       "     Tipo  Cantidad                 Jugo   Costo\n",
       "0  Banana         2  Granizado de Banana  6000.0\n",
       "1   Fresa         5    Malteada de Fresa  6500.0\n",
       "2    Piña         0         Agua de Piña  5000.0\n",
       "3    Coco        10         Agua de Coco  5000.0\n",
       "4  Corozo        10                  NaN     NaN"
      ]
     },
     "metadata": {},
     "output_type": "display_data"
    }
   ],
   "source": [
    "display(pd.merge(fruta, jugos,  how=\"left\", left_on=\"id\", right_on=\"IdFruta\").loc[:,[\"Tipo\", \"Cantidad\", \"Jugo\", \"Costo\"]])"
   ]
  },
  {
   "cell_type": "markdown",
   "metadata": {},
   "source": [
    "En este caso se traen todos los regsitros de la tabla fruta, y los registros de la tabla jugos con los que se tiene una coincidencia. Para el caso del registro de la fruta Corozo, como no se tiene información en la tabla de jugos correspondiente a esta fruta, se muestran los dos campos que provienen de la tabla jugos con valores faltantes."
   ]
  },
  {
   "cell_type": "markdown",
   "metadata": {},
   "source": [
    "### 2. ESTADÍSTICA\n"
   ]
  },
  {
   "cell_type": "markdown",
   "metadata": {},
   "source": [
    "#### A. Dar 3 ejemplos de distribuciones estadísticas."
   ]
  },
  {
   "cell_type": "markdown",
   "metadata": {},
   "source": [
    "* **Distribución Poisson:**\n",
    "\n",
    "Esta distribución se da en datos de tipo discreto, y corresponde al número de ocurrencias de un evento en un intervalo de tiempo. Un ejemplo de esta distribución es el número de personas que llegan a una sucursal bancaria cada hora o el número de veces que una persona parpadea cada minuto. \n",
    "\n",
    "**Espacio muestral:** números naturales de 0 a infinito.\n",
    "\n",
    "**Parámetro:** \n",
    "Esta distribución solo tiene un parametro: $\\lambda$ (lambda). <br>\n",
    "Lambda corresponde al número de ocurrencias del evento en el intervalo de tiempo establecido,  y toma valores de $\\{0,..., \\inf\\}$.\n",
    "\n",
    "Para una variable aleatoria discreta $X$ que siga una distribución Poisson, el valor esperado $E(X)=\\lambda$, al igual que la varianza $Var(X) = \\lambda$.\n",
    "\n",
    "**Función de probabilidad:**\n",
    "\n",
    "$P(X=k) = \\frac{e^{-\\lambda}\\lambda^{k}}{k!}$ (siempre y cuando k sea un valor en el espacio muestral de la distribucción, de lo contrario la función de probabilidad toma valor 0)\n",
    " \n",
    "Con la función de probabilidad, se puede saber la probabilidad de que la variable aleatoria discreta $X$ tome un valor $k$. Por ejemplo, cual es la probabilidad de que lleguen 5 personas en una hora a la sucursal bancaria, o la probabilidad de que una persona parpadee 20 veces en un minuto. \n",
    "\n"
   ]
  },
  {
   "cell_type": "markdown",
   "metadata": {},
   "source": [
    "Ejemplo de una distribución Poisson, donde  $\\lambda$ toma el valor de 5, y se repite el evento 10000 veces:"
   ]
  },
  {
   "cell_type": "code",
   "execution_count": 7,
   "metadata": {
    "tags": [
     "hide-input"
    ]
   },
   "outputs": [
    {
     "data": {
      "image/png": "[encoded data removed]",
      "text/plain": [
       "<Figure size 640x480 with 1 Axes>"
      ]
     },
     "metadata": {},
     "output_type": "display_data"
    }
   ],
   "source": [
    "x = np.random.poisson(lam=5, size=10000)\n",
    "count, bins, ignored = plt.hist(x, 14, density=False)\n",
    "plt.show()"
   ]
  },
  {
   "cell_type": "markdown",
   "metadata": {},
   "source": [
    "Se puede ver que es una distribución asimetrica, donde los valores se concentran alrededor de 5, ya que es el valor que se espera tome la distribución al repetirse muchas veces el experimento."
   ]
  },
  {
   "cell_type": "markdown",
   "metadata": {},
   "source": [
    "* **Distribucción Bernoulli**"
   ]
  },
  {
   "cell_type": "markdown",
   "metadata": {},
   "source": [
    "Esta distribución tambien se da en datos de tipo discreto, y se da cuando se tiene un evento con solo 2 posibles resultados, generalmente denominados como exito o fracaso, y hay una probabilidad de ocurrencia asociada con el exito. Un ejemplo de esta distribución es el tipico lanzamineto de monedas en donde se tiene solo dos opciones, cara o sello, y una probabilidad de 0.5 de de que salga cara o sello (a menos que la moneda esté trucada). Otro ejemplo seria los resultados de una prueba diagnostica para alguna enfermedad con una alta tasa de contagio, y se desea saber si se tiene o no la enfermedad, para lo cual hay una probabilidad del 0.6 de contraer la enfermedad. \n",
    "\n",
    "**Espacio muestral:** {0,1} (el exito se considera como 1, y el fracaso 0)\n",
    "\n",
    "**Parámetro:** \n",
    "Esta distribución solo tiene un parametro: $p$ . <br>\n",
    "$p$ corresponde a la probabilidad de tener exito, y toma valores de $0 <= p <= 1$.\n",
    "\n",
    "Para una variable aleatoria discreta $X$ que siga una distribución Bernoulli, el valor esperado $E(X)=p$, al igual que la varianza $Var(X) = p(1-p)$.\n",
    "\n",
    "**Función de probabilidad:**\n",
    "\n",
    "$P(X=k) = p^{k}(1-p)^{1-k}$ (siempre y cuando k sea un valor en el espacio muestral de la distrbiucción, de lo contrario la función de probabilidad toma valor 0)\n",
    " \n",
    "Con la función de probabilidad, se puede saber la probabilidad de que la variable aleatoria discreta $X$ tome un valor $k$, es decir, que sea 0 o 1. En el ejemplo de las monedas, podriamos considerar un exito que se tenga cara como resultado, y un fracaso que salga 0, cuando la probabilidad de sacar cara es 0.5."
   ]
  },
  {
   "cell_type": "markdown",
   "metadata": {},
   "source": [
    "Ejemplo de una distribución Bernoulli, donde  $p$ toma el valor de 0.1, y se repite el evento 10000 veces:"
   ]
  },
  {
   "cell_type": "code",
   "execution_count": 8,
   "metadata": {
    "tags": [
     "hide-input"
    ]
   },
   "outputs": [
    {
     "data": {
      "image/png": "[encoded data removed]",
      "text/plain": [
       "<Figure size 640x480 with 1 Axes>"
      ]
     },
     "metadata": {},
     "output_type": "display_data"
    }
   ],
   "source": [
    "x = np.random.binomial(n=1, size=10000, p=0.5)\n",
    "count, bins, ignored = plt.hist(x, 10, density=False)\n",
    "plt.show()"
   ]
  },
  {
   "cell_type": "markdown",
   "metadata": {},
   "source": [
    "A partir de la distribución de Bernoulli, surgen otras distribuciones, como la Distribución Binomial, la cual permite modelar la ocurrencia de $k$ exitos cuando se repite $n$ veces un experimento (o cuando ocurre muchas veces un evento), y los resultados de los eventos no se ven influenciados por lo resultados de eventos anteriores. Esta distribución tambien es de discreta, con un espacio muestral de {0, ..., $\\inf$}"
   ]
  },
  {
   "cell_type": "markdown",
   "metadata": {},
   "source": [
    "* **Distribucción Normal**"
   ]
  },
  {
   "cell_type": "markdown",
   "metadata": {},
   "source": [
    "Esta distribución se da en datos de tipo continuo, y la base de muchos de los metodos estadisticos. Es un ejemplo de esta distribución, seria las mediciones de estatura de un grupo de pacientes que van a revisión de medico general, las calificaciones de un grupo de estudiantes o mediciones de la longitud de barras de hierro producidas por maquinas.\n",
    "\n",
    "**Espacio muestral:** Todos los reales $\\R$.\n",
    "\n",
    "**Parámetro:** \n",
    "Esta distribución solo tiene dos parametros: $\\mu$ y $\\sigma^{2}$. <br>\n",
    "$\\mu$ se considera la media o el valor al que tienden la variable aleatoria con distribución normal, y toma valores de todos los reales $\\R$. Por otro lado, $\\sigma^{2}$ es la varianza de los datos, con $\\sigma^{2} > 0$.\n",
    "\n",
    "Para una variable aleatoria discreta $X$ que siga una distribución Normal, el valor esperado $E(X)=\\mu$, al igual que la varianza $Var(X) = \\sigma^{2}$. Como existen diferentes variaciones de la distribución normal, la esperanza y varianza no son iguales. Tomando de ejemplo la Distribución normal estandar, la cual es la mas utilizada en estadistica, tenemos que para esta distribución $\\mu$ = 0 y $\\sigma^{2}$ = 1. \n",
    "\n",
    "**Función de densidad:**\n",
    "\n",
    "$f(x)= \\frac{1}{\\sqrt{2\\pi\\sigma^{2}}}e^{\\frac{(x-\\mu)^{2}}{2\\sigma^{2}}}$\n",
    " \n",
    "A diferencia de las distribuciones discretas, con la función de densidad no es posible saber la probabilidad de que $X$ tome un valor exacto, ya que este valor siempre será 0. Para las dsitrbuciones continuas, se hace uso de la Función de distribución acumulada, para determinar la probabilidad de que $X$ se menor o mayor a un valor, o que se encuentre en un intervalo especifico.\n",
    "\n",
    "**Función de distribución acumulada:**\n",
    "\n",
    "$F(t) = P(X <= t) =  \\int_{-\\infty}^{t} \\frac{1}{\\sqrt{2\\pi\\sigma^{2}}}e^{\\frac{(x-\\mu)^{2}}{2\\sigma^{2}}}dx$\n",
    "\n",
    "Con esto se podrian dar respuesta a preguntas como ¿Cual es la probabilidad de que la estatura de los pacientes sea mayor a 160.5 cm, o ¿Cual es la probabilidad de que los estudiantes pierdan el examen con una nota menor a 3?.\n"
   ]
  },
  {
   "cell_type": "markdown",
   "metadata": {},
   "source": [
    "Ejemplo de una distribución Normal, donde  $\\mu$ = 0, $\\sigma^{2}$ = 1, y se repite el evento 10000 veces:"
   ]
  },
  {
   "cell_type": "code",
   "execution_count": 9,
   "metadata": {
    "tags": [
     "hide-input"
    ]
   },
   "outputs": [
    {
     "data": {
      "image/png": "[encoded data removed]",
      "text/plain": [
       "<Figure size 640x480 with 1 Axes>"
      ]
     },
     "metadata": {},
     "output_type": "display_data"
    }
   ],
   "source": [
    "x = np.random.normal(loc=0, scale=1, size=10000)\n",
    "count, bins, ignored = plt.hist(x, 10, density=False)\n",
    "plt.show()"
   ]
  },
  {
   "cell_type": "markdown",
   "metadata": {},
   "source": [
    "#### B.  Defina media, mediana y moda."
   ]
  },
  {
   "cell_type": "markdown",
   "metadata": {},
   "source": [
    "* Media\n",
    "<br>\n",
    "La media es una medida de tendencia central, que sirve para identificar hacia que valor se inclina una distribución de datos númericos. Se calcula realizando la suma de todos los valores númericos, y dividiento esa suma por la cantidad de datos. Es una de las medidas de tendecia central mas utilizada, pero se ve influenciada por valores extremos que se puedan tener en la distribución de datos. Por esto ultimo han surgido otras derivaciones de la media, como la media truncada, que buscan dismunir o eliminar la influencia de los datos extrmeos o atipicos sobre el valor de la media."
   ]
  },
  {
   "cell_type": "markdown",
   "metadata": {},
   "source": [
    "Ejemplo:\n",
    "\n",
    "Se tiene de ejemplo el siguiente vector de números, el cual tiene la dsitribución mostrada en el historgrama"
   ]
  },
  {
   "cell_type": "code",
   "execution_count": 10,
   "metadata": {},
   "outputs": [
    {
     "data": {
      "image/png": "[encoded data removed]",
      "text/plain": [
       "<Figure size 640x480 with 1 Axes>"
      ]
     },
     "metadata": {},
     "output_type": "display_data"
    }
   ],
   "source": [
    "v = [1, 2, 2, 4, 3, 3, 0, 0, 5, 5, 5]\n",
    "count, bins, ignored = plt.hist(v, 10, density=False)\n",
    "plt.show()\n"
   ]
  },
  {
   "cell_type": "markdown",
   "metadata": {},
   "source": [
    "La media para estos datos seria:"
   ]
  },
  {
   "cell_type": "code",
   "execution_count": 11,
   "metadata": {},
   "outputs": [
    {
     "name": "stdout",
     "output_type": "stream",
     "text": [
      "Media: 2.727272727272727\n"
     ]
    }
   ],
   "source": [
    "media = np.sum(v)/len(v)\n",
    "print(\"Media:\",media)"
   ]
  },
  {
   "cell_type": "markdown",
   "metadata": {},
   "source": [
    "* Mediana\n",
    "<br>\n",
    "La mediana es otra medida de tendencia central, que permite dividir lo datos en dos partes, siendo el punto central de la distribución de datos. \n",
    "Para obtener la mediana, primero se hace un ordenamiento de los datos, de manera ascendente, y se selecciona el valor que se encuentra en el punto central, teniendo igual cantidad de datos por debajo y por encima de ese valor. Cuando la cantidad de datos es impar, la mediana se encuentra facilmente de esa forma, pero cuando los datos son pares, se escogen los dos valores en la mitad de los datos, manteniendo la misma cantidad de datos por debajo y por encima de esos dos valores. La media de de los dos valores centrales seria la mediana. La mediana tiene la ventaja sobre la media, de que no es sensible a los valores extremos o atipicos, por lo que a veces se prefiere utilizarla por sobre la media, para describir un conjunto de datos.\n",
    "<br>\n",
    "\n",
    "Para el ejemplo anterior, la mediana es:\n"
   ]
  },
  {
   "cell_type": "code",
   "execution_count": 12,
   "metadata": {},
   "outputs": [
    {
     "name": "stdout",
     "output_type": "stream",
     "text": [
      "[0, 0, 1, 2, 2, 3, 3, 4, 5, 5, 5]\n",
      "Mediana: 3.0\n"
     ]
    }
   ],
   "source": [
    "v.sort()\n",
    "print(v)\n",
    "mediana = np.median(v)\n",
    "print(\"Mediana:\",mediana)"
   ]
  },
  {
   "cell_type": "markdown",
   "metadata": {},
   "source": [
    "En este caso se tiene un número de datos impar, y al ordenar los datos, el punto central es 3."
   ]
  },
  {
   "cell_type": "markdown",
   "metadata": {},
   "source": [
    "* Moda\n",
    "<br>\n",
    "La moda tambien es una medida de tendencia centrar, que permite saber cual es el valor mas frecuente en un conjunto de datos númericos (generalmente discretos) o cual es la categoria mas frecuente para datos de tipo categoricos. Se calcula simplemente realizando un conteo de los datos, y eligiendo el valor con mayor frecuencia.\n"
   ]
  },
  {
   "cell_type": "code",
   "execution_count": 13,
   "metadata": {},
   "outputs": [
    {
     "name": "stdout",
     "output_type": "stream",
     "text": [
      "vector\n",
      "5    3\n",
      "0    2\n",
      "2    2\n",
      "3    2\n",
      "1    1\n",
      "4    1\n",
      "Name: count, dtype: int64\n",
      "Moda: 5\n"
     ]
    }
   ],
   "source": [
    "df = pd.DataFrame({\"vector\":v})\n",
    "print(df[\"vector\"].value_counts())\n",
    "print(\"Moda:\", 5)"
   ]
  },
  {
   "cell_type": "markdown",
   "metadata": {},
   "source": [
    "En este caso el valor con mayor frecuencia es 5, que se puede encontrar 3 veces en el conjunto de datos, por lo que la moda es 5."
   ]
  },
  {
   "cell_type": "markdown",
   "metadata": {},
   "source": [
    "#### C.  ¿Cómo identificar datos atípicos?"
   ]
  },
  {
   "cell_type": "markdown",
   "metadata": {},
   "source": [
    "Para identificar datos atipicos se pueden tener tres enfoques:\n",
    "* Datos atipicos considerando los datos univariantes: solo interesan los datos atipicos para una sola variable.\n",
    "* Datos atipicos considerando los datos bivariantes: interesan los datos atipicos para la relación de dos variables\n",
    "* Datos atipicos considerando los datos multivariantes: interesan los datos atipicos para la relación de un conjunto de datos con mas de 2 variables.\n",
    "\n",
    "En el caso de querer identificar los casos atipicos univariantes, se pueden utilzar los siguientes metodos:\n",
    "* **Utilizar el criterio del rango intercuartílico (IQR):**\n",
    "El IQR se calcula teniendo en cuenta los cuartiles de un conjunto de datos, Q1 y Q3, los cuales representan los puntos que separan los datos en un 25% y 75% respectivamente. Restando el Q3 con el Q1 se obtiene el IQR.\n",
    "\n",
    "A partir del IQR se plantean dos limites:\n",
    "\n",
    "$$LI = Q1 -1.5IQR $$\n",
    "$$LS = Q3 +1.5IQR $$\n",
    "\n",
    "Todos los datos que se encuentre por debajo de LI o port encima de LS se consideran valores atipicos. Similar se podria realizar teniendo en cuenta los percentiles, considerando el percentil 2.5 y el 97.5 para calcular el IQR.\n",
    "Tambien se podria utilizar un bloxplot, para identificar visualmente los puntos que son considerados atipicos."
   ]
  },
  {
   "cell_type": "code",
   "execution_count": 14,
   "metadata": {},
   "outputs": [
    {
     "data": {
      "text/html": [
       "<div>\n",
       "<style scoped>\n",
       "    .dataframe tbody tr th:only-of-type {\n",
       "        vertical-align: middle;\n",
       "    }\n",
       "\n",
       "    .dataframe tbody tr th {\n",
       "        vertical-align: top;\n",
       "    }\n",
       "\n",
       "    .dataframe thead th {\n",
       "        text-align: right;\n",
       "    }\n",
       "</style>\n",
       "<table border=\"1\" class=\"dataframe\">\n",
       "  <thead>\n",
       "    <tr style=\"text-align: right;\">\n",
       "      <th></th>\n",
       "      <th>vector</th>\n",
       "    </tr>\n",
       "  </thead>\n",
       "  <tbody>\n",
       "    <tr>\n",
       "      <th>0</th>\n",
       "      <td>-10</td>\n",
       "    </tr>\n",
       "    <tr>\n",
       "      <th>8</th>\n",
       "      <td>100</td>\n",
       "    </tr>\n",
       "    <tr>\n",
       "      <th>9</th>\n",
       "      <td>123</td>\n",
       "    </tr>\n",
       "  </tbody>\n",
       "</table>\n",
       "</div>"
      ],
      "text/plain": [
       "   vector\n",
       "0     -10\n",
       "8     100\n",
       "9     123"
      ]
     },
     "execution_count": 14,
     "metadata": {},
     "output_type": "execute_result"
    }
   ],
   "source": [
    "df = pd.DataFrame({\"vector\":[-10,0,0,1,3,5,2,7,100, 123]})\n",
    "x = np.quantile(df[\"vector\"],  [0.25,0.5,0.75])\n",
    "Q1 = x[0]\n",
    "Q3 = x[2]\n",
    "IQR = Q3 - Q1 \n",
    "LI = Q1 - 1.5*IQR\n",
    "LS = Q3 + 1.5*IQR\n",
    "df.loc[(df[\"vector\"] < LI) | (df[\"vector\"] > LS)]"
   ]
  },
  {
   "cell_type": "markdown",
   "metadata": {},
   "source": [
    "Se logra apreciar que para este conjunto de datos hay 3 atipicos, 1 para el limite inferior y 2 para el limite superior."
   ]
  },
  {
   "cell_type": "markdown",
   "metadata": {},
   "source": [
    "* **Filtro de Hampel:** Tambien se puede usar el filtro de Hampel, que considera un itervalo conformado por la mediana ($\\tilde{X}$), y la mediana de las desviaciones absolutas, $MAD = mediana(|X_{i}- \\tilde{X}|)$.\n",
    "\n",
    "    En este caso los limites del intervalo son los siguientes:\n",
    "    \n",
    "    $$LI = \\tilde{X} - 3\\cdot MAD$$\n",
    "    $$LS = \\tilde{X} + 3\\cdot MAD$$"
   ]
  },
  {
   "cell_type": "code",
   "execution_count": 15,
   "metadata": {},
   "outputs": [
    {
     "data": {
      "text/html": [
       "<div>\n",
       "<style scoped>\n",
       "    .dataframe tbody tr th:only-of-type {\n",
       "        vertical-align: middle;\n",
       "    }\n",
       "\n",
       "    .dataframe tbody tr th {\n",
       "        vertical-align: top;\n",
       "    }\n",
       "\n",
       "    .dataframe thead th {\n",
       "        text-align: right;\n",
       "    }\n",
       "</style>\n",
       "<table border=\"1\" class=\"dataframe\">\n",
       "  <thead>\n",
       "    <tr style=\"text-align: right;\">\n",
       "      <th></th>\n",
       "      <th>vector</th>\n",
       "    </tr>\n",
       "  </thead>\n",
       "  <tbody>\n",
       "    <tr>\n",
       "      <th>0</th>\n",
       "      <td>-10</td>\n",
       "    </tr>\n",
       "    <tr>\n",
       "      <th>8</th>\n",
       "      <td>100</td>\n",
       "    </tr>\n",
       "    <tr>\n",
       "      <th>9</th>\n",
       "      <td>123</td>\n",
       "    </tr>\n",
       "  </tbody>\n",
       "</table>\n",
       "</div>"
      ],
      "text/plain": [
       "   vector\n",
       "0     -10\n",
       "8     100\n",
       "9     123"
      ]
     },
     "execution_count": 15,
     "metadata": {},
     "output_type": "execute_result"
    }
   ],
   "source": [
    "median_v = np.median(df[\"vector\"])\n",
    "mad = np.median([abs(number-median_v) for number in df[\"vector\"]])\n",
    "LI = median_v - 3*mad\n",
    "LS = median_v + 3*mad\n",
    "df.loc[(df[\"vector\"] < LI) | (df[\"vector\"] > LS)]"
   ]
  },
  {
   "cell_type": "markdown",
   "metadata": {},
   "source": [
    "Con este metodo se obtienen los mismo datos atipicos obtenidos con el metodo del rango intercuartílico."
   ]
  },
  {
   "cell_type": "markdown",
   "metadata": {},
   "source": [
    "* **Pruebas estadisticas:** Tambien se pueden utilizar diferentes pruebas estadicticas que ayudan a determinar si un dato es atipico, como la Prueba de Grubbs, la Prueba de Dixon (estas solo permiten evaluar un dato unico al tiempo) y la Prueba de Rosner (esta si permite evaluar todos los datos para detefctar varios atipicos al tiempo.)"
   ]
  },
  {
   "cell_type": "markdown",
   "metadata": {},
   "source": [
    "Para detectar datos atipicos para datos bivariantes se pueden utilizar las siguientes tecnicas:\n",
    "* **Prueba de Bonferroni:** Esta prueba se utiliza para detectar si un punto resultantes de la relación de dos variables es atipico. Esta prueba tiene las siguientes hipotesis:\n",
    "\n",
    "$H_{0}:$ la observación i-ésima NO es un atipico\n",
    "\n",
    "$H_{1}:$ la observación i-ésima SI es un atipico\n",
    "\n",
    "(esta prueba se puede realizar principalmente desde el lenguaje R)\n",
    "\n",
    "* **Diagrama de dispersión:** el diagrama tambien puede ayudar a identificar los valores atipicos visualmente, pero no es metodo muy exacto.\n",
    "\n",
    "\n"
   ]
  },
  {
   "cell_type": "markdown",
   "metadata": {},
   "source": [
    "Para detectar datos atipicos para datos multivariantes se puede usar el siguiente metodo:\n",
    "* **Distancia de Mahalanobis**: este metodo es util cuando se estan realizando analisis multivariantes, y permite detectar atipicos multivariante para todo el conjunto de datos, ya que mide la distancia de de un punto (un registro) al centroide de las observaciones. En palabras simples, lo que se hace con este metodo es calcular el cuadrado de la distancia de Mahalanobis ($D^{2}$) para cada registro del conjunto de datos (registros=filas), este cuadrado se asume tiene una distribución $\\chi ^{2}$ con grados de libertad, por lo que se aplica una prueba estadistica $\\chi ^{2}$ que evalue cada distancia para determinar si es atipico o no, considerando un nivel de significancia ya sea de 0.001, 0.05 o 0.1. \n",
    "Las hipotesis de la prueba serían:\n",
    "\n",
    "$H_{0}:$ El punto NO es atipico\n",
    "$H_{1}:$ El punto SI es atipico\n",
    "\n",
    "Para cada registro se obtendria un p-valor, que en caso de ser menor al nivel de significancia escogido, indica que el resgistro si se podria considerar atipico estadisticamente ( rechazo $H_{0}$)"
   ]
  },
  {
   "cell_type": "markdown",
   "metadata": {},
   "source": [
    "Además de utilizar todos estos metodos, tambien es importante tener conocimiento sobre el contexto de los datos, para determinar si los datos realmente se consideran atipicos, ya que en muchos caso, lo datos si pueden ser extremos al resto del conjunto de datos, pero pueden estar justificados por el mismo comportamiento de los datos."
   ]
  },
  {
   "cell_type": "markdown",
   "metadata": {},
   "source": [
    "#### D.  ¿De qué forma trataría con datos faltantes?"
   ]
  },
  {
   "cell_type": "markdown",
   "metadata": {},
   "source": [
    "Con los datos faltantes se podrían realizar dos operaciones: eliminarlos o imputarlos. Para determinar que se podria hacer con los datos faltantes seguiria los siguientes pasos:\n",
    "\n",
    "1. Identificar el origen de los datos faltantes, es decir, que tipo de datos faltantes son. Estos pueden ser principalmente de 3 tipos: Faltantes no al azar, Faltantes al azar, Faltantes completamente al azar. Dependiendo de que tipo de datos faltantes se tenga, se podrian eliminar o realizar una imputación sobre los datos. Ya que no todos se podrian eliminar tan facilmente, por perdida de información que pueda afectar el análisis, o realizar una imputación, que puedo que no haga sentido en los datos.\n",
    "\n",
    "2. Si se tienen faltantes del tipo no al azar, se podrian eliminar los registros atipicos\n",
    "Eliminarlos no seria la mejor opción, pero en caso de hacerlo, verificaria si la cantidad de datos faltantes es menor al 5% de los datos de la variable, y en caso de serlo, se podrian eliminar los registros. Si la cantidad de fatos faltantes es superior, lo mejor es tratar de realizar una imputación de datos.\n",
    "\n",
    "3. La imputación consistiria en rellenar el espacio del dato faltante con otro valor.\n",
    "Por lo general para datos númericos, se imputa el dato faltante con la media, la mediana o la moda, principalmente se elige la mediana para evitar afectar la distribucción de los datos. Tambien se puede aplicar otras tecnicas de imputaciones un poco mas elaboradas, como es la imputación iterativa, la cual busca realizar un proceso parecido a una predicción para rellenar el dato falante con un valor mas cercano a la realidad, ya que considera no solo los valores del campo de interes, sino tambien los datos de las otras columnas para encontrar el valor mas ajustado.\n",
    "\n",
    "Para datos categoricos, lo común es utilizar la moda para reemplazar a los datos faltantes.\n",
    "\n"
   ]
  },
  {
   "cell_type": "markdown",
   "metadata": {},
   "source": [
    "Ejemplos de imputación:"
   ]
  },
  {
   "cell_type": "code",
   "execution_count": 16,
   "metadata": {},
   "outputs": [
    {
     "name": "stdout",
     "output_type": "stream",
     "text": [
      "   Estatura  Peso\n",
      "0     150.0    45\n",
      "1     176.0    68\n",
      "2     156.0    50\n",
      "3       NaN    70\n",
      "4     180.0    80\n",
      "5     150.0    47\n",
      "6     160.0    68\n",
      "7     165.0    64\n",
      "8     150.0    60\n",
      "9       NaN    72\n"
     ]
    }
   ],
   "source": [
    "df = pd.DataFrame({\"Estatura\": [150, 176,156, None, 180, 150, 160, 165, 150, None],\n",
    "                   \"Peso\": [45, 68, 50, 70, 80, 47, 68, 64, 60, 72]})\n",
    "print(df)"
   ]
  },
  {
   "cell_type": "code",
   "execution_count": 17,
   "metadata": {},
   "outputs": [
    {
     "data": {
      "image/png": "[encoded data removed]",
      "text/plain": [
       "<Figure size 640x480 with 1 Axes>"
      ]
     },
     "metadata": {},
     "output_type": "display_data"
    }
   ],
   "source": [
    "count, bins, ignored = plt.hist(df[\"Estatura\"], 10, density=False)\n",
    "plt.show()"
   ]
  },
  {
   "cell_type": "markdown",
   "metadata": {},
   "source": [
    "* Imputación simple por media:\n",
    "\n",
    "Aqui se logra ver que los datos faltantes fueron reemplazdos por la media = 160.875"
   ]
  },
  {
   "cell_type": "code",
   "execution_count": 18,
   "metadata": {},
   "outputs": [
    {
     "name": "stdout",
     "output_type": "stream",
     "text": [
      "[[150.     45.   ]\n",
      " [176.     68.   ]\n",
      " [156.     50.   ]\n",
      " [160.875  70.   ]\n",
      " [180.     80.   ]\n",
      " [150.     47.   ]\n",
      " [160.     68.   ]\n",
      " [165.     64.   ]\n",
      " [150.     60.   ]\n",
      " [160.875  72.   ]]\n"
     ]
    }
   ],
   "source": [
    "from sklearn.impute import SimpleImputer\n",
    "imp_mean = SimpleImputer(strategy=\"mean\")\n",
    "imp_mean.fit(df)\n",
    "print(imp_mean.transform(df))\n"
   ]
  },
  {
   "cell_type": "code",
   "execution_count": 19,
   "metadata": {},
   "outputs": [
    {
     "data": {
      "image/png": "[encoded data removed]",
      "text/plain": [
       "<Figure size 640x480 with 1 Axes>"
      ]
     },
     "metadata": {},
     "output_type": "display_data"
    }
   ],
   "source": [
    "count, bins, ignored = plt.hist(imp_mean.transform(df)[:,0], 10, density=False)\n",
    "plt.show()"
   ]
  },
  {
   "cell_type": "markdown",
   "metadata": {},
   "source": [
    "* Imputación simple por la mediana\n",
    "\n",
    "Aqui se logra ver que los datos faltantes fueron reemplazdos por la mediana = 158"
   ]
  },
  {
   "cell_type": "code",
   "execution_count": 20,
   "metadata": {},
   "outputs": [
    {
     "name": "stdout",
     "output_type": "stream",
     "text": [
      "[[150.  45.]\n",
      " [176.  68.]\n",
      " [156.  50.]\n",
      " [158.  70.]\n",
      " [180.  80.]\n",
      " [150.  47.]\n",
      " [160.  68.]\n",
      " [165.  64.]\n",
      " [150.  60.]\n",
      " [158.  72.]]\n"
     ]
    }
   ],
   "source": [
    "from sklearn.impute import SimpleImputer\n",
    "imp_mean = SimpleImputer(strategy=\"median\")\n",
    "imp_mean.fit(df)\n",
    "print(imp_mean.transform(df))\n"
   ]
  },
  {
   "cell_type": "code",
   "execution_count": 21,
   "metadata": {},
   "outputs": [
    {
     "data": {
      "image/png": "[encoded data removed]",
      "text/plain": [
       "<Figure size 640x480 with 1 Axes>"
      ]
     },
     "metadata": {},
     "output_type": "display_data"
    }
   ],
   "source": [
    "count, bins, ignored = plt.hist(imp_mean.transform(df)[:,0], 10, density=False)\n",
    "plt.show()"
   ]
  },
  {
   "cell_type": "markdown",
   "metadata": {},
   "source": [
    "* Imputación simple por la moda\n",
    "\n",
    "Aqui se logra ver que los datos faltantes fueron reemplazados por la moda = 150."
   ]
  },
  {
   "cell_type": "code",
   "execution_count": 22,
   "metadata": {},
   "outputs": [
    {
     "name": "stdout",
     "output_type": "stream",
     "text": [
      "[[150.  45.]\n",
      " [176.  68.]\n",
      " [156.  50.]\n",
      " [150.  70.]\n",
      " [180.  80.]\n",
      " [150.  47.]\n",
      " [160.  68.]\n",
      " [165.  64.]\n",
      " [150.  60.]\n",
      " [150.  72.]]\n"
     ]
    }
   ],
   "source": [
    "from sklearn.impute import SimpleImputer\n",
    "imp_mean = SimpleImputer(strategy=\"most_frequent\")\n",
    "imp_mean.fit(df)\n",
    "print(imp_mean.transform(df))\n"
   ]
  },
  {
   "cell_type": "code",
   "execution_count": 23,
   "metadata": {},
   "outputs": [
    {
     "data": {
      "image/png": "[encoded data removed]",
      "text/plain": [
       "<Figure size 640x480 with 1 Axes>"
      ]
     },
     "metadata": {},
     "output_type": "display_data"
    }
   ],
   "source": [
    "count, bins, ignored = plt.hist(imp_mean.transform(df)[:,0], 10, density=False)\n",
    "plt.show()"
   ]
  },
  {
   "cell_type": "markdown",
   "metadata": {},
   "source": [
    "* Imputación Iterativa:\n",
    "\n",
    "Con esta tecnica se consieran los valores de la variable peso para estimar los valores faltantes de la variables estatura:"
   ]
  },
  {
   "cell_type": "code",
   "execution_count": 24,
   "metadata": {},
   "outputs": [
    {
     "name": "stdout",
     "output_type": "stream",
     "text": [
      "[[150.          45.        ]\n",
      " [176.          68.        ]\n",
      " [156.          50.        ]\n",
      " [168.58536462  70.        ]\n",
      " [180.          80.        ]\n",
      " [150.          47.        ]\n",
      " [160.          68.        ]\n",
      " [165.          64.        ]\n",
      " [150.          60.        ]\n",
      " [170.16697787  72.        ]]\n"
     ]
    }
   ],
   "source": [
    "\n",
    "from sklearn.experimental import enable_iterative_imputer\n",
    "from sklearn.impute import IterativeImputer\n",
    "imp_mean = IterativeImputer(random_state=0)\n",
    "imp_mean.fit(df)\n",
    "print(imp_mean.transform(df))\n"
   ]
  },
  {
   "cell_type": "code",
   "execution_count": 25,
   "metadata": {},
   "outputs": [
    {
     "data": {
      "image/png": "[encoded data removed]",
      "text/plain": [
       "<Figure size 640x480 with 1 Axes>"
      ]
     },
     "metadata": {},
     "output_type": "display_data"
    }
   ],
   "source": [
    "count, bins, ignored = plt.hist(imp_mean.transform(df)[:,0], 10, density=False)\n",
    "plt.show()"
   ]
  },
  {
   "cell_type": "markdown",
   "metadata": {},
   "source": [
    "Lo mejor es escoger el metodo que permita preservar lo mayor posible la distribución de los datos, de lo contrario los analisis o inferencias que se realicen no serán acordes a la realidad de los datos, y podrian estar erradas."
   ]
  },
  {
   "cell_type": "markdown",
   "metadata": {},
   "source": [
    "## ANÁLISIS Y MODELADO"
   ]
  },
  {
   "cell_type": "markdown",
   "metadata": {},
   "source": [
    "### 3.  ANÁLISIS EXPLORATORIO"
   ]
  },
  {
   "cell_type": "markdown",
   "metadata": {},
   "source": [
    "Realice un análisis exploratorio en Python de los datos encontrados en el archivo adjunto en el correo. Este punto es de análisis abierto y no hay un resultado esperado. "
   ]
  },
  {
   "cell_type": "code",
   "execution_count": 26,
   "metadata": {},
   "outputs": [
    {
     "data": {
      "text/html": [
       "<div>\n",
       "<style scoped>\n",
       "    .dataframe tbody tr th:only-of-type {\n",
       "        vertical-align: middle;\n",
       "    }\n",
       "\n",
       "    .dataframe tbody tr th {\n",
       "        vertical-align: top;\n",
       "    }\n",
       "\n",
       "    .dataframe thead th {\n",
       "        text-align: right;\n",
       "    }\n",
       "</style>\n",
       "<table border=\"1\" class=\"dataframe\">\n",
       "  <thead>\n",
       "    <tr style=\"text-align: right;\">\n",
       "      <th></th>\n",
       "      <th>PERIODO</th>\n",
       "      <th>ID CLIENTE</th>\n",
       "      <th>DEPARTAMENTO</th>\n",
       "      <th>CLASIFICACION</th>\n",
       "      <th>CONSUMO</th>\n",
       "      <th>TIPO CONSUMO</th>\n",
       "    </tr>\n",
       "  </thead>\n",
       "  <tbody>\n",
       "    <tr>\n",
       "      <th>0</th>\n",
       "      <td>1/1/2021</td>\n",
       "      <td>1068535</td>\n",
       "      <td>ATLANTICO</td>\n",
       "      <td>RESIDENCIAL</td>\n",
       "      <td>0</td>\n",
       "      <td>REAL</td>\n",
       "    </tr>\n",
       "    <tr>\n",
       "      <th>1</th>\n",
       "      <td>1/1/2021</td>\n",
       "      <td>1095302</td>\n",
       "      <td>ATLANTICO</td>\n",
       "      <td>COMERCIAL</td>\n",
       "      <td>21</td>\n",
       "      <td>REAL</td>\n",
       "    </tr>\n",
       "    <tr>\n",
       "      <th>2</th>\n",
       "      <td>1/1/2021</td>\n",
       "      <td>1131454</td>\n",
       "      <td>ATLANTICO</td>\n",
       "      <td>RESIDENCIAL</td>\n",
       "      <td>0</td>\n",
       "      <td>REAL</td>\n",
       "    </tr>\n",
       "    <tr>\n",
       "      <th>3</th>\n",
       "      <td>1/1/2021</td>\n",
       "      <td>1134487</td>\n",
       "      <td>ATLANTICO</td>\n",
       "      <td>COMERCIAL</td>\n",
       "      <td>132</td>\n",
       "      <td>REAL</td>\n",
       "    </tr>\n",
       "    <tr>\n",
       "      <th>4</th>\n",
       "      <td>1/1/2021</td>\n",
       "      <td>1140821</td>\n",
       "      <td>ATLANTICO</td>\n",
       "      <td>RESIDENCIAL</td>\n",
       "      <td>0</td>\n",
       "      <td>REAL</td>\n",
       "    </tr>\n",
       "  </tbody>\n",
       "</table>\n",
       "</div>"
      ],
      "text/plain": [
       "    PERIODO  ID CLIENTE DEPARTAMENTO CLASIFICACION  CONSUMO TIPO CONSUMO\n",
       "0  1/1/2021     1068535    ATLANTICO   RESIDENCIAL        0         REAL\n",
       "1  1/1/2021     1095302    ATLANTICO     COMERCIAL       21         REAL\n",
       "2  1/1/2021     1131454    ATLANTICO   RESIDENCIAL        0         REAL\n",
       "3  1/1/2021     1134487    ATLANTICO     COMERCIAL      132         REAL\n",
       "4  1/1/2021     1140821    ATLANTICO   RESIDENCIAL        0         REAL"
      ]
     },
     "execution_count": 26,
     "metadata": {},
     "output_type": "execute_result"
    }
   ],
   "source": [
    "df = pd.read_csv(\"C:\\\\Users\\\\kaes1\\\\Documents\\\\Python Scripts\\\\DatosPruebaAnalisis.csv\")\n",
    "df.head()"
   ]
  },
  {
   "cell_type": "code",
   "execution_count": 27,
   "metadata": {},
   "outputs": [
    {
     "name": "stdout",
     "output_type": "stream",
     "text": [
      "<class 'pandas.core.frame.DataFrame'>\n",
      "RangeIndex: 312 entries, 0 to 311\n",
      "Data columns (total 6 columns):\n",
      " #   Column         Non-Null Count  Dtype \n",
      "---  ------         --------------  ----- \n",
      " 0   PERIODO        312 non-null    object\n",
      " 1   ID CLIENTE     312 non-null    int64 \n",
      " 2   DEPARTAMENTO   312 non-null    object\n",
      " 3   CLASIFICACION  312 non-null    object\n",
      " 4   CONSUMO        312 non-null    int64 \n",
      " 5   TIPO CONSUMO   312 non-null    object\n",
      "dtypes: int64(2), object(4)\n",
      "memory usage: 14.8+ KB\n"
     ]
    }
   ],
   "source": [
    "df.info()"
   ]
  },
  {
   "cell_type": "markdown",
   "metadata": {},
   "source": [
    "Se tienen 312 registros con 6 columnas, con aparentemente ningún datos faltante."
   ]
  },
  {
   "cell_type": "markdown",
   "metadata": {},
   "source": [
    "* Validación de datos faltantes"
   ]
  },
  {
   "cell_type": "code",
   "execution_count": 28,
   "metadata": {},
   "outputs": [
    {
     "data": {
      "text/plain": [
       "PERIODO          0\n",
       "ID CLIENTE       0\n",
       "DEPARTAMENTO     0\n",
       "CLASIFICACION    0\n",
       "CONSUMO          0\n",
       "TIPO CONSUMO     0\n",
       "dtype: int64"
      ]
     },
     "execution_count": 28,
     "metadata": {},
     "output_type": "execute_result"
    }
   ],
   "source": [
    "df.isna().sum()"
   ]
  },
  {
   "cell_type": "markdown",
   "metadata": {},
   "source": [
    "No existen datos faltantes en el conjunto de datos."
   ]
  },
  {
   "cell_type": "markdown",
   "metadata": {},
   "source": [
    "* Validación de datos duplicados"
   ]
  },
  {
   "cell_type": "code",
   "execution_count": 29,
   "metadata": {},
   "outputs": [
    {
     "data": {
      "text/plain": [
       "0"
      ]
     },
     "execution_count": 29,
     "metadata": {},
     "output_type": "execute_result"
    }
   ],
   "source": [
    "df.duplicated().sum()"
   ]
  },
  {
   "cell_type": "markdown",
   "metadata": {},
   "source": [
    "No existen datos duplicados."
   ]
  },
  {
   "cell_type": "markdown",
   "metadata": {},
   "source": [
    "#### Descripción númerica de los datos"
   ]
  },
  {
   "cell_type": "code",
   "execution_count": 30,
   "metadata": {},
   "outputs": [
    {
     "data": {
      "text/html": [
       "<div>\n",
       "<style scoped>\n",
       "    .dataframe tbody tr th:only-of-type {\n",
       "        vertical-align: middle;\n",
       "    }\n",
       "\n",
       "    .dataframe tbody tr th {\n",
       "        vertical-align: top;\n",
       "    }\n",
       "\n",
       "    .dataframe thead th {\n",
       "        text-align: right;\n",
       "    }\n",
       "</style>\n",
       "<table border=\"1\" class=\"dataframe\">\n",
       "  <thead>\n",
       "    <tr style=\"text-align: right;\">\n",
       "      <th></th>\n",
       "      <th>CONSUMO</th>\n",
       "    </tr>\n",
       "  </thead>\n",
       "  <tbody>\n",
       "    <tr>\n",
       "      <th>count</th>\n",
       "      <td>312.000000</td>\n",
       "    </tr>\n",
       "    <tr>\n",
       "      <th>mean</th>\n",
       "      <td>1226.971154</td>\n",
       "    </tr>\n",
       "    <tr>\n",
       "      <th>std</th>\n",
       "      <td>3234.101606</td>\n",
       "    </tr>\n",
       "    <tr>\n",
       "      <th>min</th>\n",
       "      <td>-75.000000</td>\n",
       "    </tr>\n",
       "    <tr>\n",
       "      <th>25%</th>\n",
       "      <td>11.000000</td>\n",
       "    </tr>\n",
       "    <tr>\n",
       "      <th>50%</th>\n",
       "      <td>20.000000</td>\n",
       "    </tr>\n",
       "    <tr>\n",
       "      <th>75%</th>\n",
       "      <td>353.750000</td>\n",
       "    </tr>\n",
       "    <tr>\n",
       "      <th>max</th>\n",
       "      <td>23748.000000</td>\n",
       "    </tr>\n",
       "  </tbody>\n",
       "</table>\n",
       "</div>"
      ],
      "text/plain": [
       "            CONSUMO\n",
       "count    312.000000\n",
       "mean    1226.971154\n",
       "std     3234.101606\n",
       "min      -75.000000\n",
       "25%       11.000000\n",
       "50%       20.000000\n",
       "75%      353.750000\n",
       "max    23748.000000"
      ]
     },
     "execution_count": 30,
     "metadata": {},
     "output_type": "execute_result"
    }
   ],
   "source": [
    "df[\"ID CLIENTE\"] = df[\"ID CLIENTE\"].astype(\"str\")\n",
    "df.describe(include=\"int\")"
   ]
  },
  {
   "cell_type": "markdown",
   "metadata": {},
   "source": [
    "Para la variable consumo, se tiene una media de 1226.97 y una mediana de 20, lo que indica que el consumo tiene una distribución asimetrica, con un sesgo hacia la derecha. Parecen existir valores atipicos o errados, ya que se ve un consumo negativo como el valor minimo, y esta es una variables cuyos valores deben ser iguales o superiores a 0. El 75% de los regustros de consumo fue menor o igual a 353.75."
   ]
  },
  {
   "cell_type": "code",
   "execution_count": 31,
   "metadata": {},
   "outputs": [
    {
     "data": {
      "text/html": [
       "<div>\n",
       "<style scoped>\n",
       "    .dataframe tbody tr th:only-of-type {\n",
       "        vertical-align: middle;\n",
       "    }\n",
       "\n",
       "    .dataframe tbody tr th {\n",
       "        vertical-align: top;\n",
       "    }\n",
       "\n",
       "    .dataframe thead th {\n",
       "        text-align: right;\n",
       "    }\n",
       "</style>\n",
       "<table border=\"1\" class=\"dataframe\">\n",
       "  <thead>\n",
       "    <tr style=\"text-align: right;\">\n",
       "      <th></th>\n",
       "      <th>PERIODO</th>\n",
       "      <th>ID CLIENTE</th>\n",
       "      <th>DEPARTAMENTO</th>\n",
       "      <th>CLASIFICACION</th>\n",
       "      <th>TIPO CONSUMO</th>\n",
       "    </tr>\n",
       "  </thead>\n",
       "  <tbody>\n",
       "    <tr>\n",
       "      <th>count</th>\n",
       "      <td>312</td>\n",
       "      <td>312</td>\n",
       "      <td>312</td>\n",
       "      <td>312</td>\n",
       "      <td>312</td>\n",
       "    </tr>\n",
       "    <tr>\n",
       "      <th>unique</th>\n",
       "      <td>12</td>\n",
       "      <td>26</td>\n",
       "      <td>2</td>\n",
       "      <td>3</td>\n",
       "      <td>2</td>\n",
       "    </tr>\n",
       "    <tr>\n",
       "      <th>top</th>\n",
       "      <td>1/1/2021</td>\n",
       "      <td>1068535</td>\n",
       "      <td>ATLANTICO</td>\n",
       "      <td>RESIDENCIAL</td>\n",
       "      <td>REAL</td>\n",
       "    </tr>\n",
       "    <tr>\n",
       "      <th>freq</th>\n",
       "      <td>26</td>\n",
       "      <td>12</td>\n",
       "      <td>228</td>\n",
       "      <td>180</td>\n",
       "      <td>304</td>\n",
       "    </tr>\n",
       "  </tbody>\n",
       "</table>\n",
       "</div>"
      ],
      "text/plain": [
       "         PERIODO ID CLIENTE DEPARTAMENTO CLASIFICACION TIPO CONSUMO\n",
       "count        312        312          312           312          312\n",
       "unique        12         26            2             3            2\n",
       "top     1/1/2021    1068535    ATLANTICO   RESIDENCIAL         REAL\n",
       "freq          26         12          228           180          304"
      ]
     },
     "execution_count": 31,
     "metadata": {},
     "output_type": "execute_result"
    }
   ],
   "source": [
    "df.describe(include=\"object\")"
   ]
  },
  {
   "cell_type": "markdown",
   "metadata": {},
   "source": [
    "* Se tienen 12 fechas unicas en el campo PERIODO, la mas frecuente es 1/1/2021\n",
    "* Se tienen datos de 26 clientes\n",
    "* Se tiene información de 2 departamentos, siendo el mas frecuente Atlantico.\n",
    "* La clasificacion del inmueble mas frecuente es Residencial \n",
    "* Existen dos tipo de consumo, siendo el REAL el mas frecuente."
   ]
  },
  {
   "cell_type": "markdown",
   "metadata": {},
   "source": [
    "#### Análisis univariado"
   ]
  },
  {
   "cell_type": "markdown",
   "metadata": {},
   "source": [
    "##### PERIODO"
   ]
  },
  {
   "cell_type": "code",
   "execution_count": 32,
   "metadata": {},
   "outputs": [
    {
     "data": {
      "text/plain": [
       "PERIODO\n",
       "2021-01-01    26\n",
       "2021-02-01    26\n",
       "2021-03-01    26\n",
       "2021-04-01    26\n",
       "2021-05-01    26\n",
       "2021-06-01    26\n",
       "2021-07-01    26\n",
       "2021-08-01    26\n",
       "2021-09-01    26\n",
       "2021-10-01    26\n",
       "2021-11-01    26\n",
       "2021-12-01    26\n",
       "Name: PERIODO, dtype: int64"
      ]
     },
     "execution_count": 32,
     "metadata": {},
     "output_type": "execute_result"
    }
   ],
   "source": [
    "df[\"PERIODO\"]=pd.to_datetime(df[\"PERIODO\"])\n",
    "df.groupby(\"PERIODO\")[\"PERIODO\"].count()"
   ]
  },
  {
   "cell_type": "markdown",
   "metadata": {},
   "source": [
    "Se tienen registros del desde enero a diciembre de 2021, con 26 datos de clientes por cada mes."
   ]
  },
  {
   "cell_type": "markdown",
   "metadata": {},
   "source": [
    "##### DEPARTAMENTO"
   ]
  },
  {
   "cell_type": "code",
   "execution_count": 33,
   "metadata": {},
   "outputs": [
    {
     "data": {
      "application/vnd.plotly.v1+json": {
       "config": {
        "plotlyServerURL": "https://plot.ly"
       },
       "data": [
        {
         "alignmentgroup": "True",
         "hovertemplate": "DEPARTAMENTO=%{x}<br>counts=%{y}<extra></extra>",
         "legendgroup": "",
         "marker": {
          "color": "#636efa",
          "pattern": {
           "shape": ""
          }
         },
         "name": "",
         "offsetgroup": "",
         "orientation": "v",
         "showlegend": false,
         "textposition": "auto",
         "type": "bar",
         "x": [
          "ATLANTICO",
          "MAGDALENA"
         ],
         "xaxis": "x",
         "y": [
          228,
          84
         ],
         "yaxis": "y"
        }
       ],
       "layout": {
        "barmode": "relative",
        "legend": {
         "tracegroupgap": 0
        },
        "template": {
         "data": {
          "bar": [
           {
            "error_x": {
             "color": "#2a3f5f"
            },
            "error_y": {
             "color": "#2a3f5f"
            },
            "marker": {
             "line": {
              "color": "#E5ECF6",
              "width": 0.5
             },
             "pattern": {
              "fillmode": "overlay",
              "size": 10,
              "solidity": 0.2
             }
            },
            "type": "bar"
           }
          ],
          "barpolar": [
           {
            "marker": {
             "line": {
              "color": "#E5ECF6",
              "width": 0.5
             },
             "pattern": {
              "fillmode": "overlay",
              "size": 10,
              "solidity": 0.2
             }
            },
            "type": "barpolar"
           }
          ],
          "carpet": [
           {
            "aaxis": {
             "endlinecolor": "#2a3f5f",
             "gridcolor": "white",
             "linecolor": "white",
             "minorgridcolor": "white",
             "startlinecolor": "#2a3f5f"
            },
            "baxis": {
             "endlinecolor": "#2a3f5f",
             "gridcolor": "white",
             "linecolor": "white",
             "minorgridcolor": "white",
             "startlinecolor": "#2a3f5f"
            },
            "type": "carpet"
           }
          ],
          "choropleth": [
           {
            "colorbar": {
             "outlinewidth": 0,
             "ticks": ""
            },
            "type": "choropleth"
           }
          ],
          "contour": [
           {
            "colorbar": {
             "outlinewidth": 0,
             "ticks": ""
            },
            "colorscale": [
             [
              0,
              "#0d0887"
             ],
             [
              0.1111111111111111,
              "#46039f"
             ],
             [
              0.2222222222222222,
              "#7201a8"
             ],
             [
              0.3333333333333333,
              "#9c179e"
             ],
             [
              0.4444444444444444,
              "#bd3786"
             ],
             [
              0.5555555555555556,
              "#d8576b"
             ],
             [
              0.6666666666666666,
              "#ed7953"
             ],
             [
              0.7777777777777778,
              "#fb9f3a"
             ],
             [
              0.8888888888888888,
              "#fdca26"
             ],
             [
              1,
              "#f0f921"
             ]
            ],
            "type": "contour"
           }
          ],
          "contourcarpet": [
           {
            "colorbar": {
             "outlinewidth": 0,
             "ticks": ""
            },
            "type": "contourcarpet"
           }
          ],
          "heatmap": [
           {
            "colorbar": {
             "outlinewidth": 0,
             "ticks": ""
            },
            "colorscale": [
             [
              0,
              "#0d0887"
             ],
             [
              0.1111111111111111,
              "#46039f"
             ],
             [
              0.2222222222222222,
              "#7201a8"
             ],
             [
              0.3333333333333333,
              "#9c179e"
             ],
             [
              0.4444444444444444,
              "#bd3786"
             ],
             [
              0.5555555555555556,
              "#d8576b"
             ],
             [
              0.6666666666666666,
              "#ed7953"
             ],
             [
              0.7777777777777778,
              "#fb9f3a"
             ],
             [
              0.8888888888888888,
              "#fdca26"
             ],
             [
              1,
              "#f0f921"
             ]
            ],
            "type": "heatmap"
           }
          ],
          "heatmapgl": [
           {
            "colorbar": {
             "outlinewidth": 0,
             "ticks": ""
            },
            "colorscale": [
             [
              0,
              "#0d0887"
             ],
             [
              0.1111111111111111,
              "#46039f"
             ],
             [
              0.2222222222222222,
              "#7201a8"
             ],
             [
              0.3333333333333333,
              "#9c179e"
             ],
             [
              0.4444444444444444,
              "#bd3786"
             ],
             [
              0.5555555555555556,
              "#d8576b"
             ],
             [
              0.6666666666666666,
              "#ed7953"
             ],
             [
              0.7777777777777778,
              "#fb9f3a"
             ],
             [
              0.8888888888888888,
              "#fdca26"
             ],
             [
              1,
              "#f0f921"
             ]
            ],
            "type": "heatmapgl"
           }
          ],
          "histogram": [
           {
            "marker": {
             "pattern": {
              "fillmode": "overlay",
              "size": 10,
              "solidity": 0.2
             }
            },
            "type": "histogram"
           }
          ],
          "histogram2d": [
           {
            "colorbar": {
             "outlinewidth": 0,
             "ticks": ""
            },
            "colorscale": [
             [
              0,
              "#0d0887"
             ],
             [
              0.1111111111111111,
              "#46039f"
             ],
             [
              0.2222222222222222,
              "#7201a8"
             ],
             [
              0.3333333333333333,
              "#9c179e"
             ],
             [
              0.4444444444444444,
              "#bd3786"
             ],
             [
              0.5555555555555556,
              "#d8576b"
             ],
             [
              0.6666666666666666,
              "#ed7953"
             ],
             [
              0.7777777777777778,
              "#fb9f3a"
             ],
             [
              0.8888888888888888,
              "#fdca26"
             ],
             [
              1,
              "#f0f921"
             ]
            ],
            "type": "histogram2d"
           }
          ],
          "histogram2dcontour": [
           {
            "colorbar": {
             "outlinewidth": 0,
             "ticks": ""
            },
            "colorscale": [
             [
              0,
              "#0d0887"
             ],
             [
              0.1111111111111111,
              "#46039f"
             ],
             [
              0.2222222222222222,
              "#7201a8"
             ],
             [
              0.3333333333333333,
              "#9c179e"
             ],
             [
              0.4444444444444444,
              "#bd3786"
             ],
             [
              0.5555555555555556,
              "#d8576b"
             ],
             [
              0.6666666666666666,
              "#ed7953"
             ],
             [
              0.7777777777777778,
              "#fb9f3a"
             ],
             [
              0.8888888888888888,
              "#fdca26"
             ],
             [
              1,
              "#f0f921"
             ]
            ],
            "type": "histogram2dcontour"
           }
          ],
          "mesh3d": [
           {
            "colorbar": {
             "outlinewidth": 0,
             "ticks": ""
            },
            "type": "mesh3d"
           }
          ],
          "parcoords": [
           {
            "line": {
             "colorbar": {
              "outlinewidth": 0,
              "ticks": ""
             }
            },
            "type": "parcoords"
           }
          ],
          "pie": [
           {
            "automargin": true,
            "type": "pie"
           }
          ],
          "scatter": [
           {
            "fillpattern": {
             "fillmode": "overlay",
             "size": 10,
             "solidity": 0.2
            },
            "type": "scatter"
           }
          ],
          "scatter3d": [
           {
            "line": {
             "colorbar": {
              "outlinewidth": 0,
              "ticks": ""
             }
            },
            "marker": {
             "colorbar": {
              "outlinewidth": 0,
              "ticks": ""
             }
            },
            "type": "scatter3d"
           }
          ],
          "scattercarpet": [
           {
            "marker": {
             "colorbar": {
              "outlinewidth": 0,
              "ticks": ""
             }
            },
            "type": "scattercarpet"
           }
          ],
          "scattergeo": [
           {
            "marker": {
             "colorbar": {
              "outlinewidth": 0,
              "ticks": ""
             }
            },
            "type": "scattergeo"
           }
          ],
          "scattergl": [
           {
            "marker": {
             "colorbar": {
              "outlinewidth": 0,
              "ticks": ""
             }
            },
            "type": "scattergl"
           }
          ],
          "scattermapbox": [
           {
            "marker": {
             "colorbar": {
              "outlinewidth": 0,
              "ticks": ""
             }
            },
            "type": "scattermapbox"
           }
          ],
          "scatterpolar": [
           {
            "marker": {
             "colorbar": {
              "outlinewidth": 0,
              "ticks": ""
             }
            },
            "type": "scatterpolar"
           }
          ],
          "scatterpolargl": [
           {
            "marker": {
             "colorbar": {
              "outlinewidth": 0,
              "ticks": ""
             }
            },
            "type": "scatterpolargl"
           }
          ],
          "scatterternary": [
           {
            "marker": {
             "colorbar": {
              "outlinewidth": 0,
              "ticks": ""
             }
            },
            "type": "scatterternary"
           }
          ],
          "surface": [
           {
            "colorbar": {
             "outlinewidth": 0,
             "ticks": ""
            },
            "colorscale": [
             [
              0,
              "#0d0887"
             ],
             [
              0.1111111111111111,
              "#46039f"
             ],
             [
              0.2222222222222222,
              "#7201a8"
             ],
             [
              0.3333333333333333,
              "#9c179e"
             ],
             [
              0.4444444444444444,
              "#bd3786"
             ],
             [
              0.5555555555555556,
              "#d8576b"
             ],
             [
              0.6666666666666666,
              "#ed7953"
             ],
             [
              0.7777777777777778,
              "#fb9f3a"
             ],
             [
              0.8888888888888888,
              "#fdca26"
             ],
             [
              1,
              "#f0f921"
             ]
            ],
            "type": "surface"
           }
          ],
          "table": [
           {
            "cells": {
             "fill": {
              "color": "#EBF0F8"
             },
             "line": {
              "color": "white"
             }
            },
            "header": {
             "fill": {
              "color": "#C8D4E3"
             },
             "line": {
              "color": "white"
             }
            },
            "type": "table"
           }
          ]
         },
         "layout": {
          "annotationdefaults": {
           "arrowcolor": "#2a3f5f",
           "arrowhead": 0,
           "arrowwidth": 1
          },
          "autotypenumbers": "strict",
          "coloraxis": {
           "colorbar": {
            "outlinewidth": 0,
            "ticks": ""
           }
          },
          "colorscale": {
           "diverging": [
            [
             0,
             "#8e0152"
            ],
            [
             0.1,
             "#c51b7d"
            ],
            [
             0.2,
             "#de77ae"
            ],
            [
             0.3,
             "#f1b6da"
            ],
            [
             0.4,
             "#fde0ef"
            ],
            [
             0.5,
             "#f7f7f7"
            ],
            [
             0.6,
             "#e6f5d0"
            ],
            [
             0.7,
             "#b8e186"
            ],
            [
             0.8,
             "#7fbc41"
            ],
            [
             0.9,
             "#4d9221"
            ],
            [
             1,
             "#276419"
            ]
           ],
           "sequential": [
            [
             0,
             "#0d0887"
            ],
            [
             0.1111111111111111,
             "#46039f"
            ],
            [
             0.2222222222222222,
             "#7201a8"
            ],
            [
             0.3333333333333333,
             "#9c179e"
            ],
            [
             0.4444444444444444,
             "#bd3786"
            ],
            [
             0.5555555555555556,
             "#d8576b"
            ],
            [
             0.6666666666666666,
             "#ed7953"
            ],
            [
             0.7777777777777778,
             "#fb9f3a"
            ],
            [
             0.8888888888888888,
             "#fdca26"
            ],
            [
             1,
             "#f0f921"
            ]
           ],
           "sequentialminus": [
            [
             0,
             "#0d0887"
            ],
            [
             0.1111111111111111,
             "#46039f"
            ],
            [
             0.2222222222222222,
             "#7201a8"
            ],
            [
             0.3333333333333333,
             "#9c179e"
            ],
            [
             0.4444444444444444,
             "#bd3786"
            ],
            [
             0.5555555555555556,
             "#d8576b"
            ],
            [
             0.6666666666666666,
             "#ed7953"
            ],
            [
             0.7777777777777778,
             "#fb9f3a"
            ],
            [
             0.8888888888888888,
             "#fdca26"
            ],
            [
             1,
             "#f0f921"
            ]
           ]
          },
          "colorway": [
           "#636efa",
           "#EF553B",
           "#00cc96",
           "#ab63fa",
           "#FFA15A",
           "#19d3f3",
           "#FF6692",
           "#B6E880",
           "#FF97FF",
           "#FECB52"
          ],
          "font": {
           "color": "#2a3f5f"
          },
          "geo": {
           "bgcolor": "white",
           "lakecolor": "white",
           "landcolor": "#E5ECF6",
           "showlakes": true,
           "showland": true,
           "subunitcolor": "white"
          },
          "hoverlabel": {
           "align": "left"
          },
          "hovermode": "closest",
          "mapbox": {
           "style": "light"
          },
          "paper_bgcolor": "white",
          "plot_bgcolor": "#E5ECF6",
          "polar": {
           "angularaxis": {
            "gridcolor": "white",
            "linecolor": "white",
            "ticks": ""
           },
           "bgcolor": "#E5ECF6",
           "radialaxis": {
            "gridcolor": "white",
            "linecolor": "white",
            "ticks": ""
           }
          },
          "scene": {
           "xaxis": {
            "backgroundcolor": "#E5ECF6",
            "gridcolor": "white",
            "gridwidth": 2,
            "linecolor": "white",
            "showbackground": true,
            "ticks": "",
            "zerolinecolor": "white"
           },
           "yaxis": {
            "backgroundcolor": "#E5ECF6",
            "gridcolor": "white",
            "gridwidth": 2,
            "linecolor": "white",
            "showbackground": true,
            "ticks": "",
            "zerolinecolor": "white"
           },
           "zaxis": {
            "backgroundcolor": "#E5ECF6",
            "gridcolor": "white",
            "gridwidth": 2,
            "linecolor": "white",
            "showbackground": true,
            "ticks": "",
            "zerolinecolor": "white"
           }
          },
          "shapedefaults": {
           "line": {
            "color": "#2a3f5f"
           }
          },
          "ternary": {
           "aaxis": {
            "gridcolor": "white",
            "linecolor": "white",
            "ticks": ""
           },
           "baxis": {
            "gridcolor": "white",
            "linecolor": "white",
            "ticks": ""
           },
           "bgcolor": "#E5ECF6",
           "caxis": {
            "gridcolor": "white",
            "linecolor": "white",
            "ticks": ""
           }
          },
          "title": {
           "x": 0.05
          },
          "xaxis": {
           "automargin": true,
           "gridcolor": "white",
           "linecolor": "white",
           "ticks": "",
           "title": {
            "standoff": 15
           },
           "zerolinecolor": "white",
           "zerolinewidth": 2
          },
          "yaxis": {
           "automargin": true,
           "gridcolor": "white",
           "linecolor": "white",
           "ticks": "",
           "title": {
            "standoff": 15
           },
           "zerolinecolor": "white",
           "zerolinewidth": 2
          }
         }
        },
        "title": {
         "text": "Departamento"
        },
        "xaxis": {
         "anchor": "y",
         "domain": [
          0,
          1
         ],
         "title": {
          "text": "DEPARTAMENTO"
         }
        },
        "yaxis": {
         "anchor": "x",
         "domain": [
          0,
          1
         ],
         "title": {
          "text": "counts"
         }
        }
       }
      }
     },
     "metadata": {},
     "output_type": "display_data"
    }
   ],
   "source": [
    "data = df.groupby(\"DEPARTAMENTO\")[\"DEPARTAMENTO\"].size().reset_index(name='counts')\n",
    "fig = px.bar(data, x=\"DEPARTAMENTO\", y=\"counts\", title=\"Departamento\")\n",
    "fig.show()"
   ]
  },
  {
   "cell_type": "markdown",
   "metadata": {},
   "source": [
    "Ya se habia visto en el análisis descriptivo que se tenian dos departamentos en esta variable, siendo Atlantico y Magdalena, con una mayor cantidad de registros de clientes para el departamente deL Atlantico, siendo los registros de clientes del Magdalena menos del 30% de los datos. "
   ]
  },
  {
   "cell_type": "markdown",
   "metadata": {},
   "source": [
    "##### CLASIFICACION"
   ]
  },
  {
   "cell_type": "code",
   "execution_count": 34,
   "metadata": {},
   "outputs": [
    {
     "data": {
      "application/vnd.plotly.v1+json": {
       "config": {
        "plotlyServerURL": "https://plot.ly"
       },
       "data": [
        {
         "alignmentgroup": "True",
         "hovertemplate": "CLASIFICACION=%{x}<br>counts=%{y}<extra></extra>",
         "legendgroup": "",
         "marker": {
          "color": "#636efa",
          "pattern": {
           "shape": ""
          }
         },
         "name": "",
         "offsetgroup": "",
         "orientation": "v",
         "showlegend": false,
         "textposition": "auto",
         "type": "bar",
         "x": [
          "COMERCIAL",
          "INDUSTRIAL",
          "RESIDENCIAL"
         ],
         "xaxis": "x",
         "y": [
          72,
          60,
          180
         ],
         "yaxis": "y"
        }
       ],
       "layout": {
        "barmode": "relative",
        "legend": {
         "tracegroupgap": 0
        },
        "template": {
         "data": {
          "bar": [
           {
            "error_x": {
             "color": "#2a3f5f"
            },
            "error_y": {
             "color": "#2a3f5f"
            },
            "marker": {
             "line": {
              "color": "#E5ECF6",
              "width": 0.5
             },
             "pattern": {
              "fillmode": "overlay",
              "size": 10,
              "solidity": 0.2
             }
            },
            "type": "bar"
           }
          ],
          "barpolar": [
           {
            "marker": {
             "line": {
              "color": "#E5ECF6",
              "width": 0.5
             },
             "pattern": {
              "fillmode": "overlay",
              "size": 10,
              "solidity": 0.2
             }
            },
            "type": "barpolar"
           }
          ],
          "carpet": [
           {
            "aaxis": {
             "endlinecolor": "#2a3f5f",
             "gridcolor": "white",
             "linecolor": "white",
             "minorgridcolor": "white",
             "startlinecolor": "#2a3f5f"
            },
            "baxis": {
             "endlinecolor": "#2a3f5f",
             "gridcolor": "white",
             "linecolor": "white",
             "minorgridcolor": "white",
             "startlinecolor": "#2a3f5f"
            },
            "type": "carpet"
           }
          ],
          "choropleth": [
           {
            "colorbar": {
             "outlinewidth": 0,
             "ticks": ""
            },
            "type": "choropleth"
           }
          ],
          "contour": [
           {
            "colorbar": {
             "outlinewidth": 0,
             "ticks": ""
            },
            "colorscale": [
             [
              0,
              "#0d0887"
             ],
             [
              0.1111111111111111,
              "#46039f"
             ],
             [
              0.2222222222222222,
              "#7201a8"
             ],
             [
              0.3333333333333333,
              "#9c179e"
             ],
             [
              0.4444444444444444,
              "#bd3786"
             ],
             [
              0.5555555555555556,
              "#d8576b"
             ],
             [
              0.6666666666666666,
              "#ed7953"
             ],
             [
              0.7777777777777778,
              "#fb9f3a"
             ],
             [
              0.8888888888888888,
              "#fdca26"
             ],
             [
              1,
              "#f0f921"
             ]
            ],
            "type": "contour"
           }
          ],
          "contourcarpet": [
           {
            "colorbar": {
             "outlinewidth": 0,
             "ticks": ""
            },
            "type": "contourcarpet"
           }
          ],
          "heatmap": [
           {
            "colorbar": {
             "outlinewidth": 0,
             "ticks": ""
            },
            "colorscale": [
             [
              0,
              "#0d0887"
             ],
             [
              0.1111111111111111,
              "#46039f"
             ],
             [
              0.2222222222222222,
              "#7201a8"
             ],
             [
              0.3333333333333333,
              "#9c179e"
             ],
             [
              0.4444444444444444,
              "#bd3786"
             ],
             [
              0.5555555555555556,
              "#d8576b"
             ],
             [
              0.6666666666666666,
              "#ed7953"
             ],
             [
              0.7777777777777778,
              "#fb9f3a"
             ],
             [
              0.8888888888888888,
              "#fdca26"
             ],
             [
              1,
              "#f0f921"
             ]
            ],
            "type": "heatmap"
           }
          ],
          "heatmapgl": [
           {
            "colorbar": {
             "outlinewidth": 0,
             "ticks": ""
            },
            "colorscale": [
             [
              0,
              "#0d0887"
             ],
             [
              0.1111111111111111,
              "#46039f"
             ],
             [
              0.2222222222222222,
              "#7201a8"
             ],
             [
              0.3333333333333333,
              "#9c179e"
             ],
             [
              0.4444444444444444,
              "#bd3786"
             ],
             [
              0.5555555555555556,
              "#d8576b"
             ],
             [
              0.6666666666666666,
              "#ed7953"
             ],
             [
              0.7777777777777778,
              "#fb9f3a"
             ],
             [
              0.8888888888888888,
              "#fdca26"
             ],
             [
              1,
              "#f0f921"
             ]
            ],
            "type": "heatmapgl"
           }
          ],
          "histogram": [
           {
            "marker": {
             "pattern": {
              "fillmode": "overlay",
              "size": 10,
              "solidity": 0.2
             }
            },
            "type": "histogram"
           }
          ],
          "histogram2d": [
           {
            "colorbar": {
             "outlinewidth": 0,
             "ticks": ""
            },
            "colorscale": [
             [
              0,
              "#0d0887"
             ],
             [
              0.1111111111111111,
              "#46039f"
             ],
             [
              0.2222222222222222,
              "#7201a8"
             ],
             [
              0.3333333333333333,
              "#9c179e"
             ],
             [
              0.4444444444444444,
              "#bd3786"
             ],
             [
              0.5555555555555556,
              "#d8576b"
             ],
             [
              0.6666666666666666,
              "#ed7953"
             ],
             [
              0.7777777777777778,
              "#fb9f3a"
             ],
             [
              0.8888888888888888,
              "#fdca26"
             ],
             [
              1,
              "#f0f921"
             ]
            ],
            "type": "histogram2d"
           }
          ],
          "histogram2dcontour": [
           {
            "colorbar": {
             "outlinewidth": 0,
             "ticks": ""
            },
            "colorscale": [
             [
              0,
              "#0d0887"
             ],
             [
              0.1111111111111111,
              "#46039f"
             ],
             [
              0.2222222222222222,
              "#7201a8"
             ],
             [
              0.3333333333333333,
              "#9c179e"
             ],
             [
              0.4444444444444444,
              "#bd3786"
             ],
             [
              0.5555555555555556,
              "#d8576b"
             ],
             [
              0.6666666666666666,
              "#ed7953"
             ],
             [
              0.7777777777777778,
              "#fb9f3a"
             ],
             [
              0.8888888888888888,
              "#fdca26"
             ],
             [
              1,
              "#f0f921"
             ]
            ],
            "type": "histogram2dcontour"
           }
          ],
          "mesh3d": [
           {
            "colorbar": {
             "outlinewidth": 0,
             "ticks": ""
            },
            "type": "mesh3d"
           }
          ],
          "parcoords": [
           {
            "line": {
             "colorbar": {
              "outlinewidth": 0,
              "ticks": ""
             }
            },
            "type": "parcoords"
           }
          ],
          "pie": [
           {
            "automargin": true,
            "type": "pie"
           }
          ],
          "scatter": [
           {
            "fillpattern": {
             "fillmode": "overlay",
             "size": 10,
             "solidity": 0.2
            },
            "type": "scatter"
           }
          ],
          "scatter3d": [
           {
            "line": {
             "colorbar": {
              "outlinewidth": 0,
              "ticks": ""
             }
            },
            "marker": {
             "colorbar": {
              "outlinewidth": 0,
              "ticks": ""
             }
            },
            "type": "scatter3d"
           }
          ],
          "scattercarpet": [
           {
            "marker": {
             "colorbar": {
              "outlinewidth": 0,
              "ticks": ""
             }
            },
            "type": "scattercarpet"
           }
          ],
          "scattergeo": [
           {
            "marker": {
             "colorbar": {
              "outlinewidth": 0,
              "ticks": ""
             }
            },
            "type": "scattergeo"
           }
          ],
          "scattergl": [
           {
            "marker": {
             "colorbar": {
              "outlinewidth": 0,
              "ticks": ""
             }
            },
            "type": "scattergl"
           }
          ],
          "scattermapbox": [
           {
            "marker": {
             "colorbar": {
              "outlinewidth": 0,
              "ticks": ""
             }
            },
            "type": "scattermapbox"
           }
          ],
          "scatterpolar": [
           {
            "marker": {
             "colorbar": {
              "outlinewidth": 0,
              "ticks": ""
             }
            },
            "type": "scatterpolar"
           }
          ],
          "scatterpolargl": [
           {
            "marker": {
             "colorbar": {
              "outlinewidth": 0,
              "ticks": ""
             }
            },
            "type": "scatterpolargl"
           }
          ],
          "scatterternary": [
           {
            "marker": {
             "colorbar": {
              "outlinewidth": 0,
              "ticks": ""
             }
            },
            "type": "scatterternary"
           }
          ],
          "surface": [
           {
            "colorbar": {
             "outlinewidth": 0,
             "ticks": ""
            },
            "colorscale": [
             [
              0,
              "#0d0887"
             ],
             [
              0.1111111111111111,
              "#46039f"
             ],
             [
              0.2222222222222222,
              "#7201a8"
             ],
             [
              0.3333333333333333,
              "#9c179e"
             ],
             [
              0.4444444444444444,
              "#bd3786"
             ],
             [
              0.5555555555555556,
              "#d8576b"
             ],
             [
              0.6666666666666666,
              "#ed7953"
             ],
             [
              0.7777777777777778,
              "#fb9f3a"
             ],
             [
              0.8888888888888888,
              "#fdca26"
             ],
             [
              1,
              "#f0f921"
             ]
            ],
            "type": "surface"
           }
          ],
          "table": [
           {
            "cells": {
             "fill": {
              "color": "#EBF0F8"
             },
             "line": {
              "color": "white"
             }
            },
            "header": {
             "fill": {
              "color": "#C8D4E3"
             },
             "line": {
              "color": "white"
             }
            },
            "type": "table"
           }
          ]
         },
         "layout": {
          "annotationdefaults": {
           "arrowcolor": "#2a3f5f",
           "arrowhead": 0,
           "arrowwidth": 1
          },
          "autotypenumbers": "strict",
          "coloraxis": {
           "colorbar": {
            "outlinewidth": 0,
            "ticks": ""
           }
          },
          "colorscale": {
           "diverging": [
            [
             0,
             "#8e0152"
            ],
            [
             0.1,
             "#c51b7d"
            ],
            [
             0.2,
             "#de77ae"
            ],
            [
             0.3,
             "#f1b6da"
            ],
            [
             0.4,
             "#fde0ef"
            ],
            [
             0.5,
             "#f7f7f7"
            ],
            [
             0.6,
             "#e6f5d0"
            ],
            [
             0.7,
             "#b8e186"
            ],
            [
             0.8,
             "#7fbc41"
            ],
            [
             0.9,
             "#4d9221"
            ],
            [
             1,
             "#276419"
            ]
           ],
           "sequential": [
            [
             0,
             "#0d0887"
            ],
            [
             0.1111111111111111,
             "#46039f"
            ],
            [
             0.2222222222222222,
             "#7201a8"
            ],
            [
             0.3333333333333333,
             "#9c179e"
            ],
            [
             0.4444444444444444,
             "#bd3786"
            ],
            [
             0.5555555555555556,
             "#d8576b"
            ],
            [
             0.6666666666666666,
             "#ed7953"
            ],
            [
             0.7777777777777778,
             "#fb9f3a"
            ],
            [
             0.8888888888888888,
             "#fdca26"
            ],
            [
             1,
             "#f0f921"
            ]
           ],
           "sequentialminus": [
            [
             0,
             "#0d0887"
            ],
            [
             0.1111111111111111,
             "#46039f"
            ],
            [
             0.2222222222222222,
             "#7201a8"
            ],
            [
             0.3333333333333333,
             "#9c179e"
            ],
            [
             0.4444444444444444,
             "#bd3786"
            ],
            [
             0.5555555555555556,
             "#d8576b"
            ],
            [
             0.6666666666666666,
             "#ed7953"
            ],
            [
             0.7777777777777778,
             "#fb9f3a"
            ],
            [
             0.8888888888888888,
             "#fdca26"
            ],
            [
             1,
             "#f0f921"
            ]
           ]
          },
          "colorway": [
           "#636efa",
           "#EF553B",
           "#00cc96",
           "#ab63fa",
           "#FFA15A",
           "#19d3f3",
           "#FF6692",
           "#B6E880",
           "#FF97FF",
           "#FECB52"
          ],
          "font": {
           "color": "#2a3f5f"
          },
          "geo": {
           "bgcolor": "white",
           "lakecolor": "white",
           "landcolor": "#E5ECF6",
           "showlakes": true,
           "showland": true,
           "subunitcolor": "white"
          },
          "hoverlabel": {
           "align": "left"
          },
          "hovermode": "closest",
          "mapbox": {
           "style": "light"
          },
          "paper_bgcolor": "white",
          "plot_bgcolor": "#E5ECF6",
          "polar": {
           "angularaxis": {
            "gridcolor": "white",
            "linecolor": "white",
            "ticks": ""
           },
           "bgcolor": "#E5ECF6",
           "radialaxis": {
            "gridcolor": "white",
            "linecolor": "white",
            "ticks": ""
           }
          },
          "scene": {
           "xaxis": {
            "backgroundcolor": "#E5ECF6",
            "gridcolor": "white",
            "gridwidth": 2,
            "linecolor": "white",
            "showbackground": true,
            "ticks": "",
            "zerolinecolor": "white"
           },
           "yaxis": {
            "backgroundcolor": "#E5ECF6",
            "gridcolor": "white",
            "gridwidth": 2,
            "linecolor": "white",
            "showbackground": true,
            "ticks": "",
            "zerolinecolor": "white"
           },
           "zaxis": {
            "backgroundcolor": "#E5ECF6",
            "gridcolor": "white",
            "gridwidth": 2,
            "linecolor": "white",
            "showbackground": true,
            "ticks": "",
            "zerolinecolor": "white"
           }
          },
          "shapedefaults": {
           "line": {
            "color": "#2a3f5f"
           }
          },
          "ternary": {
           "aaxis": {
            "gridcolor": "white",
            "linecolor": "white",
            "ticks": ""
           },
           "baxis": {
            "gridcolor": "white",
            "linecolor": "white",
            "ticks": ""
           },
           "bgcolor": "#E5ECF6",
           "caxis": {
            "gridcolor": "white",
            "linecolor": "white",
            "ticks": ""
           }
          },
          "title": {
           "x": 0.05
          },
          "xaxis": {
           "automargin": true,
           "gridcolor": "white",
           "linecolor": "white",
           "ticks": "",
           "title": {
            "standoff": 15
           },
           "zerolinecolor": "white",
           "zerolinewidth": 2
          },
          "yaxis": {
           "automargin": true,
           "gridcolor": "white",
           "linecolor": "white",
           "ticks": "",
           "title": {
            "standoff": 15
           },
           "zerolinecolor": "white",
           "zerolinewidth": 2
          }
         }
        },
        "title": {
         "text": "Clasificación del Inmueble"
        },
        "xaxis": {
         "anchor": "y",
         "domain": [
          0,
          1
         ],
         "title": {
          "text": "CLASIFICACION"
         }
        },
        "yaxis": {
         "anchor": "x",
         "domain": [
          0,
          1
         ],
         "title": {
          "text": "counts"
         }
        }
       }
      }
     },
     "metadata": {},
     "output_type": "display_data"
    }
   ],
   "source": [
    "data = df.groupby(\"CLASIFICACION\")[\"CLASIFICACION\"].size().reset_index(name='counts')\n",
    "fig = px.bar(data, x=\"CLASIFICACION\", y=\"counts\", title=\"Clasificación del Inmueble\")\n",
    "fig.show()"
   ]
  },
  {
   "cell_type": "markdown",
   "metadata": {},
   "source": [
    "La mayoria de los registros de consumo de gas son de clientes con inmuebles de tipo residencial (mas del 50%), seguido de los clientes con inmuebles comerciales, y por ultimo los clientes con inmueble industriales. "
   ]
  },
  {
   "cell_type": "markdown",
   "metadata": {},
   "source": [
    "##### TIPO CONSUMO"
   ]
  },
  {
   "cell_type": "code",
   "execution_count": 35,
   "metadata": {},
   "outputs": [
    {
     "data": {
      "application/vnd.plotly.v1+json": {
       "config": {
        "plotlyServerURL": "https://plot.ly"
       },
       "data": [
        {
         "alignmentgroup": "True",
         "hovertemplate": "TIPO CONSUMO=%{x}<br>counts=%{y}<extra></extra>",
         "legendgroup": "",
         "marker": {
          "color": "#636efa",
          "pattern": {
           "shape": ""
          }
         },
         "name": "",
         "offsetgroup": "",
         "orientation": "v",
         "showlegend": false,
         "textposition": "auto",
         "type": "bar",
         "x": [
          "ESTIMADO",
          "REAL"
         ],
         "xaxis": "x",
         "y": [
          8,
          304
         ],
         "yaxis": "y"
        }
       ],
       "layout": {
        "barmode": "relative",
        "legend": {
         "tracegroupgap": 0
        },
        "template": {
         "data": {
          "bar": [
           {
            "error_x": {
             "color": "#2a3f5f"
            },
            "error_y": {
             "color": "#2a3f5f"
            },
            "marker": {
             "line": {
              "color": "#E5ECF6",
              "width": 0.5
             },
             "pattern": {
              "fillmode": "overlay",
              "size": 10,
              "solidity": 0.2
             }
            },
            "type": "bar"
           }
          ],
          "barpolar": [
           {
            "marker": {
             "line": {
              "color": "#E5ECF6",
              "width": 0.5
             },
             "pattern": {
              "fillmode": "overlay",
              "size": 10,
              "solidity": 0.2
             }
            },
            "type": "barpolar"
           }
          ],
          "carpet": [
           {
            "aaxis": {
             "endlinecolor": "#2a3f5f",
             "gridcolor": "white",
             "linecolor": "white",
             "minorgridcolor": "white",
             "startlinecolor": "#2a3f5f"
            },
            "baxis": {
             "endlinecolor": "#2a3f5f",
             "gridcolor": "white",
             "linecolor": "white",
             "minorgridcolor": "white",
             "startlinecolor": "#2a3f5f"
            },
            "type": "carpet"
           }
          ],
          "choropleth": [
           {
            "colorbar": {
             "outlinewidth": 0,
             "ticks": ""
            },
            "type": "choropleth"
           }
          ],
          "contour": [
           {
            "colorbar": {
             "outlinewidth": 0,
             "ticks": ""
            },
            "colorscale": [
             [
              0,
              "#0d0887"
             ],
             [
              0.1111111111111111,
              "#46039f"
             ],
             [
              0.2222222222222222,
              "#7201a8"
             ],
             [
              0.3333333333333333,
              "#9c179e"
             ],
             [
              0.4444444444444444,
              "#bd3786"
             ],
             [
              0.5555555555555556,
              "#d8576b"
             ],
             [
              0.6666666666666666,
              "#ed7953"
             ],
             [
              0.7777777777777778,
              "#fb9f3a"
             ],
             [
              0.8888888888888888,
              "#fdca26"
             ],
             [
              1,
              "#f0f921"
             ]
            ],
            "type": "contour"
           }
          ],
          "contourcarpet": [
           {
            "colorbar": {
             "outlinewidth": 0,
             "ticks": ""
            },
            "type": "contourcarpet"
           }
          ],
          "heatmap": [
           {
            "colorbar": {
             "outlinewidth": 0,
             "ticks": ""
            },
            "colorscale": [
             [
              0,
              "#0d0887"
             ],
             [
              0.1111111111111111,
              "#46039f"
             ],
             [
              0.2222222222222222,
              "#7201a8"
             ],
             [
              0.3333333333333333,
              "#9c179e"
             ],
             [
              0.4444444444444444,
              "#bd3786"
             ],
             [
              0.5555555555555556,
              "#d8576b"
             ],
             [
              0.6666666666666666,
              "#ed7953"
             ],
             [
              0.7777777777777778,
              "#fb9f3a"
             ],
             [
              0.8888888888888888,
              "#fdca26"
             ],
             [
              1,
              "#f0f921"
             ]
            ],
            "type": "heatmap"
           }
          ],
          "heatmapgl": [
           {
            "colorbar": {
             "outlinewidth": 0,
             "ticks": ""
            },
            "colorscale": [
             [
              0,
              "#0d0887"
             ],
             [
              0.1111111111111111,
              "#46039f"
             ],
             [
              0.2222222222222222,
              "#7201a8"
             ],
             [
              0.3333333333333333,
              "#9c179e"
             ],
             [
              0.4444444444444444,
              "#bd3786"
             ],
             [
              0.5555555555555556,
              "#d8576b"
             ],
             [
              0.6666666666666666,
              "#ed7953"
             ],
             [
              0.7777777777777778,
              "#fb9f3a"
             ],
             [
              0.8888888888888888,
              "#fdca26"
             ],
             [
              1,
              "#f0f921"
             ]
            ],
            "type": "heatmapgl"
           }
          ],
          "histogram": [
           {
            "marker": {
             "pattern": {
              "fillmode": "overlay",
              "size": 10,
              "solidity": 0.2
             }
            },
            "type": "histogram"
           }
          ],
          "histogram2d": [
           {
            "colorbar": {
             "outlinewidth": 0,
             "ticks": ""
            },
            "colorscale": [
             [
              0,
              "#0d0887"
             ],
             [
              0.1111111111111111,
              "#46039f"
             ],
             [
              0.2222222222222222,
              "#7201a8"
             ],
             [
              0.3333333333333333,
              "#9c179e"
             ],
             [
              0.4444444444444444,
              "#bd3786"
             ],
             [
              0.5555555555555556,
              "#d8576b"
             ],
             [
              0.6666666666666666,
              "#ed7953"
             ],
             [
              0.7777777777777778,
              "#fb9f3a"
             ],
             [
              0.8888888888888888,
              "#fdca26"
             ],
             [
              1,
              "#f0f921"
             ]
            ],
            "type": "histogram2d"
           }
          ],
          "histogram2dcontour": [
           {
            "colorbar": {
             "outlinewidth": 0,
             "ticks": ""
            },
            "colorscale": [
             [
              0,
              "#0d0887"
             ],
             [
              0.1111111111111111,
              "#46039f"
             ],
             [
              0.2222222222222222,
              "#7201a8"
             ],
             [
              0.3333333333333333,
              "#9c179e"
             ],
             [
              0.4444444444444444,
              "#bd3786"
             ],
             [
              0.5555555555555556,
              "#d8576b"
             ],
             [
              0.6666666666666666,
              "#ed7953"
             ],
             [
              0.7777777777777778,
              "#fb9f3a"
             ],
             [
              0.8888888888888888,
              "#fdca26"
             ],
             [
              1,
              "#f0f921"
             ]
            ],
            "type": "histogram2dcontour"
           }
          ],
          "mesh3d": [
           {
            "colorbar": {
             "outlinewidth": 0,
             "ticks": ""
            },
            "type": "mesh3d"
           }
          ],
          "parcoords": [
           {
            "line": {
             "colorbar": {
              "outlinewidth": 0,
              "ticks": ""
             }
            },
            "type": "parcoords"
           }
          ],
          "pie": [
           {
            "automargin": true,
            "type": "pie"
           }
          ],
          "scatter": [
           {
            "fillpattern": {
             "fillmode": "overlay",
             "size": 10,
             "solidity": 0.2
            },
            "type": "scatter"
           }
          ],
          "scatter3d": [
           {
            "line": {
             "colorbar": {
              "outlinewidth": 0,
              "ticks": ""
             }
            },
            "marker": {
             "colorbar": {
              "outlinewidth": 0,
              "ticks": ""
             }
            },
            "type": "scatter3d"
           }
          ],
          "scattercarpet": [
           {
            "marker": {
             "colorbar": {
              "outlinewidth": 0,
              "ticks": ""
             }
            },
            "type": "scattercarpet"
           }
          ],
          "scattergeo": [
           {
            "marker": {
             "colorbar": {
              "outlinewidth": 0,
              "ticks": ""
             }
            },
            "type": "scattergeo"
           }
          ],
          "scattergl": [
           {
            "marker": {
             "colorbar": {
              "outlinewidth": 0,
              "ticks": ""
             }
            },
            "type": "scattergl"
           }
          ],
          "scattermapbox": [
           {
            "marker": {
             "colorbar": {
              "outlinewidth": 0,
              "ticks": ""
             }
            },
            "type": "scattermapbox"
           }
          ],
          "scatterpolar": [
           {
            "marker": {
             "colorbar": {
              "outlinewidth": 0,
              "ticks": ""
             }
            },
            "type": "scatterpolar"
           }
          ],
          "scatterpolargl": [
           {
            "marker": {
             "colorbar": {
              "outlinewidth": 0,
              "ticks": ""
             }
            },
            "type": "scatterpolargl"
           }
          ],
          "scatterternary": [
           {
            "marker": {
             "colorbar": {
              "outlinewidth": 0,
              "ticks": ""
             }
            },
            "type": "scatterternary"
           }
          ],
          "surface": [
           {
            "colorbar": {
             "outlinewidth": 0,
             "ticks": ""
            },
            "colorscale": [
             [
              0,
              "#0d0887"
             ],
             [
              0.1111111111111111,
              "#46039f"
             ],
             [
              0.2222222222222222,
              "#7201a8"
             ],
             [
              0.3333333333333333,
              "#9c179e"
             ],
             [
              0.4444444444444444,
              "#bd3786"
             ],
             [
              0.5555555555555556,
              "#d8576b"
             ],
             [
              0.6666666666666666,
              "#ed7953"
             ],
             [
              0.7777777777777778,
              "#fb9f3a"
             ],
             [
              0.8888888888888888,
              "#fdca26"
             ],
             [
              1,
              "#f0f921"
             ]
            ],
            "type": "surface"
           }
          ],
          "table": [
           {
            "cells": {
             "fill": {
              "color": "#EBF0F8"
             },
             "line": {
              "color": "white"
             }
            },
            "header": {
             "fill": {
              "color": "#C8D4E3"
             },
             "line": {
              "color": "white"
             }
            },
            "type": "table"
           }
          ]
         },
         "layout": {
          "annotationdefaults": {
           "arrowcolor": "#2a3f5f",
           "arrowhead": 0,
           "arrowwidth": 1
          },
          "autotypenumbers": "strict",
          "coloraxis": {
           "colorbar": {
            "outlinewidth": 0,
            "ticks": ""
           }
          },
          "colorscale": {
           "diverging": [
            [
             0,
             "#8e0152"
            ],
            [
             0.1,
             "#c51b7d"
            ],
            [
             0.2,
             "#de77ae"
            ],
            [
             0.3,
             "#f1b6da"
            ],
            [
             0.4,
             "#fde0ef"
            ],
            [
             0.5,
             "#f7f7f7"
            ],
            [
             0.6,
             "#e6f5d0"
            ],
            [
             0.7,
             "#b8e186"
            ],
            [
             0.8,
             "#7fbc41"
            ],
            [
             0.9,
             "#4d9221"
            ],
            [
             1,
             "#276419"
            ]
           ],
           "sequential": [
            [
             0,
             "#0d0887"
            ],
            [
             0.1111111111111111,
             "#46039f"
            ],
            [
             0.2222222222222222,
             "#7201a8"
            ],
            [
             0.3333333333333333,
             "#9c179e"
            ],
            [
             0.4444444444444444,
             "#bd3786"
            ],
            [
             0.5555555555555556,
             "#d8576b"
            ],
            [
             0.6666666666666666,
             "#ed7953"
            ],
            [
             0.7777777777777778,
             "#fb9f3a"
            ],
            [
             0.8888888888888888,
             "#fdca26"
            ],
            [
             1,
             "#f0f921"
            ]
           ],
           "sequentialminus": [
            [
             0,
             "#0d0887"
            ],
            [
             0.1111111111111111,
             "#46039f"
            ],
            [
             0.2222222222222222,
             "#7201a8"
            ],
            [
             0.3333333333333333,
             "#9c179e"
            ],
            [
             0.4444444444444444,
             "#bd3786"
            ],
            [
             0.5555555555555556,
             "#d8576b"
            ],
            [
             0.6666666666666666,
             "#ed7953"
            ],
            [
             0.7777777777777778,
             "#fb9f3a"
            ],
            [
             0.8888888888888888,
             "#fdca26"
            ],
            [
             1,
             "#f0f921"
            ]
           ]
          },
          "colorway": [
           "#636efa",
           "#EF553B",
           "#00cc96",
           "#ab63fa",
           "#FFA15A",
           "#19d3f3",
           "#FF6692",
           "#B6E880",
           "#FF97FF",
           "#FECB52"
          ],
          "font": {
           "color": "#2a3f5f"
          },
          "geo": {
           "bgcolor": "white",
           "lakecolor": "white",
           "landcolor": "#E5ECF6",
           "showlakes": true,
           "showland": true,
           "subunitcolor": "white"
          },
          "hoverlabel": {
           "align": "left"
          },
          "hovermode": "closest",
          "mapbox": {
           "style": "light"
          },
          "paper_bgcolor": "white",
          "plot_bgcolor": "#E5ECF6",
          "polar": {
           "angularaxis": {
            "gridcolor": "white",
            "linecolor": "white",
            "ticks": ""
           },
           "bgcolor": "#E5ECF6",
           "radialaxis": {
            "gridcolor": "white",
            "linecolor": "white",
            "ticks": ""
           }
          },
          "scene": {
           "xaxis": {
            "backgroundcolor": "#E5ECF6",
            "gridcolor": "white",
            "gridwidth": 2,
            "linecolor": "white",
            "showbackground": true,
            "ticks": "",
            "zerolinecolor": "white"
           },
           "yaxis": {
            "backgroundcolor": "#E5ECF6",
            "gridcolor": "white",
            "gridwidth": 2,
            "linecolor": "white",
            "showbackground": true,
            "ticks": "",
            "zerolinecolor": "white"
           },
           "zaxis": {
            "backgroundcolor": "#E5ECF6",
            "gridcolor": "white",
            "gridwidth": 2,
            "linecolor": "white",
            "showbackground": true,
            "ticks": "",
            "zerolinecolor": "white"
           }
          },
          "shapedefaults": {
           "line": {
            "color": "#2a3f5f"
           }
          },
          "ternary": {
           "aaxis": {
            "gridcolor": "white",
            "linecolor": "white",
            "ticks": ""
           },
           "baxis": {
            "gridcolor": "white",
            "linecolor": "white",
            "ticks": ""
           },
           "bgcolor": "#E5ECF6",
           "caxis": {
            "gridcolor": "white",
            "linecolor": "white",
            "ticks": ""
           }
          },
          "title": {
           "x": 0.05
          },
          "xaxis": {
           "automargin": true,
           "gridcolor": "white",
           "linecolor": "white",
           "ticks": "",
           "title": {
            "standoff": 15
           },
           "zerolinecolor": "white",
           "zerolinewidth": 2
          },
          "yaxis": {
           "automargin": true,
           "gridcolor": "white",
           "linecolor": "white",
           "ticks": "",
           "title": {
            "standoff": 15
           },
           "zerolinecolor": "white",
           "zerolinewidth": 2
          }
         }
        },
        "title": {
         "text": "Tipo de consumo"
        },
        "xaxis": {
         "anchor": "y",
         "domain": [
          0,
          1
         ],
         "title": {
          "text": "TIPO CONSUMO"
         }
        },
        "yaxis": {
         "anchor": "x",
         "domain": [
          0,
          1
         ],
         "title": {
          "text": "counts"
         }
        }
       }
      }
     },
     "metadata": {},
     "output_type": "display_data"
    }
   ],
   "source": [
    "data = df.groupby(\"TIPO CONSUMO\")[\"TIPO CONSUMO\"].size().reset_index(name='counts')\n",
    "fig = px.bar(data, x=\"TIPO CONSUMO\", y=\"counts\", title=\"Tipo de consumo\")\n",
    "fig.show()"
   ]
  },
  {
   "cell_type": "markdown",
   "metadata": {},
   "source": [
    "Solo 8 registros de consumo de gas corresponden a una medidción estimada, el resto de mediciones de consumo corresponden al consumo real que tuve el cliente o inmueble."
   ]
  },
  {
   "cell_type": "markdown",
   "metadata": {},
   "source": [
    "##### CONSUMO"
   ]
  },
  {
   "cell_type": "code",
   "execution_count": 36,
   "metadata": {},
   "outputs": [
    {
     "name": "stdout",
     "output_type": "stream",
     "text": [
      "Column:  CONSUMO\n",
      "Skew: 4.11\n",
      "Kurtosis:  20.53\n"
     ]
    },
    {
     "data": {
      "application/vnd.plotly.v1+json": {
       "config": {
        "plotlyServerURL": "https://plot.ly"
       },
       "data": [
        {
         "alignmentgroup": "True",
         "bingroup": "x",
         "hovertemplate": "CONSUMO=%{x}<br>count=%{y}<extra></extra>",
         "legendgroup": "",
         "marker": {
          "color": "#636efa",
          "pattern": {
           "shape": ""
          }
         },
         "name": "",
         "nbinsx": 50,
         "offsetgroup": "",
         "orientation": "v",
         "showlegend": false,
         "type": "histogram",
         "x": [
          0,
          21,
          0,
          132,
          0,
          6165,
          7,
          24,
          11,
          19,
          27,
          4595,
          17,
          21859,
          12,
          11,
          106,
          52,
          6555,
          10,
          356,
          13,
          550,
          5753,
          11,
          10,
          0,
          26,
          0,
          106,
          0,
          6672,
          16,
          21,
          10,
          18,
          27,
          4308,
          19,
          19855,
          13,
          11,
          118,
          45,
          78,
          10,
          280,
          23,
          582,
          7267,
          12,
          12,
          0,
          32,
          0,
          106,
          0,
          8828,
          13,
          20,
          11,
          19,
          28,
          4270,
          22,
          23748,
          11,
          9,
          129,
          48,
          3814,
          10,
          388,
          18,
          570,
          8519,
          11,
          11,
          0,
          30,
          0,
          53,
          0,
          5043,
          15,
          32,
          16,
          17,
          20,
          4123,
          17,
          19995,
          14,
          9,
          119,
          26,
          3838,
          8,
          258,
          18,
          516,
          7607,
          15,
          12,
          0,
          30,
          0,
          41,
          0,
          1533,
          12,
          8,
          11,
          17,
          26,
          4403,
          18,
          16442,
          14,
          13,
          122,
          28,
          3579,
          11,
          250,
          16,
          362,
          6976,
          13,
          13,
          0,
          30,
          0,
          56,
          0,
          1596,
          11,
          20,
          10,
          18,
          26,
          4537,
          15,
          4207,
          11,
          7,
          139,
          40,
          3938,
          9,
          360,
          15,
          447,
          3822,
          15,
          13,
          0,
          28,
          0,
          39,
          0,
          1806,
          11,
          20,
          6,
          18,
          23,
          4470,
          15,
          6603,
          11,
          10,
          137,
          30,
          7240,
          9,
          389,
          17,
          456,
          3370,
          18,
          12,
          0,
          21,
          0,
          53,
          0,
          1990,
          13,
          18,
          16,
          19,
          22,
          4619,
          15,
          4691,
          14,
          10,
          154,
          36,
          8091,
          6,
          376,
          18,
          471,
          2700,
          14,
          20,
          0,
          31,
          0,
          51,
          0,
          3086,
          14,
          21,
          13,
          21,
          22,
          4845,
          13,
          1795,
          11,
          10,
          153,
          34,
          8298,
          7,
          380,
          20,
          407,
          182,
          15,
          22,
          0,
          28,
          0,
          82,
          0,
          2802,
          11,
          20,
          12,
          20,
          21,
          4599,
          11,
          3028,
          12,
          13,
          157,
          31,
          9210,
          9,
          370,
          22,
          405,
          1964,
          16,
          22,
          0,
          24,
          0,
          53,
          0,
          2526,
          13,
          21,
          16,
          18,
          17,
          4575,
          13,
          8390,
          12,
          13,
          166,
          -75,
          5874,
          9,
          353,
          18,
          448,
          3573,
          12,
          18,
          0,
          24,
          0,
          40,
          0,
          2728,
          13,
          18,
          13,
          18,
          20,
          5594,
          22,
          12953,
          13,
          15,
          159,
          0,
          6078,
          6,
          385,
          20,
          480,
          6103,
          11,
          13
         ],
         "xaxis": "x",
         "yaxis": "y"
        },
        {
         "alignmentgroup": "True",
         "customdata": [
          [
           "2021-01-01T00:00:00",
           "1068535",
           "ATLANTICO",
           "RESIDENCIAL",
           "REAL"
          ],
          [
           "2021-01-01T00:00:00",
           "1095302",
           "ATLANTICO",
           "COMERCIAL",
           "REAL"
          ],
          [
           "2021-01-01T00:00:00",
           "1131454",
           "ATLANTICO",
           "RESIDENCIAL",
           "REAL"
          ],
          [
           "2021-01-01T00:00:00",
           "1134487",
           "ATLANTICO",
           "COMERCIAL",
           "REAL"
          ],
          [
           "2021-01-01T00:00:00",
           "1140821",
           "ATLANTICO",
           "RESIDENCIAL",
           "REAL"
          ],
          [
           "2021-01-01T00:00:00",
           "1999658",
           "ATLANTICO",
           "INDUSTRIAL",
           "REAL"
          ],
          [
           "2021-01-01T00:00:00",
           "2058257",
           "MAGDALENA",
           "RESIDENCIAL",
           "REAL"
          ],
          [
           "2021-01-01T00:00:00",
           "2076530",
           "MAGDALENA",
           "RESIDENCIAL",
           "REAL"
          ],
          [
           "2021-01-01T00:00:00",
           "2084470",
           "MAGDALENA",
           "RESIDENCIAL",
           "REAL"
          ],
          [
           "2021-01-01T00:00:00",
           "6089526",
           "ATLANTICO",
           "RESIDENCIAL",
           "REAL"
          ],
          [
           "2021-01-01T00:00:00",
           "6111795",
           "ATLANTICO",
           "RESIDENCIAL",
           "REAL"
          ],
          [
           "2021-01-01T00:00:00",
           "8091803",
           "ATLANTICO",
           "INDUSTRIAL",
           "REAL"
          ],
          [
           "2021-01-01T00:00:00",
           "8092746",
           "ATLANTICO",
           "RESIDENCIAL",
           "REAL"
          ],
          [
           "2021-01-01T00:00:00",
           "17067567",
           "MAGDALENA",
           "INDUSTRIAL",
           "REAL"
          ],
          [
           "2021-01-01T00:00:00",
           "17186468",
           "MAGDALENA",
           "RESIDENCIAL",
           "REAL"
          ],
          [
           "2021-01-01T00:00:00",
           "50002330",
           "ATLANTICO",
           "RESIDENCIAL",
           "REAL"
          ],
          [
           "2021-01-01T00:00:00",
           "50043502",
           "ATLANTICO",
           "COMERCIAL",
           "REAL"
          ],
          [
           "2021-01-01T00:00:00",
           "50071540",
           "ATLANTICO",
           "COMERCIAL",
           "REAL"
          ],
          [
           "2021-01-01T00:00:00",
           "50095570",
           "ATLANTICO",
           "INDUSTRIAL",
           "REAL"
          ],
          [
           "2021-01-01T00:00:00",
           "50157457",
           "ATLANTICO",
           "RESIDENCIAL",
           "REAL"
          ],
          [
           "2021-01-01T00:00:00",
           "50599279",
           "ATLANTICO",
           "COMERCIAL",
           "REAL"
          ],
          [
           "2021-01-01T00:00:00",
           "50689487",
           "ATLANTICO",
           "RESIDENCIAL",
           "REAL"
          ],
          [
           "2021-01-01T00:00:00",
           "51030818",
           "ATLANTICO",
           "COMERCIAL",
           "REAL"
          ],
          [
           "2021-01-01T00:00:00",
           "51390294",
           "MAGDALENA",
           "INDUSTRIAL",
           "REAL"
          ],
          [
           "2021-01-01T00:00:00",
           "51577033",
           "MAGDALENA",
           "RESIDENCIAL",
           "REAL"
          ],
          [
           "2021-01-01T00:00:00",
           "51639236",
           "ATLANTICO",
           "RESIDENCIAL",
           "REAL"
          ],
          [
           "2021-02-01T00:00:00",
           "1068535",
           "ATLANTICO",
           "RESIDENCIAL",
           "REAL"
          ],
          [
           "2021-02-01T00:00:00",
           "1095302",
           "ATLANTICO",
           "COMERCIAL",
           "REAL"
          ],
          [
           "2021-02-01T00:00:00",
           "1131454",
           "ATLANTICO",
           "RESIDENCIAL",
           "REAL"
          ],
          [
           "2021-02-01T00:00:00",
           "1134487",
           "ATLANTICO",
           "COMERCIAL",
           "REAL"
          ],
          [
           "2021-02-01T00:00:00",
           "1140821",
           "ATLANTICO",
           "RESIDENCIAL",
           "REAL"
          ],
          [
           "2021-02-01T00:00:00",
           "1999658",
           "ATLANTICO",
           "INDUSTRIAL",
           "REAL"
          ],
          [
           "2021-02-01T00:00:00",
           "2058257",
           "MAGDALENA",
           "RESIDENCIAL",
           "REAL"
          ],
          [
           "2021-02-01T00:00:00",
           "2076530",
           "MAGDALENA",
           "RESIDENCIAL",
           "REAL"
          ],
          [
           "2021-02-01T00:00:00",
           "2084470",
           "MAGDALENA",
           "RESIDENCIAL",
           "REAL"
          ],
          [
           "2021-02-01T00:00:00",
           "6089526",
           "ATLANTICO",
           "RESIDENCIAL",
           "REAL"
          ],
          [
           "2021-02-01T00:00:00",
           "6111795",
           "ATLANTICO",
           "RESIDENCIAL",
           "REAL"
          ],
          [
           "2021-02-01T00:00:00",
           "8091803",
           "ATLANTICO",
           "INDUSTRIAL",
           "REAL"
          ],
          [
           "2021-02-01T00:00:00",
           "8092746",
           "ATLANTICO",
           "RESIDENCIAL",
           "REAL"
          ],
          [
           "2021-02-01T00:00:00",
           "17067567",
           "MAGDALENA",
           "INDUSTRIAL",
           "REAL"
          ],
          [
           "2021-02-01T00:00:00",
           "17186468",
           "MAGDALENA",
           "RESIDENCIAL",
           "REAL"
          ],
          [
           "2021-02-01T00:00:00",
           "50002330",
           "ATLANTICO",
           "RESIDENCIAL",
           "REAL"
          ],
          [
           "2021-02-01T00:00:00",
           "50043502",
           "ATLANTICO",
           "COMERCIAL",
           "REAL"
          ],
          [
           "2021-02-01T00:00:00",
           "50071540",
           "ATLANTICO",
           "COMERCIAL",
           "REAL"
          ],
          [
           "2021-02-01T00:00:00",
           "50095570",
           "ATLANTICO",
           "INDUSTRIAL",
           "REAL"
          ],
          [
           "2021-02-01T00:00:00",
           "50157457",
           "ATLANTICO",
           "RESIDENCIAL",
           "REAL"
          ],
          [
           "2021-02-01T00:00:00",
           "50599279",
           "ATLANTICO",
           "COMERCIAL",
           "REAL"
          ],
          [
           "2021-02-01T00:00:00",
           "50689487",
           "ATLANTICO",
           "RESIDENCIAL",
           "REAL"
          ],
          [
           "2021-02-01T00:00:00",
           "51030818",
           "ATLANTICO",
           "COMERCIAL",
           "REAL"
          ],
          [
           "2021-02-01T00:00:00",
           "51390294",
           "MAGDALENA",
           "INDUSTRIAL",
           "REAL"
          ],
          [
           "2021-02-01T00:00:00",
           "51577033",
           "MAGDALENA",
           "RESIDENCIAL",
           "REAL"
          ],
          [
           "2021-02-01T00:00:00",
           "51639236",
           "ATLANTICO",
           "RESIDENCIAL",
           "REAL"
          ],
          [
           "2021-03-01T00:00:00",
           "1068535",
           "ATLANTICO",
           "RESIDENCIAL",
           "REAL"
          ],
          [
           "2021-03-01T00:00:00",
           "1095302",
           "ATLANTICO",
           "COMERCIAL",
           "REAL"
          ],
          [
           "2021-03-01T00:00:00",
           "1131454",
           "ATLANTICO",
           "RESIDENCIAL",
           "REAL"
          ],
          [
           "2021-03-01T00:00:00",
           "1134487",
           "ATLANTICO",
           "COMERCIAL",
           "REAL"
          ],
          [
           "2021-03-01T00:00:00",
           "1140821",
           "ATLANTICO",
           "RESIDENCIAL",
           "REAL"
          ],
          [
           "2021-03-01T00:00:00",
           "1999658",
           "ATLANTICO",
           "INDUSTRIAL",
           "REAL"
          ],
          [
           "2021-03-01T00:00:00",
           "2058257",
           "MAGDALENA",
           "RESIDENCIAL",
           "REAL"
          ],
          [
           "2021-03-01T00:00:00",
           "2076530",
           "MAGDALENA",
           "RESIDENCIAL",
           "REAL"
          ],
          [
           "2021-03-01T00:00:00",
           "2084470",
           "MAGDALENA",
           "RESIDENCIAL",
           "REAL"
          ],
          [
           "2021-03-01T00:00:00",
           "6089526",
           "ATLANTICO",
           "RESIDENCIAL",
           "REAL"
          ],
          [
           "2021-03-01T00:00:00",
           "6111795",
           "ATLANTICO",
           "RESIDENCIAL",
           "REAL"
          ],
          [
           "2021-03-01T00:00:00",
           "8091803",
           "ATLANTICO",
           "INDUSTRIAL",
           "REAL"
          ],
          [
           "2021-03-01T00:00:00",
           "8092746",
           "ATLANTICO",
           "RESIDENCIAL",
           "REAL"
          ],
          [
           "2021-03-01T00:00:00",
           "17067567",
           "MAGDALENA",
           "INDUSTRIAL",
           "REAL"
          ],
          [
           "2021-03-01T00:00:00",
           "17186468",
           "MAGDALENA",
           "RESIDENCIAL",
           "REAL"
          ],
          [
           "2021-03-01T00:00:00",
           "50002330",
           "ATLANTICO",
           "RESIDENCIAL",
           "REAL"
          ],
          [
           "2021-03-01T00:00:00",
           "50043502",
           "ATLANTICO",
           "COMERCIAL",
           "REAL"
          ],
          [
           "2021-03-01T00:00:00",
           "50071540",
           "ATLANTICO",
           "COMERCIAL",
           "REAL"
          ],
          [
           "2021-03-01T00:00:00",
           "50095570",
           "ATLANTICO",
           "INDUSTRIAL",
           "REAL"
          ],
          [
           "2021-03-01T00:00:00",
           "50157457",
           "ATLANTICO",
           "RESIDENCIAL",
           "REAL"
          ],
          [
           "2021-03-01T00:00:00",
           "50599279",
           "ATLANTICO",
           "COMERCIAL",
           "REAL"
          ],
          [
           "2021-03-01T00:00:00",
           "50689487",
           "ATLANTICO",
           "RESIDENCIAL",
           "REAL"
          ],
          [
           "2021-03-01T00:00:00",
           "51030818",
           "ATLANTICO",
           "COMERCIAL",
           "REAL"
          ],
          [
           "2021-03-01T00:00:00",
           "51390294",
           "MAGDALENA",
           "INDUSTRIAL",
           "REAL"
          ],
          [
           "2021-03-01T00:00:00",
           "51577033",
           "MAGDALENA",
           "RESIDENCIAL",
           "REAL"
          ],
          [
           "2021-03-01T00:00:00",
           "51639236",
           "ATLANTICO",
           "RESIDENCIAL",
           "REAL"
          ],
          [
           "2021-04-01T00:00:00",
           "1068535",
           "ATLANTICO",
           "RESIDENCIAL",
           "ESTIMADO"
          ],
          [
           "2021-04-01T00:00:00",
           "1095302",
           "ATLANTICO",
           "COMERCIAL",
           "REAL"
          ],
          [
           "2021-04-01T00:00:00",
           "1131454",
           "ATLANTICO",
           "RESIDENCIAL",
           "REAL"
          ],
          [
           "2021-04-01T00:00:00",
           "1134487",
           "ATLANTICO",
           "COMERCIAL",
           "REAL"
          ],
          [
           "2021-04-01T00:00:00",
           "1140821",
           "ATLANTICO",
           "RESIDENCIAL",
           "REAL"
          ],
          [
           "2021-04-01T00:00:00",
           "1999658",
           "ATLANTICO",
           "INDUSTRIAL",
           "REAL"
          ],
          [
           "2021-04-01T00:00:00",
           "2058257",
           "MAGDALENA",
           "RESIDENCIAL",
           "REAL"
          ],
          [
           "2021-04-01T00:00:00",
           "2076530",
           "MAGDALENA",
           "RESIDENCIAL",
           "REAL"
          ],
          [
           "2021-04-01T00:00:00",
           "2084470",
           "MAGDALENA",
           "RESIDENCIAL",
           "REAL"
          ],
          [
           "2021-04-01T00:00:00",
           "6089526",
           "ATLANTICO",
           "RESIDENCIAL",
           "REAL"
          ],
          [
           "2021-04-01T00:00:00",
           "6111795",
           "ATLANTICO",
           "RESIDENCIAL",
           "REAL"
          ],
          [
           "2021-04-01T00:00:00",
           "8091803",
           "ATLANTICO",
           "INDUSTRIAL",
           "REAL"
          ],
          [
           "2021-04-01T00:00:00",
           "8092746",
           "ATLANTICO",
           "RESIDENCIAL",
           "REAL"
          ],
          [
           "2021-04-01T00:00:00",
           "17067567",
           "MAGDALENA",
           "INDUSTRIAL",
           "REAL"
          ],
          [
           "2021-04-01T00:00:00",
           "17186468",
           "MAGDALENA",
           "RESIDENCIAL",
           "REAL"
          ],
          [
           "2021-04-01T00:00:00",
           "50002330",
           "ATLANTICO",
           "RESIDENCIAL",
           "REAL"
          ],
          [
           "2021-04-01T00:00:00",
           "50043502",
           "ATLANTICO",
           "COMERCIAL",
           "REAL"
          ],
          [
           "2021-04-01T00:00:00",
           "50071540",
           "ATLANTICO",
           "COMERCIAL",
           "REAL"
          ],
          [
           "2021-04-01T00:00:00",
           "50095570",
           "ATLANTICO",
           "INDUSTRIAL",
           "REAL"
          ],
          [
           "2021-04-01T00:00:00",
           "50157457",
           "ATLANTICO",
           "RESIDENCIAL",
           "REAL"
          ],
          [
           "2021-04-01T00:00:00",
           "50599279",
           "ATLANTICO",
           "COMERCIAL",
           "REAL"
          ],
          [
           "2021-04-01T00:00:00",
           "50689487",
           "ATLANTICO",
           "RESIDENCIAL",
           "REAL"
          ],
          [
           "2021-04-01T00:00:00",
           "51030818",
           "ATLANTICO",
           "COMERCIAL",
           "REAL"
          ],
          [
           "2021-04-01T00:00:00",
           "51390294",
           "MAGDALENA",
           "INDUSTRIAL",
           "REAL"
          ],
          [
           "2021-04-01T00:00:00",
           "51577033",
           "MAGDALENA",
           "RESIDENCIAL",
           "REAL"
          ],
          [
           "2021-04-01T00:00:00",
           "51639236",
           "ATLANTICO",
           "RESIDENCIAL",
           "REAL"
          ],
          [
           "2021-05-01T00:00:00",
           "1068535",
           "ATLANTICO",
           "RESIDENCIAL",
           "REAL"
          ],
          [
           "2021-05-01T00:00:00",
           "1095302",
           "ATLANTICO",
           "COMERCIAL",
           "REAL"
          ],
          [
           "2021-05-01T00:00:00",
           "1131454",
           "ATLANTICO",
           "RESIDENCIAL",
           "REAL"
          ],
          [
           "2021-05-01T00:00:00",
           "1134487",
           "ATLANTICO",
           "COMERCIAL",
           "REAL"
          ],
          [
           "2021-05-01T00:00:00",
           "1140821",
           "ATLANTICO",
           "RESIDENCIAL",
           "REAL"
          ],
          [
           "2021-05-01T00:00:00",
           "1999658",
           "ATLANTICO",
           "INDUSTRIAL",
           "REAL"
          ],
          [
           "2021-05-01T00:00:00",
           "2058257",
           "MAGDALENA",
           "RESIDENCIAL",
           "REAL"
          ],
          [
           "2021-05-01T00:00:00",
           "2076530",
           "MAGDALENA",
           "RESIDENCIAL",
           "REAL"
          ],
          [
           "2021-05-01T00:00:00",
           "2084470",
           "MAGDALENA",
           "RESIDENCIAL",
           "REAL"
          ],
          [
           "2021-05-01T00:00:00",
           "6089526",
           "ATLANTICO",
           "RESIDENCIAL",
           "REAL"
          ],
          [
           "2021-05-01T00:00:00",
           "6111795",
           "ATLANTICO",
           "RESIDENCIAL",
           "REAL"
          ],
          [
           "2021-05-01T00:00:00",
           "8091803",
           "ATLANTICO",
           "INDUSTRIAL",
           "REAL"
          ],
          [
           "2021-05-01T00:00:00",
           "8092746",
           "ATLANTICO",
           "RESIDENCIAL",
           "REAL"
          ],
          [
           "2021-05-01T00:00:00",
           "17067567",
           "MAGDALENA",
           "INDUSTRIAL",
           "REAL"
          ],
          [
           "2021-05-01T00:00:00",
           "17186468",
           "MAGDALENA",
           "RESIDENCIAL",
           "REAL"
          ],
          [
           "2021-05-01T00:00:00",
           "50002330",
           "ATLANTICO",
           "RESIDENCIAL",
           "REAL"
          ],
          [
           "2021-05-01T00:00:00",
           "50043502",
           "ATLANTICO",
           "COMERCIAL",
           "REAL"
          ],
          [
           "2021-05-01T00:00:00",
           "50071540",
           "ATLANTICO",
           "COMERCIAL",
           "REAL"
          ],
          [
           "2021-05-01T00:00:00",
           "50095570",
           "ATLANTICO",
           "INDUSTRIAL",
           "REAL"
          ],
          [
           "2021-05-01T00:00:00",
           "50157457",
           "ATLANTICO",
           "RESIDENCIAL",
           "REAL"
          ],
          [
           "2021-05-01T00:00:00",
           "50599279",
           "ATLANTICO",
           "COMERCIAL",
           "REAL"
          ],
          [
           "2021-05-01T00:00:00",
           "50689487",
           "ATLANTICO",
           "RESIDENCIAL",
           "REAL"
          ],
          [
           "2021-05-01T00:00:00",
           "51030818",
           "ATLANTICO",
           "COMERCIAL",
           "REAL"
          ],
          [
           "2021-05-01T00:00:00",
           "51390294",
           "MAGDALENA",
           "INDUSTRIAL",
           "REAL"
          ],
          [
           "2021-05-01T00:00:00",
           "51577033",
           "MAGDALENA",
           "RESIDENCIAL",
           "REAL"
          ],
          [
           "2021-05-01T00:00:00",
           "51639236",
           "ATLANTICO",
           "RESIDENCIAL",
           "REAL"
          ],
          [
           "2021-06-01T00:00:00",
           "1068535",
           "ATLANTICO",
           "RESIDENCIAL",
           "REAL"
          ],
          [
           "2021-06-01T00:00:00",
           "1095302",
           "ATLANTICO",
           "COMERCIAL",
           "REAL"
          ],
          [
           "2021-06-01T00:00:00",
           "1131454",
           "ATLANTICO",
           "RESIDENCIAL",
           "REAL"
          ],
          [
           "2021-06-01T00:00:00",
           "1134487",
           "ATLANTICO",
           "COMERCIAL",
           "REAL"
          ],
          [
           "2021-06-01T00:00:00",
           "1140821",
           "ATLANTICO",
           "RESIDENCIAL",
           "REAL"
          ],
          [
           "2021-06-01T00:00:00",
           "1999658",
           "ATLANTICO",
           "INDUSTRIAL",
           "REAL"
          ],
          [
           "2021-06-01T00:00:00",
           "2058257",
           "MAGDALENA",
           "RESIDENCIAL",
           "REAL"
          ],
          [
           "2021-06-01T00:00:00",
           "2076530",
           "MAGDALENA",
           "RESIDENCIAL",
           "REAL"
          ],
          [
           "2021-06-01T00:00:00",
           "2084470",
           "MAGDALENA",
           "RESIDENCIAL",
           "REAL"
          ],
          [
           "2021-06-01T00:00:00",
           "6089526",
           "ATLANTICO",
           "RESIDENCIAL",
           "REAL"
          ],
          [
           "2021-06-01T00:00:00",
           "6111795",
           "ATLANTICO",
           "RESIDENCIAL",
           "REAL"
          ],
          [
           "2021-06-01T00:00:00",
           "8091803",
           "ATLANTICO",
           "INDUSTRIAL",
           "REAL"
          ],
          [
           "2021-06-01T00:00:00",
           "8092746",
           "ATLANTICO",
           "RESIDENCIAL",
           "REAL"
          ],
          [
           "2021-06-01T00:00:00",
           "17067567",
           "MAGDALENA",
           "INDUSTRIAL",
           "REAL"
          ],
          [
           "2021-06-01T00:00:00",
           "17186468",
           "MAGDALENA",
           "RESIDENCIAL",
           "REAL"
          ],
          [
           "2021-06-01T00:00:00",
           "50002330",
           "ATLANTICO",
           "RESIDENCIAL",
           "REAL"
          ],
          [
           "2021-06-01T00:00:00",
           "50043502",
           "ATLANTICO",
           "COMERCIAL",
           "REAL"
          ],
          [
           "2021-06-01T00:00:00",
           "50071540",
           "ATLANTICO",
           "COMERCIAL",
           "ESTIMADO"
          ],
          [
           "2021-06-01T00:00:00",
           "50095570",
           "ATLANTICO",
           "INDUSTRIAL",
           "REAL"
          ],
          [
           "2021-06-01T00:00:00",
           "50157457",
           "ATLANTICO",
           "RESIDENCIAL",
           "REAL"
          ],
          [
           "2021-06-01T00:00:00",
           "50599279",
           "ATLANTICO",
           "COMERCIAL",
           "REAL"
          ],
          [
           "2021-06-01T00:00:00",
           "50689487",
           "ATLANTICO",
           "RESIDENCIAL",
           "REAL"
          ],
          [
           "2021-06-01T00:00:00",
           "51030818",
           "ATLANTICO",
           "COMERCIAL",
           "REAL"
          ],
          [
           "2021-06-01T00:00:00",
           "51390294",
           "MAGDALENA",
           "INDUSTRIAL",
           "REAL"
          ],
          [
           "2021-06-01T00:00:00",
           "51577033",
           "MAGDALENA",
           "RESIDENCIAL",
           "REAL"
          ],
          [
           "2021-06-01T00:00:00",
           "51639236",
           "ATLANTICO",
           "RESIDENCIAL",
           "REAL"
          ],
          [
           "2021-07-01T00:00:00",
           "1068535",
           "ATLANTICO",
           "RESIDENCIAL",
           "REAL"
          ],
          [
           "2021-07-01T00:00:00",
           "1095302",
           "ATLANTICO",
           "COMERCIAL",
           "REAL"
          ],
          [
           "2021-07-01T00:00:00",
           "1131454",
           "ATLANTICO",
           "RESIDENCIAL",
           "REAL"
          ],
          [
           "2021-07-01T00:00:00",
           "1134487",
           "ATLANTICO",
           "COMERCIAL",
           "REAL"
          ],
          [
           "2021-07-01T00:00:00",
           "1140821",
           "ATLANTICO",
           "RESIDENCIAL",
           "REAL"
          ],
          [
           "2021-07-01T00:00:00",
           "1999658",
           "ATLANTICO",
           "INDUSTRIAL",
           "REAL"
          ],
          [
           "2021-07-01T00:00:00",
           "2058257",
           "MAGDALENA",
           "RESIDENCIAL",
           "REAL"
          ],
          [
           "2021-07-01T00:00:00",
           "2076530",
           "MAGDALENA",
           "RESIDENCIAL",
           "REAL"
          ],
          [
           "2021-07-01T00:00:00",
           "2084470",
           "MAGDALENA",
           "RESIDENCIAL",
           "REAL"
          ],
          [
           "2021-07-01T00:00:00",
           "6089526",
           "ATLANTICO",
           "RESIDENCIAL",
           "REAL"
          ],
          [
           "2021-07-01T00:00:00",
           "6111795",
           "ATLANTICO",
           "RESIDENCIAL",
           "REAL"
          ],
          [
           "2021-07-01T00:00:00",
           "8091803",
           "ATLANTICO",
           "INDUSTRIAL",
           "REAL"
          ],
          [
           "2021-07-01T00:00:00",
           "8092746",
           "ATLANTICO",
           "RESIDENCIAL",
           "REAL"
          ],
          [
           "2021-07-01T00:00:00",
           "17067567",
           "MAGDALENA",
           "INDUSTRIAL",
           "REAL"
          ],
          [
           "2021-07-01T00:00:00",
           "17186468",
           "MAGDALENA",
           "RESIDENCIAL",
           "REAL"
          ],
          [
           "2021-07-01T00:00:00",
           "50002330",
           "ATLANTICO",
           "RESIDENCIAL",
           "REAL"
          ],
          [
           "2021-07-01T00:00:00",
           "50043502",
           "ATLANTICO",
           "COMERCIAL",
           "REAL"
          ],
          [
           "2021-07-01T00:00:00",
           "50071540",
           "ATLANTICO",
           "COMERCIAL",
           "REAL"
          ],
          [
           "2021-07-01T00:00:00",
           "50095570",
           "ATLANTICO",
           "INDUSTRIAL",
           "REAL"
          ],
          [
           "2021-07-01T00:00:00",
           "50157457",
           "ATLANTICO",
           "RESIDENCIAL",
           "REAL"
          ],
          [
           "2021-07-01T00:00:00",
           "50599279",
           "ATLANTICO",
           "COMERCIAL",
           "REAL"
          ],
          [
           "2021-07-01T00:00:00",
           "50689487",
           "ATLANTICO",
           "RESIDENCIAL",
           "REAL"
          ],
          [
           "2021-07-01T00:00:00",
           "51030818",
           "ATLANTICO",
           "COMERCIAL",
           "REAL"
          ],
          [
           "2021-07-01T00:00:00",
           "51390294",
           "MAGDALENA",
           "INDUSTRIAL",
           "REAL"
          ],
          [
           "2021-07-01T00:00:00",
           "51577033",
           "MAGDALENA",
           "RESIDENCIAL",
           "REAL"
          ],
          [
           "2021-07-01T00:00:00",
           "51639236",
           "ATLANTICO",
           "RESIDENCIAL",
           "REAL"
          ],
          [
           "2021-08-01T00:00:00",
           "1068535",
           "ATLANTICO",
           "RESIDENCIAL",
           "REAL"
          ],
          [
           "2021-08-01T00:00:00",
           "1095302",
           "ATLANTICO",
           "COMERCIAL",
           "REAL"
          ],
          [
           "2021-08-01T00:00:00",
           "1131454",
           "ATLANTICO",
           "RESIDENCIAL",
           "REAL"
          ],
          [
           "2021-08-01T00:00:00",
           "1134487",
           "ATLANTICO",
           "COMERCIAL",
           "REAL"
          ],
          [
           "2021-08-01T00:00:00",
           "1140821",
           "ATLANTICO",
           "RESIDENCIAL",
           "REAL"
          ],
          [
           "2021-08-01T00:00:00",
           "1999658",
           "ATLANTICO",
           "INDUSTRIAL",
           "REAL"
          ],
          [
           "2021-08-01T00:00:00",
           "2058257",
           "MAGDALENA",
           "RESIDENCIAL",
           "REAL"
          ],
          [
           "2021-08-01T00:00:00",
           "2076530",
           "MAGDALENA",
           "RESIDENCIAL",
           "REAL"
          ],
          [
           "2021-08-01T00:00:00",
           "2084470",
           "MAGDALENA",
           "RESIDENCIAL",
           "REAL"
          ],
          [
           "2021-08-01T00:00:00",
           "6089526",
           "ATLANTICO",
           "RESIDENCIAL",
           "REAL"
          ],
          [
           "2021-08-01T00:00:00",
           "6111795",
           "ATLANTICO",
           "RESIDENCIAL",
           "REAL"
          ],
          [
           "2021-08-01T00:00:00",
           "8091803",
           "ATLANTICO",
           "INDUSTRIAL",
           "REAL"
          ],
          [
           "2021-08-01T00:00:00",
           "8092746",
           "ATLANTICO",
           "RESIDENCIAL",
           "REAL"
          ],
          [
           "2021-08-01T00:00:00",
           "17067567",
           "MAGDALENA",
           "INDUSTRIAL",
           "REAL"
          ],
          [
           "2021-08-01T00:00:00",
           "17186468",
           "MAGDALENA",
           "RESIDENCIAL",
           "REAL"
          ],
          [
           "2021-08-01T00:00:00",
           "50002330",
           "ATLANTICO",
           "RESIDENCIAL",
           "REAL"
          ],
          [
           "2021-08-01T00:00:00",
           "50043502",
           "ATLANTICO",
           "COMERCIAL",
           "REAL"
          ],
          [
           "2021-08-01T00:00:00",
           "50071540",
           "ATLANTICO",
           "COMERCIAL",
           "ESTIMADO"
          ],
          [
           "2021-08-01T00:00:00",
           "50095570",
           "ATLANTICO",
           "INDUSTRIAL",
           "REAL"
          ],
          [
           "2021-08-01T00:00:00",
           "50157457",
           "ATLANTICO",
           "RESIDENCIAL",
           "REAL"
          ],
          [
           "2021-08-01T00:00:00",
           "50599279",
           "ATLANTICO",
           "COMERCIAL",
           "REAL"
          ],
          [
           "2021-08-01T00:00:00",
           "50689487",
           "ATLANTICO",
           "RESIDENCIAL",
           "REAL"
          ],
          [
           "2021-08-01T00:00:00",
           "51030818",
           "ATLANTICO",
           "COMERCIAL",
           "REAL"
          ],
          [
           "2021-08-01T00:00:00",
           "51390294",
           "MAGDALENA",
           "INDUSTRIAL",
           "REAL"
          ],
          [
           "2021-08-01T00:00:00",
           "51577033",
           "MAGDALENA",
           "RESIDENCIAL",
           "REAL"
          ],
          [
           "2021-08-01T00:00:00",
           "51639236",
           "ATLANTICO",
           "RESIDENCIAL",
           "REAL"
          ],
          [
           "2021-09-01T00:00:00",
           "1068535",
           "ATLANTICO",
           "RESIDENCIAL",
           "REAL"
          ],
          [
           "2021-09-01T00:00:00",
           "1095302",
           "ATLANTICO",
           "COMERCIAL",
           "REAL"
          ],
          [
           "2021-09-01T00:00:00",
           "1131454",
           "ATLANTICO",
           "RESIDENCIAL",
           "REAL"
          ],
          [
           "2021-09-01T00:00:00",
           "1134487",
           "ATLANTICO",
           "COMERCIAL",
           "REAL"
          ],
          [
           "2021-09-01T00:00:00",
           "1140821",
           "ATLANTICO",
           "RESIDENCIAL",
           "REAL"
          ],
          [
           "2021-09-01T00:00:00",
           "1999658",
           "ATLANTICO",
           "INDUSTRIAL",
           "REAL"
          ],
          [
           "2021-09-01T00:00:00",
           "2058257",
           "MAGDALENA",
           "RESIDENCIAL",
           "REAL"
          ],
          [
           "2021-09-01T00:00:00",
           "2076530",
           "MAGDALENA",
           "RESIDENCIAL",
           "REAL"
          ],
          [
           "2021-09-01T00:00:00",
           "2084470",
           "MAGDALENA",
           "RESIDENCIAL",
           "REAL"
          ],
          [
           "2021-09-01T00:00:00",
           "6089526",
           "ATLANTICO",
           "RESIDENCIAL",
           "REAL"
          ],
          [
           "2021-09-01T00:00:00",
           "6111795",
           "ATLANTICO",
           "RESIDENCIAL",
           "REAL"
          ],
          [
           "2021-09-01T00:00:00",
           "8091803",
           "ATLANTICO",
           "INDUSTRIAL",
           "REAL"
          ],
          [
           "2021-09-01T00:00:00",
           "8092746",
           "ATLANTICO",
           "RESIDENCIAL",
           "REAL"
          ],
          [
           "2021-09-01T00:00:00",
           "17067567",
           "MAGDALENA",
           "INDUSTRIAL",
           "REAL"
          ],
          [
           "2021-09-01T00:00:00",
           "17186468",
           "MAGDALENA",
           "RESIDENCIAL",
           "REAL"
          ],
          [
           "2021-09-01T00:00:00",
           "50002330",
           "ATLANTICO",
           "RESIDENCIAL",
           "REAL"
          ],
          [
           "2021-09-01T00:00:00",
           "50043502",
           "ATLANTICO",
           "COMERCIAL",
           "REAL"
          ],
          [
           "2021-09-01T00:00:00",
           "50071540",
           "ATLANTICO",
           "COMERCIAL",
           "ESTIMADO"
          ],
          [
           "2021-09-01T00:00:00",
           "50095570",
           "ATLANTICO",
           "INDUSTRIAL",
           "REAL"
          ],
          [
           "2021-09-01T00:00:00",
           "50157457",
           "ATLANTICO",
           "RESIDENCIAL",
           "REAL"
          ],
          [
           "2021-09-01T00:00:00",
           "50599279",
           "ATLANTICO",
           "COMERCIAL",
           "REAL"
          ],
          [
           "2021-09-01T00:00:00",
           "50689487",
           "ATLANTICO",
           "RESIDENCIAL",
           "REAL"
          ],
          [
           "2021-09-01T00:00:00",
           "51030818",
           "ATLANTICO",
           "COMERCIAL",
           "REAL"
          ],
          [
           "2021-09-01T00:00:00",
           "51390294",
           "MAGDALENA",
           "INDUSTRIAL",
           "REAL"
          ],
          [
           "2021-09-01T00:00:00",
           "51577033",
           "MAGDALENA",
           "RESIDENCIAL",
           "REAL"
          ],
          [
           "2021-09-01T00:00:00",
           "51639236",
           "ATLANTICO",
           "RESIDENCIAL",
           "REAL"
          ],
          [
           "2021-10-01T00:00:00",
           "1068535",
           "ATLANTICO",
           "RESIDENCIAL",
           "REAL"
          ],
          [
           "2021-10-01T00:00:00",
           "1095302",
           "ATLANTICO",
           "COMERCIAL",
           "REAL"
          ],
          [
           "2021-10-01T00:00:00",
           "1131454",
           "ATLANTICO",
           "RESIDENCIAL",
           "REAL"
          ],
          [
           "2021-10-01T00:00:00",
           "1134487",
           "ATLANTICO",
           "COMERCIAL",
           "REAL"
          ],
          [
           "2021-10-01T00:00:00",
           "1140821",
           "ATLANTICO",
           "RESIDENCIAL",
           "REAL"
          ],
          [
           "2021-10-01T00:00:00",
           "1999658",
           "ATLANTICO",
           "INDUSTRIAL",
           "REAL"
          ],
          [
           "2021-10-01T00:00:00",
           "2058257",
           "MAGDALENA",
           "RESIDENCIAL",
           "REAL"
          ],
          [
           "2021-10-01T00:00:00",
           "2076530",
           "MAGDALENA",
           "RESIDENCIAL",
           "REAL"
          ],
          [
           "2021-10-01T00:00:00",
           "2084470",
           "MAGDALENA",
           "RESIDENCIAL",
           "ESTIMADO"
          ],
          [
           "2021-10-01T00:00:00",
           "6089526",
           "ATLANTICO",
           "RESIDENCIAL",
           "REAL"
          ],
          [
           "2021-10-01T00:00:00",
           "6111795",
           "ATLANTICO",
           "RESIDENCIAL",
           "REAL"
          ],
          [
           "2021-10-01T00:00:00",
           "8091803",
           "ATLANTICO",
           "INDUSTRIAL",
           "ESTIMADO"
          ],
          [
           "2021-10-01T00:00:00",
           "8092746",
           "ATLANTICO",
           "RESIDENCIAL",
           "REAL"
          ],
          [
           "2021-10-01T00:00:00",
           "17067567",
           "MAGDALENA",
           "INDUSTRIAL",
           "REAL"
          ],
          [
           "2021-10-01T00:00:00",
           "17186468",
           "MAGDALENA",
           "RESIDENCIAL",
           "REAL"
          ],
          [
           "2021-10-01T00:00:00",
           "50002330",
           "ATLANTICO",
           "RESIDENCIAL",
           "REAL"
          ],
          [
           "2021-10-01T00:00:00",
           "50043502",
           "ATLANTICO",
           "COMERCIAL",
           "REAL"
          ],
          [
           "2021-10-01T00:00:00",
           "50071540",
           "ATLANTICO",
           "COMERCIAL",
           "ESTIMADO"
          ],
          [
           "2021-10-01T00:00:00",
           "50095570",
           "ATLANTICO",
           "INDUSTRIAL",
           "REAL"
          ],
          [
           "2021-10-01T00:00:00",
           "50157457",
           "ATLANTICO",
           "RESIDENCIAL",
           "REAL"
          ],
          [
           "2021-10-01T00:00:00",
           "50599279",
           "ATLANTICO",
           "COMERCIAL",
           "REAL"
          ],
          [
           "2021-10-01T00:00:00",
           "50689487",
           "ATLANTICO",
           "RESIDENCIAL",
           "REAL"
          ],
          [
           "2021-10-01T00:00:00",
           "51030818",
           "ATLANTICO",
           "COMERCIAL",
           "REAL"
          ],
          [
           "2021-10-01T00:00:00",
           "51390294",
           "MAGDALENA",
           "INDUSTRIAL",
           "REAL"
          ],
          [
           "2021-10-01T00:00:00",
           "51577033",
           "MAGDALENA",
           "RESIDENCIAL",
           "REAL"
          ],
          [
           "2021-10-01T00:00:00",
           "51639236",
           "ATLANTICO",
           "RESIDENCIAL",
           "REAL"
          ],
          [
           "2021-11-01T00:00:00",
           "1068535",
           "ATLANTICO",
           "RESIDENCIAL",
           "REAL"
          ],
          [
           "2021-11-01T00:00:00",
           "1095302",
           "ATLANTICO",
           "COMERCIAL",
           "REAL"
          ],
          [
           "2021-11-01T00:00:00",
           "1131454",
           "ATLANTICO",
           "RESIDENCIAL",
           "REAL"
          ],
          [
           "2021-11-01T00:00:00",
           "1134487",
           "ATLANTICO",
           "COMERCIAL",
           "REAL"
          ],
          [
           "2021-11-01T00:00:00",
           "1140821",
           "ATLANTICO",
           "RESIDENCIAL",
           "REAL"
          ],
          [
           "2021-11-01T00:00:00",
           "1999658",
           "ATLANTICO",
           "INDUSTRIAL",
           "REAL"
          ],
          [
           "2021-11-01T00:00:00",
           "2058257",
           "MAGDALENA",
           "RESIDENCIAL",
           "REAL"
          ],
          [
           "2021-11-01T00:00:00",
           "2076530",
           "MAGDALENA",
           "RESIDENCIAL",
           "REAL"
          ],
          [
           "2021-11-01T00:00:00",
           "2084470",
           "MAGDALENA",
           "RESIDENCIAL",
           "REAL"
          ],
          [
           "2021-11-01T00:00:00",
           "6089526",
           "ATLANTICO",
           "RESIDENCIAL",
           "REAL"
          ],
          [
           "2021-11-01T00:00:00",
           "6111795",
           "ATLANTICO",
           "RESIDENCIAL",
           "REAL"
          ],
          [
           "2021-11-01T00:00:00",
           "8091803",
           "ATLANTICO",
           "INDUSTRIAL",
           "ESTIMADO"
          ],
          [
           "2021-11-01T00:00:00",
           "8092746",
           "ATLANTICO",
           "RESIDENCIAL",
           "REAL"
          ],
          [
           "2021-11-01T00:00:00",
           "17067567",
           "MAGDALENA",
           "INDUSTRIAL",
           "REAL"
          ],
          [
           "2021-11-01T00:00:00",
           "17186468",
           "MAGDALENA",
           "RESIDENCIAL",
           "REAL"
          ],
          [
           "2021-11-01T00:00:00",
           "50002330",
           "ATLANTICO",
           "RESIDENCIAL",
           "REAL"
          ],
          [
           "2021-11-01T00:00:00",
           "50043502",
           "ATLANTICO",
           "COMERCIAL",
           "REAL"
          ],
          [
           "2021-11-01T00:00:00",
           "50071540",
           "ATLANTICO",
           "COMERCIAL",
           "REAL"
          ],
          [
           "2021-11-01T00:00:00",
           "50095570",
           "ATLANTICO",
           "INDUSTRIAL",
           "REAL"
          ],
          [
           "2021-11-01T00:00:00",
           "50157457",
           "ATLANTICO",
           "RESIDENCIAL",
           "REAL"
          ],
          [
           "2021-11-01T00:00:00",
           "50599279",
           "ATLANTICO",
           "COMERCIAL",
           "REAL"
          ],
          [
           "2021-11-01T00:00:00",
           "50689487",
           "ATLANTICO",
           "RESIDENCIAL",
           "REAL"
          ],
          [
           "2021-11-01T00:00:00",
           "51030818",
           "ATLANTICO",
           "COMERCIAL",
           "REAL"
          ],
          [
           "2021-11-01T00:00:00",
           "51390294",
           "MAGDALENA",
           "INDUSTRIAL",
           "REAL"
          ],
          [
           "2021-11-01T00:00:00",
           "51577033",
           "MAGDALENA",
           "RESIDENCIAL",
           "REAL"
          ],
          [
           "2021-11-01T00:00:00",
           "51639236",
           "ATLANTICO",
           "RESIDENCIAL",
           "REAL"
          ],
          [
           "2021-12-01T00:00:00",
           "1068535",
           "ATLANTICO",
           "RESIDENCIAL",
           "REAL"
          ],
          [
           "2021-12-01T00:00:00",
           "1095302",
           "ATLANTICO",
           "COMERCIAL",
           "REAL"
          ],
          [
           "2021-12-01T00:00:00",
           "1131454",
           "ATLANTICO",
           "RESIDENCIAL",
           "REAL"
          ],
          [
           "2021-12-01T00:00:00",
           "1134487",
           "ATLANTICO",
           "COMERCIAL",
           "REAL"
          ],
          [
           "2021-12-01T00:00:00",
           "1140821",
           "ATLANTICO",
           "RESIDENCIAL",
           "REAL"
          ],
          [
           "2021-12-01T00:00:00",
           "1999658",
           "ATLANTICO",
           "INDUSTRIAL",
           "REAL"
          ],
          [
           "2021-12-01T00:00:00",
           "2058257",
           "MAGDALENA",
           "RESIDENCIAL",
           "REAL"
          ],
          [
           "2021-12-01T00:00:00",
           "2076530",
           "MAGDALENA",
           "RESIDENCIAL",
           "REAL"
          ],
          [
           "2021-12-01T00:00:00",
           "2084470",
           "MAGDALENA",
           "RESIDENCIAL",
           "REAL"
          ],
          [
           "2021-12-01T00:00:00",
           "6089526",
           "ATLANTICO",
           "RESIDENCIAL",
           "REAL"
          ],
          [
           "2021-12-01T00:00:00",
           "6111795",
           "ATLANTICO",
           "RESIDENCIAL",
           "REAL"
          ],
          [
           "2021-12-01T00:00:00",
           "8091803",
           "ATLANTICO",
           "INDUSTRIAL",
           "REAL"
          ],
          [
           "2021-12-01T00:00:00",
           "8092746",
           "ATLANTICO",
           "RESIDENCIAL",
           "REAL"
          ],
          [
           "2021-12-01T00:00:00",
           "17067567",
           "MAGDALENA",
           "INDUSTRIAL",
           "REAL"
          ],
          [
           "2021-12-01T00:00:00",
           "17186468",
           "MAGDALENA",
           "RESIDENCIAL",
           "REAL"
          ],
          [
           "2021-12-01T00:00:00",
           "50002330",
           "ATLANTICO",
           "RESIDENCIAL",
           "REAL"
          ],
          [
           "2021-12-01T00:00:00",
           "50043502",
           "ATLANTICO",
           "COMERCIAL",
           "REAL"
          ],
          [
           "2021-12-01T00:00:00",
           "50071540",
           "ATLANTICO",
           "COMERCIAL",
           "REAL"
          ],
          [
           "2021-12-01T00:00:00",
           "50095570",
           "ATLANTICO",
           "INDUSTRIAL",
           "REAL"
          ],
          [
           "2021-12-01T00:00:00",
           "50157457",
           "ATLANTICO",
           "RESIDENCIAL",
           "REAL"
          ],
          [
           "2021-12-01T00:00:00",
           "50599279",
           "ATLANTICO",
           "COMERCIAL",
           "REAL"
          ],
          [
           "2021-12-01T00:00:00",
           "50689487",
           "ATLANTICO",
           "RESIDENCIAL",
           "REAL"
          ],
          [
           "2021-12-01T00:00:00",
           "51030818",
           "ATLANTICO",
           "COMERCIAL",
           "REAL"
          ],
          [
           "2021-12-01T00:00:00",
           "51390294",
           "MAGDALENA",
           "INDUSTRIAL",
           "REAL"
          ],
          [
           "2021-12-01T00:00:00",
           "51577033",
           "MAGDALENA",
           "RESIDENCIAL",
           "REAL"
          ],
          [
           "2021-12-01T00:00:00",
           "51639236",
           "ATLANTICO",
           "RESIDENCIAL",
           "REAL"
          ]
         ],
         "hovertemplate": "CONSUMO=%{x}<br>PERIODO=%{customdata[0]}<br>ID CLIENTE=%{customdata[1]}<br>DEPARTAMENTO=%{customdata[2]}<br>CLASIFICACION=%{customdata[3]}<br>TIPO CONSUMO=%{customdata[4]}<extra></extra>",
         "legendgroup": "",
         "marker": {
          "color": "#636efa"
         },
         "name": "",
         "notched": true,
         "offsetgroup": "",
         "showlegend": false,
         "type": "box",
         "x": [
          0,
          21,
          0,
          132,
          0,
          6165,
          7,
          24,
          11,
          19,
          27,
          4595,
          17,
          21859,
          12,
          11,
          106,
          52,
          6555,
          10,
          356,
          13,
          550,
          5753,
          11,
          10,
          0,
          26,
          0,
          106,
          0,
          6672,
          16,
          21,
          10,
          18,
          27,
          4308,
          19,
          19855,
          13,
          11,
          118,
          45,
          78,
          10,
          280,
          23,
          582,
          7267,
          12,
          12,
          0,
          32,
          0,
          106,
          0,
          8828,
          13,
          20,
          11,
          19,
          28,
          4270,
          22,
          23748,
          11,
          9,
          129,
          48,
          3814,
          10,
          388,
          18,
          570,
          8519,
          11,
          11,
          0,
          30,
          0,
          53,
          0,
          5043,
          15,
          32,
          16,
          17,
          20,
          4123,
          17,
          19995,
          14,
          9,
          119,
          26,
          3838,
          8,
          258,
          18,
          516,
          7607,
          15,
          12,
          0,
          30,
          0,
          41,
          0,
          1533,
          12,
          8,
          11,
          17,
          26,
          4403,
          18,
          16442,
          14,
          13,
          122,
          28,
          3579,
          11,
          250,
          16,
          362,
          6976,
          13,
          13,
          0,
          30,
          0,
          56,
          0,
          1596,
          11,
          20,
          10,
          18,
          26,
          4537,
          15,
          4207,
          11,
          7,
          139,
          40,
          3938,
          9,
          360,
          15,
          447,
          3822,
          15,
          13,
          0,
          28,
          0,
          39,
          0,
          1806,
          11,
          20,
          6,
          18,
          23,
          4470,
          15,
          6603,
          11,
          10,
          137,
          30,
          7240,
          9,
          389,
          17,
          456,
          3370,
          18,
          12,
          0,
          21,
          0,
          53,
          0,
          1990,
          13,
          18,
          16,
          19,
          22,
          4619,
          15,
          4691,
          14,
          10,
          154,
          36,
          8091,
          6,
          376,
          18,
          471,
          2700,
          14,
          20,
          0,
          31,
          0,
          51,
          0,
          3086,
          14,
          21,
          13,
          21,
          22,
          4845,
          13,
          1795,
          11,
          10,
          153,
          34,
          8298,
          7,
          380,
          20,
          407,
          182,
          15,
          22,
          0,
          28,
          0,
          82,
          0,
          2802,
          11,
          20,
          12,
          20,
          21,
          4599,
          11,
          3028,
          12,
          13,
          157,
          31,
          9210,
          9,
          370,
          22,
          405,
          1964,
          16,
          22,
          0,
          24,
          0,
          53,
          0,
          2526,
          13,
          21,
          16,
          18,
          17,
          4575,
          13,
          8390,
          12,
          13,
          166,
          -75,
          5874,
          9,
          353,
          18,
          448,
          3573,
          12,
          18,
          0,
          24,
          0,
          40,
          0,
          2728,
          13,
          18,
          13,
          18,
          20,
          5594,
          22,
          12953,
          13,
          15,
          159,
          0,
          6078,
          6,
          385,
          20,
          480,
          6103,
          11,
          13
         ],
         "xaxis": "x2",
         "yaxis": "y2"
        }
       ],
       "layout": {
        "barmode": "relative",
        "legend": {
         "tracegroupgap": 0
        },
        "template": {
         "data": {
          "bar": [
           {
            "error_x": {
             "color": "#2a3f5f"
            },
            "error_y": {
             "color": "#2a3f5f"
            },
            "marker": {
             "line": {
              "color": "#E5ECF6",
              "width": 0.5
             },
             "pattern": {
              "fillmode": "overlay",
              "size": 10,
              "solidity": 0.2
             }
            },
            "type": "bar"
           }
          ],
          "barpolar": [
           {
            "marker": {
             "line": {
              "color": "#E5ECF6",
              "width": 0.5
             },
             "pattern": {
              "fillmode": "overlay",
              "size": 10,
              "solidity": 0.2
             }
            },
            "type": "barpolar"
           }
          ],
          "carpet": [
           {
            "aaxis": {
             "endlinecolor": "#2a3f5f",
             "gridcolor": "white",
             "linecolor": "white",
             "minorgridcolor": "white",
             "startlinecolor": "#2a3f5f"
            },
            "baxis": {
             "endlinecolor": "#2a3f5f",
             "gridcolor": "white",
             "linecolor": "white",
             "minorgridcolor": "white",
             "startlinecolor": "#2a3f5f"
            },
            "type": "carpet"
           }
          ],
          "choropleth": [
           {
            "colorbar": {
             "outlinewidth": 0,
             "ticks": ""
            },
            "type": "choropleth"
           }
          ],
          "contour": [
           {
            "colorbar": {
             "outlinewidth": 0,
             "ticks": ""
            },
            "colorscale": [
             [
              0,
              "#0d0887"
             ],
             [
              0.1111111111111111,
              "#46039f"
             ],
             [
              0.2222222222222222,
              "#7201a8"
             ],
             [
              0.3333333333333333,
              "#9c179e"
             ],
             [
              0.4444444444444444,
              "#bd3786"
             ],
             [
              0.5555555555555556,
              "#d8576b"
             ],
             [
              0.6666666666666666,
              "#ed7953"
             ],
             [
              0.7777777777777778,
              "#fb9f3a"
             ],
             [
              0.8888888888888888,
              "#fdca26"
             ],
             [
              1,
              "#f0f921"
             ]
            ],
            "type": "contour"
           }
          ],
          "contourcarpet": [
           {
            "colorbar": {
             "outlinewidth": 0,
             "ticks": ""
            },
            "type": "contourcarpet"
           }
          ],
          "heatmap": [
           {
            "colorbar": {
             "outlinewidth": 0,
             "ticks": ""
            },
            "colorscale": [
             [
              0,
              "#0d0887"
             ],
             [
              0.1111111111111111,
              "#46039f"
             ],
             [
              0.2222222222222222,
              "#7201a8"
             ],
             [
              0.3333333333333333,
              "#9c179e"
             ],
             [
              0.4444444444444444,
              "#bd3786"
             ],
             [
              0.5555555555555556,
              "#d8576b"
             ],
             [
              0.6666666666666666,
              "#ed7953"
             ],
             [
              0.7777777777777778,
              "#fb9f3a"
             ],
             [
              0.8888888888888888,
              "#fdca26"
             ],
             [
              1,
              "#f0f921"
             ]
            ],
            "type": "heatmap"
           }
          ],
          "heatmapgl": [
           {
            "colorbar": {
             "outlinewidth": 0,
             "ticks": ""
            },
            "colorscale": [
             [
              0,
              "#0d0887"
             ],
             [
              0.1111111111111111,
              "#46039f"
             ],
             [
              0.2222222222222222,
              "#7201a8"
             ],
             [
              0.3333333333333333,
              "#9c179e"
             ],
             [
              0.4444444444444444,
              "#bd3786"
             ],
             [
              0.5555555555555556,
              "#d8576b"
             ],
             [
              0.6666666666666666,
              "#ed7953"
             ],
             [
              0.7777777777777778,
              "#fb9f3a"
             ],
             [
              0.8888888888888888,
              "#fdca26"
             ],
             [
              1,
              "#f0f921"
             ]
            ],
            "type": "heatmapgl"
           }
          ],
          "histogram": [
           {
            "marker": {
             "pattern": {
              "fillmode": "overlay",
              "size": 10,
              "solidity": 0.2
             }
            },
            "type": "histogram"
           }
          ],
          "histogram2d": [
           {
            "colorbar": {
             "outlinewidth": 0,
             "ticks": ""
            },
            "colorscale": [
             [
              0,
              "#0d0887"
             ],
             [
              0.1111111111111111,
              "#46039f"
             ],
             [
              0.2222222222222222,
              "#7201a8"
             ],
             [
              0.3333333333333333,
              "#9c179e"
             ],
             [
              0.4444444444444444,
              "#bd3786"
             ],
             [
              0.5555555555555556,
              "#d8576b"
             ],
             [
              0.6666666666666666,
              "#ed7953"
             ],
             [
              0.7777777777777778,
              "#fb9f3a"
             ],
             [
              0.8888888888888888,
              "#fdca26"
             ],
             [
              1,
              "#f0f921"
             ]
            ],
            "type": "histogram2d"
           }
          ],
          "histogram2dcontour": [
           {
            "colorbar": {
             "outlinewidth": 0,
             "ticks": ""
            },
            "colorscale": [
             [
              0,
              "#0d0887"
             ],
             [
              0.1111111111111111,
              "#46039f"
             ],
             [
              0.2222222222222222,
              "#7201a8"
             ],
             [
              0.3333333333333333,
              "#9c179e"
             ],
             [
              0.4444444444444444,
              "#bd3786"
             ],
             [
              0.5555555555555556,
              "#d8576b"
             ],
             [
              0.6666666666666666,
              "#ed7953"
             ],
             [
              0.7777777777777778,
              "#fb9f3a"
             ],
             [
              0.8888888888888888,
              "#fdca26"
             ],
             [
              1,
              "#f0f921"
             ]
            ],
            "type": "histogram2dcontour"
           }
          ],
          "mesh3d": [
           {
            "colorbar": {
             "outlinewidth": 0,
             "ticks": ""
            },
            "type": "mesh3d"
           }
          ],
          "parcoords": [
           {
            "line": {
             "colorbar": {
              "outlinewidth": 0,
              "ticks": ""
             }
            },
            "type": "parcoords"
           }
          ],
          "pie": [
           {
            "automargin": true,
            "type": "pie"
           }
          ],
          "scatter": [
           {
            "fillpattern": {
             "fillmode": "overlay",
             "size": 10,
             "solidity": 0.2
            },
            "type": "scatter"
           }
          ],
          "scatter3d": [
           {
            "line": {
             "colorbar": {
              "outlinewidth": 0,
              "ticks": ""
             }
            },
            "marker": {
             "colorbar": {
              "outlinewidth": 0,
              "ticks": ""
             }
            },
            "type": "scatter3d"
           }
          ],
          "scattercarpet": [
           {
            "marker": {
             "colorbar": {
              "outlinewidth": 0,
              "ticks": ""
             }
            },
            "type": "scattercarpet"
           }
          ],
          "scattergeo": [
           {
            "marker": {
             "colorbar": {
              "outlinewidth": 0,
              "ticks": ""
             }
            },
            "type": "scattergeo"
           }
          ],
          "scattergl": [
           {
            "marker": {
             "colorbar": {
              "outlinewidth": 0,
              "ticks": ""
             }
            },
            "type": "scattergl"
           }
          ],
          "scattermapbox": [
           {
            "marker": {
             "colorbar": {
              "outlinewidth": 0,
              "ticks": ""
             }
            },
            "type": "scattermapbox"
           }
          ],
          "scatterpolar": [
           {
            "marker": {
             "colorbar": {
              "outlinewidth": 0,
              "ticks": ""
             }
            },
            "type": "scatterpolar"
           }
          ],
          "scatterpolargl": [
           {
            "marker": {
             "colorbar": {
              "outlinewidth": 0,
              "ticks": ""
             }
            },
            "type": "scatterpolargl"
           }
          ],
          "scatterternary": [
           {
            "marker": {
             "colorbar": {
              "outlinewidth": 0,
              "ticks": ""
             }
            },
            "type": "scatterternary"
           }
          ],
          "surface": [
           {
            "colorbar": {
             "outlinewidth": 0,
             "ticks": ""
            },
            "colorscale": [
             [
              0,
              "#0d0887"
             ],
             [
              0.1111111111111111,
              "#46039f"
             ],
             [
              0.2222222222222222,
              "#7201a8"
             ],
             [
              0.3333333333333333,
              "#9c179e"
             ],
             [
              0.4444444444444444,
              "#bd3786"
             ],
             [
              0.5555555555555556,
              "#d8576b"
             ],
             [
              0.6666666666666666,
              "#ed7953"
             ],
             [
              0.7777777777777778,
              "#fb9f3a"
             ],
             [
              0.8888888888888888,
              "#fdca26"
             ],
             [
              1,
              "#f0f921"
             ]
            ],
            "type": "surface"
           }
          ],
          "table": [
           {
            "cells": {
             "fill": {
              "color": "#EBF0F8"
             },
             "line": {
              "color": "white"
             }
            },
            "header": {
             "fill": {
              "color": "#C8D4E3"
             },
             "line": {
              "color": "white"
             }
            },
            "type": "table"
           }
          ]
         },
         "layout": {
          "annotationdefaults": {
           "arrowcolor": "#2a3f5f",
           "arrowhead": 0,
           "arrowwidth": 1
          },
          "autotypenumbers": "strict",
          "coloraxis": {
           "colorbar": {
            "outlinewidth": 0,
            "ticks": ""
           }
          },
          "colorscale": {
           "diverging": [
            [
             0,
             "#8e0152"
            ],
            [
             0.1,
             "#c51b7d"
            ],
            [
             0.2,
             "#de77ae"
            ],
            [
             0.3,
             "#f1b6da"
            ],
            [
             0.4,
             "#fde0ef"
            ],
            [
             0.5,
             "#f7f7f7"
            ],
            [
             0.6,
             "#e6f5d0"
            ],
            [
             0.7,
             "#b8e186"
            ],
            [
             0.8,
             "#7fbc41"
            ],
            [
             0.9,
             "#4d9221"
            ],
            [
             1,
             "#276419"
            ]
           ],
           "sequential": [
            [
             0,
             "#0d0887"
            ],
            [
             0.1111111111111111,
             "#46039f"
            ],
            [
             0.2222222222222222,
             "#7201a8"
            ],
            [
             0.3333333333333333,
             "#9c179e"
            ],
            [
             0.4444444444444444,
             "#bd3786"
            ],
            [
             0.5555555555555556,
             "#d8576b"
            ],
            [
             0.6666666666666666,
             "#ed7953"
            ],
            [
             0.7777777777777778,
             "#fb9f3a"
            ],
            [
             0.8888888888888888,
             "#fdca26"
            ],
            [
             1,
             "#f0f921"
            ]
           ],
           "sequentialminus": [
            [
             0,
             "#0d0887"
            ],
            [
             0.1111111111111111,
             "#46039f"
            ],
            [
             0.2222222222222222,
             "#7201a8"
            ],
            [
             0.3333333333333333,
             "#9c179e"
            ],
            [
             0.4444444444444444,
             "#bd3786"
            ],
            [
             0.5555555555555556,
             "#d8576b"
            ],
            [
             0.6666666666666666,
             "#ed7953"
            ],
            [
             0.7777777777777778,
             "#fb9f3a"
            ],
            [
             0.8888888888888888,
             "#fdca26"
            ],
            [
             1,
             "#f0f921"
            ]
           ]
          },
          "colorway": [
           "#636efa",
           "#EF553B",
           "#00cc96",
           "#ab63fa",
           "#FFA15A",
           "#19d3f3",
           "#FF6692",
           "#B6E880",
           "#FF97FF",
           "#FECB52"
          ],
          "font": {
           "color": "#2a3f5f"
          },
          "geo": {
           "bgcolor": "white",
           "lakecolor": "white",
           "landcolor": "#E5ECF6",
           "showlakes": true,
           "showland": true,
           "subunitcolor": "white"
          },
          "hoverlabel": {
           "align": "left"
          },
          "hovermode": "closest",
          "mapbox": {
           "style": "light"
          },
          "paper_bgcolor": "white",
          "plot_bgcolor": "#E5ECF6",
          "polar": {
           "angularaxis": {
            "gridcolor": "white",
            "linecolor": "white",
            "ticks": ""
           },
           "bgcolor": "#E5ECF6",
           "radialaxis": {
            "gridcolor": "white",
            "linecolor": "white",
            "ticks": ""
           }
          },
          "scene": {
           "xaxis": {
            "backgroundcolor": "#E5ECF6",
            "gridcolor": "white",
            "gridwidth": 2,
            "linecolor": "white",
            "showbackground": true,
            "ticks": "",
            "zerolinecolor": "white"
           },
           "yaxis": {
            "backgroundcolor": "#E5ECF6",
            "gridcolor": "white",
            "gridwidth": 2,
            "linecolor": "white",
            "showbackground": true,
            "ticks": "",
            "zerolinecolor": "white"
           },
           "zaxis": {
            "backgroundcolor": "#E5ECF6",
            "gridcolor": "white",
            "gridwidth": 2,
            "linecolor": "white",
            "showbackground": true,
            "ticks": "",
            "zerolinecolor": "white"
           }
          },
          "shapedefaults": {
           "line": {
            "color": "#2a3f5f"
           }
          },
          "ternary": {
           "aaxis": {
            "gridcolor": "white",
            "linecolor": "white",
            "ticks": ""
           },
           "baxis": {
            "gridcolor": "white",
            "linecolor": "white",
            "ticks": ""
           },
           "bgcolor": "#E5ECF6",
           "caxis": {
            "gridcolor": "white",
            "linecolor": "white",
            "ticks": ""
           }
          },
          "title": {
           "x": 0.05
          },
          "xaxis": {
           "automargin": true,
           "gridcolor": "white",
           "linecolor": "white",
           "ticks": "",
           "title": {
            "standoff": 15
           },
           "zerolinecolor": "white",
           "zerolinewidth": 2
          },
          "yaxis": {
           "automargin": true,
           "gridcolor": "white",
           "linecolor": "white",
           "ticks": "",
           "title": {
            "standoff": 15
           },
           "zerolinecolor": "white",
           "zerolinewidth": 2
          }
         }
        },
        "title": {
         "text": "Distribución del Consumo de gas"
        },
        "xaxis": {
         "anchor": "y",
         "domain": [
          0,
          1
         ],
         "title": {
          "text": "CONSUMO"
         }
        },
        "xaxis2": {
         "anchor": "y2",
         "domain": [
          0,
          1
         ],
         "matches": "x",
         "showgrid": true,
         "showticklabels": false
        },
        "yaxis": {
         "anchor": "x",
         "domain": [
          0,
          0.8316
         ],
         "title": {
          "text": "count"
         }
        },
        "yaxis2": {
         "anchor": "x2",
         "domain": [
          0.8416,
          1
         ],
         "matches": "y2",
         "showgrid": false,
         "showline": false,
         "showticklabels": false,
         "ticks": ""
        }
       }
      }
     },
     "metadata": {},
     "output_type": "display_data"
    }
   ],
   "source": [
    "import plotly.express as px\n",
    "from scipy.stats import kurtosis\n",
    "import seaborn as sns\n",
    "\n",
    "col = 'CONSUMO'\n",
    "print('Column: ', col)\n",
    "print('Skew:', round(df[col].skew(), 2))\n",
    "print('Kurtosis: ', round(df[col].kurtosis(), 2))\n",
    "\n",
    "fig = px.histogram(df, x=\"CONSUMO\",nbins=50,\n",
    "                   marginal=\"box\", \n",
    "                   hover_data=df.columns,\n",
    "                   title=\"Distribución del Consumo de gas\")\n",
    "fig.show()"
   ]
  },
  {
   "cell_type": "markdown",
   "metadata": {},
   "source": [
    "Se puede ver que la variable Consumo, tiene una distribución asimetrica, de sesgo positivo ( skew > 0) y con presencia de valores que se podrian considerar atipicos (kurtosis > 3), los cuales se pueden ver tanto en el histograma como una gran cola, y en el boxplot como los puntos que se encuentran por fuera de los bigotes.\n",
    "Se logra ver que existe un valor menor a cero, que podia considerarse un error de medición o digitación."
   ]
  },
  {
   "cell_type": "markdown",
   "metadata": {},
   "source": [
    "Se verifica cuantos datos de consumo menores a 0 se tienen:"
   ]
  },
  {
   "cell_type": "code",
   "execution_count": 37,
   "metadata": {},
   "outputs": [
    {
     "data": {
      "text/plain": [
       "1"
      ]
     },
     "execution_count": 37,
     "metadata": {},
     "output_type": "execute_result"
    }
   ],
   "source": [
    "np.sum(df[\"CONSUMO\"] < 0)"
   ]
  },
  {
   "cell_type": "markdown",
   "metadata": {},
   "source": [
    "Se identifica a que cliente correponde este dato, para verificar como son los demás registro de consumo que ha tenido el cliente."
   ]
  },
  {
   "cell_type": "code",
   "execution_count": 38,
   "metadata": {},
   "outputs": [
    {
     "data": {
      "text/html": [
       "<div>\n",
       "<style scoped>\n",
       "    .dataframe tbody tr th:only-of-type {\n",
       "        vertical-align: middle;\n",
       "    }\n",
       "\n",
       "    .dataframe tbody tr th {\n",
       "        vertical-align: top;\n",
       "    }\n",
       "\n",
       "    .dataframe thead th {\n",
       "        text-align: right;\n",
       "    }\n",
       "</style>\n",
       "<table border=\"1\" class=\"dataframe\">\n",
       "  <thead>\n",
       "    <tr style=\"text-align: right;\">\n",
       "      <th></th>\n",
       "      <th>PERIODO</th>\n",
       "      <th>ID CLIENTE</th>\n",
       "      <th>DEPARTAMENTO</th>\n",
       "      <th>CLASIFICACION</th>\n",
       "      <th>CONSUMO</th>\n",
       "      <th>TIPO CONSUMO</th>\n",
       "    </tr>\n",
       "  </thead>\n",
       "  <tbody>\n",
       "    <tr>\n",
       "      <th>277</th>\n",
       "      <td>2021-11-01</td>\n",
       "      <td>50071540</td>\n",
       "      <td>ATLANTICO</td>\n",
       "      <td>COMERCIAL</td>\n",
       "      <td>-75</td>\n",
       "      <td>REAL</td>\n",
       "    </tr>\n",
       "  </tbody>\n",
       "</table>\n",
       "</div>"
      ],
      "text/plain": [
       "       PERIODO ID CLIENTE DEPARTAMENTO CLASIFICACION  CONSUMO TIPO CONSUMO\n",
       "277 2021-11-01   50071540    ATLANTICO     COMERCIAL      -75         REAL"
      ]
     },
     "execution_count": 38,
     "metadata": {},
     "output_type": "execute_result"
    }
   ],
   "source": [
    "df[df[\"CONSUMO\"] < 0]"
   ]
  },
  {
   "cell_type": "code",
   "execution_count": 39,
   "metadata": {},
   "outputs": [
    {
     "data": {
      "text/html": [
       "<div>\n",
       "<style scoped>\n",
       "    .dataframe tbody tr th:only-of-type {\n",
       "        vertical-align: middle;\n",
       "    }\n",
       "\n",
       "    .dataframe tbody tr th {\n",
       "        vertical-align: top;\n",
       "    }\n",
       "\n",
       "    .dataframe thead th {\n",
       "        text-align: right;\n",
       "    }\n",
       "</style>\n",
       "<table border=\"1\" class=\"dataframe\">\n",
       "  <thead>\n",
       "    <tr style=\"text-align: right;\">\n",
       "      <th></th>\n",
       "      <th>PERIODO</th>\n",
       "      <th>ID CLIENTE</th>\n",
       "      <th>DEPARTAMENTO</th>\n",
       "      <th>CLASIFICACION</th>\n",
       "      <th>CONSUMO</th>\n",
       "      <th>TIPO CONSUMO</th>\n",
       "    </tr>\n",
       "  </thead>\n",
       "  <tbody>\n",
       "    <tr>\n",
       "      <th>17</th>\n",
       "      <td>2021-01-01</td>\n",
       "      <td>50071540</td>\n",
       "      <td>ATLANTICO</td>\n",
       "      <td>COMERCIAL</td>\n",
       "      <td>52</td>\n",
       "      <td>REAL</td>\n",
       "    </tr>\n",
       "    <tr>\n",
       "      <th>43</th>\n",
       "      <td>2021-02-01</td>\n",
       "      <td>50071540</td>\n",
       "      <td>ATLANTICO</td>\n",
       "      <td>COMERCIAL</td>\n",
       "      <td>45</td>\n",
       "      <td>REAL</td>\n",
       "    </tr>\n",
       "    <tr>\n",
       "      <th>69</th>\n",
       "      <td>2021-03-01</td>\n",
       "      <td>50071540</td>\n",
       "      <td>ATLANTICO</td>\n",
       "      <td>COMERCIAL</td>\n",
       "      <td>48</td>\n",
       "      <td>REAL</td>\n",
       "    </tr>\n",
       "    <tr>\n",
       "      <th>95</th>\n",
       "      <td>2021-04-01</td>\n",
       "      <td>50071540</td>\n",
       "      <td>ATLANTICO</td>\n",
       "      <td>COMERCIAL</td>\n",
       "      <td>26</td>\n",
       "      <td>REAL</td>\n",
       "    </tr>\n",
       "    <tr>\n",
       "      <th>121</th>\n",
       "      <td>2021-05-01</td>\n",
       "      <td>50071540</td>\n",
       "      <td>ATLANTICO</td>\n",
       "      <td>COMERCIAL</td>\n",
       "      <td>28</td>\n",
       "      <td>REAL</td>\n",
       "    </tr>\n",
       "    <tr>\n",
       "      <th>147</th>\n",
       "      <td>2021-06-01</td>\n",
       "      <td>50071540</td>\n",
       "      <td>ATLANTICO</td>\n",
       "      <td>COMERCIAL</td>\n",
       "      <td>40</td>\n",
       "      <td>ESTIMADO</td>\n",
       "    </tr>\n",
       "    <tr>\n",
       "      <th>173</th>\n",
       "      <td>2021-07-01</td>\n",
       "      <td>50071540</td>\n",
       "      <td>ATLANTICO</td>\n",
       "      <td>COMERCIAL</td>\n",
       "      <td>30</td>\n",
       "      <td>REAL</td>\n",
       "    </tr>\n",
       "    <tr>\n",
       "      <th>199</th>\n",
       "      <td>2021-08-01</td>\n",
       "      <td>50071540</td>\n",
       "      <td>ATLANTICO</td>\n",
       "      <td>COMERCIAL</td>\n",
       "      <td>36</td>\n",
       "      <td>ESTIMADO</td>\n",
       "    </tr>\n",
       "    <tr>\n",
       "      <th>225</th>\n",
       "      <td>2021-09-01</td>\n",
       "      <td>50071540</td>\n",
       "      <td>ATLANTICO</td>\n",
       "      <td>COMERCIAL</td>\n",
       "      <td>34</td>\n",
       "      <td>ESTIMADO</td>\n",
       "    </tr>\n",
       "    <tr>\n",
       "      <th>251</th>\n",
       "      <td>2021-10-01</td>\n",
       "      <td>50071540</td>\n",
       "      <td>ATLANTICO</td>\n",
       "      <td>COMERCIAL</td>\n",
       "      <td>31</td>\n",
       "      <td>ESTIMADO</td>\n",
       "    </tr>\n",
       "    <tr>\n",
       "      <th>277</th>\n",
       "      <td>2021-11-01</td>\n",
       "      <td>50071540</td>\n",
       "      <td>ATLANTICO</td>\n",
       "      <td>COMERCIAL</td>\n",
       "      <td>-75</td>\n",
       "      <td>REAL</td>\n",
       "    </tr>\n",
       "    <tr>\n",
       "      <th>303</th>\n",
       "      <td>2021-12-01</td>\n",
       "      <td>50071540</td>\n",
       "      <td>ATLANTICO</td>\n",
       "      <td>COMERCIAL</td>\n",
       "      <td>0</td>\n",
       "      <td>REAL</td>\n",
       "    </tr>\n",
       "  </tbody>\n",
       "</table>\n",
       "</div>"
      ],
      "text/plain": [
       "       PERIODO ID CLIENTE DEPARTAMENTO CLASIFICACION  CONSUMO TIPO CONSUMO\n",
       "17  2021-01-01   50071540    ATLANTICO     COMERCIAL       52         REAL\n",
       "43  2021-02-01   50071540    ATLANTICO     COMERCIAL       45         REAL\n",
       "69  2021-03-01   50071540    ATLANTICO     COMERCIAL       48         REAL\n",
       "95  2021-04-01   50071540    ATLANTICO     COMERCIAL       26         REAL\n",
       "121 2021-05-01   50071540    ATLANTICO     COMERCIAL       28         REAL\n",
       "147 2021-06-01   50071540    ATLANTICO     COMERCIAL       40     ESTIMADO\n",
       "173 2021-07-01   50071540    ATLANTICO     COMERCIAL       30         REAL\n",
       "199 2021-08-01   50071540    ATLANTICO     COMERCIAL       36     ESTIMADO\n",
       "225 2021-09-01   50071540    ATLANTICO     COMERCIAL       34     ESTIMADO\n",
       "251 2021-10-01   50071540    ATLANTICO     COMERCIAL       31     ESTIMADO\n",
       "277 2021-11-01   50071540    ATLANTICO     COMERCIAL      -75         REAL\n",
       "303 2021-12-01   50071540    ATLANTICO     COMERCIAL        0         REAL"
      ]
     },
     "execution_count": 39,
     "metadata": {},
     "output_type": "execute_result"
    }
   ],
   "source": [
    "df[df[\"ID CLIENTE\"] == \"50071540\"]"
   ]
  },
  {
   "cell_type": "markdown",
   "metadata": {},
   "source": [
    "Además del registro correpondiente al 11 de enero, los demás valores de consumo que tuvo el cliente con ID 50071540 se podrina considerar normales. El valor de -75 se podria reemplezar por un dato faltantes, y se aplciarian tecnicas de imputación para rellenar el dato."
   ]
  },
  {
   "cell_type": "markdown",
   "metadata": {},
   "source": [
    "Ahora se analizan los demás datos que visualmente se identifican como atipicos. "
   ]
  },
  {
   "cell_type": "code",
   "execution_count": 40,
   "metadata": {},
   "outputs": [
    {
     "data": {
      "text/plain": [
       "(58, 6)"
      ]
     },
     "execution_count": 40,
     "metadata": {},
     "output_type": "execute_result"
    }
   ],
   "source": [
    "x = np.quantile(df[\"CONSUMO\"],  [0.25,0.5,0.75])\n",
    "Q1 = x[0]\n",
    "Q3 = x[2]\n",
    "IQR = Q3 - Q1 \n",
    "LI = Q1 - 1.5*IQR\n",
    "LS = Q3 + 1.5*IQR\n",
    "df_atipicos = df.loc[(df[\"CONSUMO\"] < LI) | (df[\"CONSUMO\"] > LS)]\n",
    "df_atipicos.shape"
   ]
  },
  {
   "cell_type": "markdown",
   "metadata": {},
   "source": [
    "Se tienen 58 datos aparentemente atipicos. Estos valores se encuentran por encima de un consumo de 1000."
   ]
  },
  {
   "cell_type": "code",
   "execution_count": 41,
   "metadata": {},
   "outputs": [
    {
     "data": {
      "text/plain": [
       "array([ 6165,  4595, 21859,  6555,  5753,  6672,  4308, 19855,  7267,\n",
       "        8828,  4270, 23748,  3814,  8519,  5043,  4123, 19995,  3838,\n",
       "        7607,  1533,  4403, 16442,  3579,  6976,  1596,  4537,  4207,\n",
       "        3938,  3822,  1806,  4470,  6603,  7240,  3370,  1990,  4619,\n",
       "        4691,  8091,  2700,  3086,  4845,  1795,  8298,  2802,  4599,\n",
       "        3028,  9210,  1964,  2526,  4575,  8390,  5874,  3573,  2728,\n",
       "        5594, 12953,  6078,  6103], dtype=int64)"
      ]
     },
     "execution_count": 41,
     "metadata": {},
     "output_type": "execute_result"
    }
   ],
   "source": [
    "df_atipicos[\"CONSUMO\"].unique()"
   ]
  },
  {
   "cell_type": "code",
   "execution_count": 42,
   "metadata": {},
   "outputs": [
    {
     "name": "stdout",
     "output_type": "stream",
     "text": [
      "1533\n",
      "23748\n"
     ]
    }
   ],
   "source": [
    "print(np.min(df_atipicos[\"CONSUMO\"].unique()))\n",
    "print(np.max(df_atipicos[\"CONSUMO\"].unique()))"
   ]
  },
  {
   "cell_type": "markdown",
   "metadata": {},
   "source": [
    "Para verificar que estos datos se pueden considerar como atipicos, se revisa a que clasificacion pertenecen:"
   ]
  },
  {
   "cell_type": "code",
   "execution_count": 43,
   "metadata": {},
   "outputs": [
    {
     "data": {
      "text/plain": [
       "CLASIFICACION\n",
       "INDUSTRIAL    58\n",
       "Name: count, dtype: int64"
      ]
     },
     "execution_count": 43,
     "metadata": {},
     "output_type": "execute_result"
    }
   ],
   "source": [
    "df_atipicos[\"CLASIFICACION\"].value_counts()"
   ]
  },
  {
   "cell_type": "markdown",
   "metadata": {},
   "source": [
    "Los valores que aparentemente eran atipicos, son consumos de inmuebles industriales, los cuales es común que tengan altos consumos de gas. Estos datos que parecen ser un consumo atipico de gas, hacen parte del comportamiento normal de consumo para clientes con inmuebles de tipo industriual, por lo que no serian atipicos en su totalidad."
   ]
  },
  {
   "cell_type": "markdown",
   "metadata": {},
   "source": [
    "Tambien se logra observar que existen muchos regsitros en los que se tuvo un consumo de 0."
   ]
  },
  {
   "cell_type": "code",
   "execution_count": 44,
   "metadata": {},
   "outputs": [
    {
     "data": {
      "text/plain": [
       "ID CLIENTE\n",
       "1068535     12\n",
       "1131454     12\n",
       "1140821     12\n",
       "50071540     1\n",
       "Name: count, dtype: int64"
      ]
     },
     "execution_count": 44,
     "metadata": {},
     "output_type": "execute_result"
    }
   ],
   "source": [
    "df[df[\"CONSUMO\"]==0][\"ID CLIENTE\"].value_counts()"
   ]
  },
  {
   "cell_type": "markdown",
   "metadata": {},
   "source": [
    "Para 3 clientes, no se registraron consumo de gas durante todo el 2021. Esto podria indicar que estos inmuebles ya no estan siendo utilizados y por tanto no registran consumo de gas."
   ]
  },
  {
   "cell_type": "markdown",
   "metadata": {},
   "source": [
    "#### Análisis Bivariado"
   ]
  },
  {
   "cell_type": "markdown",
   "metadata": {},
   "source": [
    "##### CONSUMO VS CLASIFICACIÓN"
   ]
  },
  {
   "cell_type": "code",
   "execution_count": 45,
   "metadata": {},
   "outputs": [
    {
     "data": {
      "application/vnd.plotly.v1+json": {
       "config": {
        "plotlyServerURL": "https://plot.ly"
       },
       "data": [
        {
         "alignmentgroup": "True",
         "hovertemplate": "CONSUMO=%{x}<br>CLASIFICACION=%{y}<extra></extra>",
         "legendgroup": "",
         "marker": {
          "color": "#636efa"
         },
         "name": "",
         "notched": false,
         "offsetgroup": "",
         "orientation": "h",
         "showlegend": false,
         "type": "box",
         "x": [
          0,
          21,
          0,
          132,
          0,
          6165,
          7,
          24,
          11,
          19,
          27,
          4595,
          17,
          21859,
          12,
          11,
          106,
          52,
          6555,
          10,
          356,
          13,
          550,
          5753,
          11,
          10,
          0,
          26,
          0,
          106,
          0,
          6672,
          16,
          21,
          10,
          18,
          27,
          4308,
          19,
          19855,
          13,
          11,
          118,
          45,
          78,
          10,
          280,
          23,
          582,
          7267,
          12,
          12,
          0,
          32,
          0,
          106,
          0,
          8828,
          13,
          20,
          11,
          19,
          28,
          4270,
          22,
          23748,
          11,
          9,
          129,
          48,
          3814,
          10,
          388,
          18,
          570,
          8519,
          11,
          11,
          0,
          30,
          0,
          53,
          0,
          5043,
          15,
          32,
          16,
          17,
          20,
          4123,
          17,
          19995,
          14,
          9,
          119,
          26,
          3838,
          8,
          258,
          18,
          516,
          7607,
          15,
          12,
          0,
          30,
          0,
          41,
          0,
          1533,
          12,
          8,
          11,
          17,
          26,
          4403,
          18,
          16442,
          14,
          13,
          122,
          28,
          3579,
          11,
          250,
          16,
          362,
          6976,
          13,
          13,
          0,
          30,
          0,
          56,
          0,
          1596,
          11,
          20,
          10,
          18,
          26,
          4537,
          15,
          4207,
          11,
          7,
          139,
          40,
          3938,
          9,
          360,
          15,
          447,
          3822,
          15,
          13,
          0,
          28,
          0,
          39,
          0,
          1806,
          11,
          20,
          6,
          18,
          23,
          4470,
          15,
          6603,
          11,
          10,
          137,
          30,
          7240,
          9,
          389,
          17,
          456,
          3370,
          18,
          12,
          0,
          21,
          0,
          53,
          0,
          1990,
          13,
          18,
          16,
          19,
          22,
          4619,
          15,
          4691,
          14,
          10,
          154,
          36,
          8091,
          6,
          376,
          18,
          471,
          2700,
          14,
          20,
          0,
          31,
          0,
          51,
          0,
          3086,
          14,
          21,
          13,
          21,
          22,
          4845,
          13,
          1795,
          11,
          10,
          153,
          34,
          8298,
          7,
          380,
          20,
          407,
          182,
          15,
          22,
          0,
          28,
          0,
          82,
          0,
          2802,
          11,
          20,
          12,
          20,
          21,
          4599,
          11,
          3028,
          12,
          13,
          157,
          31,
          9210,
          9,
          370,
          22,
          405,
          1964,
          16,
          22,
          0,
          24,
          0,
          53,
          0,
          2526,
          13,
          21,
          16,
          18,
          17,
          4575,
          13,
          8390,
          12,
          13,
          166,
          -75,
          5874,
          9,
          353,
          18,
          448,
          3573,
          12,
          18,
          0,
          24,
          0,
          40,
          0,
          2728,
          13,
          18,
          13,
          18,
          20,
          5594,
          22,
          12953,
          13,
          15,
          159,
          0,
          6078,
          6,
          385,
          20,
          480,
          6103,
          11,
          13
         ],
         "x0": " ",
         "xaxis": "x",
         "y": [
          "RESIDENCIAL",
          "COMERCIAL",
          "RESIDENCIAL",
          "COMERCIAL",
          "RESIDENCIAL",
          "INDUSTRIAL",
          "RESIDENCIAL",
          "RESIDENCIAL",
          "RESIDENCIAL",
          "RESIDENCIAL",
          "RESIDENCIAL",
          "INDUSTRIAL",
          "RESIDENCIAL",
          "INDUSTRIAL",
          "RESIDENCIAL",
          "RESIDENCIAL",
          "COMERCIAL",
          "COMERCIAL",
          "INDUSTRIAL",
          "RESIDENCIAL",
          "COMERCIAL",
          "RESIDENCIAL",
          "COMERCIAL",
          "INDUSTRIAL",
          "RESIDENCIAL",
          "RESIDENCIAL",
          "RESIDENCIAL",
          "COMERCIAL",
          "RESIDENCIAL",
          "COMERCIAL",
          "RESIDENCIAL",
          "INDUSTRIAL",
          "RESIDENCIAL",
          "RESIDENCIAL",
          "RESIDENCIAL",
          "RESIDENCIAL",
          "RESIDENCIAL",
          "INDUSTRIAL",
          "RESIDENCIAL",
          "INDUSTRIAL",
          "RESIDENCIAL",
          "RESIDENCIAL",
          "COMERCIAL",
          "COMERCIAL",
          "INDUSTRIAL",
          "RESIDENCIAL",
          "COMERCIAL",
          "RESIDENCIAL",
          "COMERCIAL",
          "INDUSTRIAL",
          "RESIDENCIAL",
          "RESIDENCIAL",
          "RESIDENCIAL",
          "COMERCIAL",
          "RESIDENCIAL",
          "COMERCIAL",
          "RESIDENCIAL",
          "INDUSTRIAL",
          "RESIDENCIAL",
          "RESIDENCIAL",
          "RESIDENCIAL",
          "RESIDENCIAL",
          "RESIDENCIAL",
          "INDUSTRIAL",
          "RESIDENCIAL",
          "INDUSTRIAL",
          "RESIDENCIAL",
          "RESIDENCIAL",
          "COMERCIAL",
          "COMERCIAL",
          "INDUSTRIAL",
          "RESIDENCIAL",
          "COMERCIAL",
          "RESIDENCIAL",
          "COMERCIAL",
          "INDUSTRIAL",
          "RESIDENCIAL",
          "RESIDENCIAL",
          "RESIDENCIAL",
          "COMERCIAL",
          "RESIDENCIAL",
          "COMERCIAL",
          "RESIDENCIAL",
          "INDUSTRIAL",
          "RESIDENCIAL",
          "RESIDENCIAL",
          "RESIDENCIAL",
          "RESIDENCIAL",
          "RESIDENCIAL",
          "INDUSTRIAL",
          "RESIDENCIAL",
          "INDUSTRIAL",
          "RESIDENCIAL",
          "RESIDENCIAL",
          "COMERCIAL",
          "COMERCIAL",
          "INDUSTRIAL",
          "RESIDENCIAL",
          "COMERCIAL",
          "RESIDENCIAL",
          "COMERCIAL",
          "INDUSTRIAL",
          "RESIDENCIAL",
          "RESIDENCIAL",
          "RESIDENCIAL",
          "COMERCIAL",
          "RESIDENCIAL",
          "COMERCIAL",
          "RESIDENCIAL",
          "INDUSTRIAL",
          "RESIDENCIAL",
          "RESIDENCIAL",
          "RESIDENCIAL",
          "RESIDENCIAL",
          "RESIDENCIAL",
          "INDUSTRIAL",
          "RESIDENCIAL",
          "INDUSTRIAL",
          "RESIDENCIAL",
          "RESIDENCIAL",
          "COMERCIAL",
          "COMERCIAL",
          "INDUSTRIAL",
          "RESIDENCIAL",
          "COMERCIAL",
          "RESIDENCIAL",
          "COMERCIAL",
          "INDUSTRIAL",
          "RESIDENCIAL",
          "RESIDENCIAL",
          "RESIDENCIAL",
          "COMERCIAL",
          "RESIDENCIAL",
          "COMERCIAL",
          "RESIDENCIAL",
          "INDUSTRIAL",
          "RESIDENCIAL",
          "RESIDENCIAL",
          "RESIDENCIAL",
          "RESIDENCIAL",
          "RESIDENCIAL",
          "INDUSTRIAL",
          "RESIDENCIAL",
          "INDUSTRIAL",
          "RESIDENCIAL",
          "RESIDENCIAL",
          "COMERCIAL",
          "COMERCIAL",
          "INDUSTRIAL",
          "RESIDENCIAL",
          "COMERCIAL",
          "RESIDENCIAL",
          "COMERCIAL",
          "INDUSTRIAL",
          "RESIDENCIAL",
          "RESIDENCIAL",
          "RESIDENCIAL",
          "COMERCIAL",
          "RESIDENCIAL",
          "COMERCIAL",
          "RESIDENCIAL",
          "INDUSTRIAL",
          "RESIDENCIAL",
          "RESIDENCIAL",
          "RESIDENCIAL",
          "RESIDENCIAL",
          "RESIDENCIAL",
          "INDUSTRIAL",
          "RESIDENCIAL",
          "INDUSTRIAL",
          "RESIDENCIAL",
          "RESIDENCIAL",
          "COMERCIAL",
          "COMERCIAL",
          "INDUSTRIAL",
          "RESIDENCIAL",
          "COMERCIAL",
          "RESIDENCIAL",
          "COMERCIAL",
          "INDUSTRIAL",
          "RESIDENCIAL",
          "RESIDENCIAL",
          "RESIDENCIAL",
          "COMERCIAL",
          "RESIDENCIAL",
          "COMERCIAL",
          "RESIDENCIAL",
          "INDUSTRIAL",
          "RESIDENCIAL",
          "RESIDENCIAL",
          "RESIDENCIAL",
          "RESIDENCIAL",
          "RESIDENCIAL",
          "INDUSTRIAL",
          "RESIDENCIAL",
          "INDUSTRIAL",
          "RESIDENCIAL",
          "RESIDENCIAL",
          "COMERCIAL",
          "COMERCIAL",
          "INDUSTRIAL",
          "RESIDENCIAL",
          "COMERCIAL",
          "RESIDENCIAL",
          "COMERCIAL",
          "INDUSTRIAL",
          "RESIDENCIAL",
          "RESIDENCIAL",
          "RESIDENCIAL",
          "COMERCIAL",
          "RESIDENCIAL",
          "COMERCIAL",
          "RESIDENCIAL",
          "INDUSTRIAL",
          "RESIDENCIAL",
          "RESIDENCIAL",
          "RESIDENCIAL",
          "RESIDENCIAL",
          "RESIDENCIAL",
          "INDUSTRIAL",
          "RESIDENCIAL",
          "INDUSTRIAL",
          "RESIDENCIAL",
          "RESIDENCIAL",
          "COMERCIAL",
          "COMERCIAL",
          "INDUSTRIAL",
          "RESIDENCIAL",
          "COMERCIAL",
          "RESIDENCIAL",
          "COMERCIAL",
          "INDUSTRIAL",
          "RESIDENCIAL",
          "RESIDENCIAL",
          "RESIDENCIAL",
          "COMERCIAL",
          "RESIDENCIAL",
          "COMERCIAL",
          "RESIDENCIAL",
          "INDUSTRIAL",
          "RESIDENCIAL",
          "RESIDENCIAL",
          "RESIDENCIAL",
          "RESIDENCIAL",
          "RESIDENCIAL",
          "INDUSTRIAL",
          "RESIDENCIAL",
          "INDUSTRIAL",
          "RESIDENCIAL",
          "RESIDENCIAL",
          "COMERCIAL",
          "COMERCIAL",
          "INDUSTRIAL",
          "RESIDENCIAL",
          "COMERCIAL",
          "RESIDENCIAL",
          "COMERCIAL",
          "INDUSTRIAL",
          "RESIDENCIAL",
          "RESIDENCIAL",
          "RESIDENCIAL",
          "COMERCIAL",
          "RESIDENCIAL",
          "COMERCIAL",
          "RESIDENCIAL",
          "INDUSTRIAL",
          "RESIDENCIAL",
          "RESIDENCIAL",
          "RESIDENCIAL",
          "RESIDENCIAL",
          "RESIDENCIAL",
          "INDUSTRIAL",
          "RESIDENCIAL",
          "INDUSTRIAL",
          "RESIDENCIAL",
          "RESIDENCIAL",
          "COMERCIAL",
          "COMERCIAL",
          "INDUSTRIAL",
          "RESIDENCIAL",
          "COMERCIAL",
          "RESIDENCIAL",
          "COMERCIAL",
          "INDUSTRIAL",
          "RESIDENCIAL",
          "RESIDENCIAL",
          "RESIDENCIAL",
          "COMERCIAL",
          "RESIDENCIAL",
          "COMERCIAL",
          "RESIDENCIAL",
          "INDUSTRIAL",
          "RESIDENCIAL",
          "RESIDENCIAL",
          "RESIDENCIAL",
          "RESIDENCIAL",
          "RESIDENCIAL",
          "INDUSTRIAL",
          "RESIDENCIAL",
          "INDUSTRIAL",
          "RESIDENCIAL",
          "RESIDENCIAL",
          "COMERCIAL",
          "COMERCIAL",
          "INDUSTRIAL",
          "RESIDENCIAL",
          "COMERCIAL",
          "RESIDENCIAL",
          "COMERCIAL",
          "INDUSTRIAL",
          "RESIDENCIAL",
          "RESIDENCIAL"
         ],
         "y0": " ",
         "yaxis": "y"
        }
       ],
       "layout": {
        "boxmode": "group",
        "legend": {
         "tracegroupgap": 0
        },
        "template": {
         "data": {
          "bar": [
           {
            "error_x": {
             "color": "#2a3f5f"
            },
            "error_y": {
             "color": "#2a3f5f"
            },
            "marker": {
             "line": {
              "color": "#E5ECF6",
              "width": 0.5
             },
             "pattern": {
              "fillmode": "overlay",
              "size": 10,
              "solidity": 0.2
             }
            },
            "type": "bar"
           }
          ],
          "barpolar": [
           {
            "marker": {
             "line": {
              "color": "#E5ECF6",
              "width": 0.5
             },
             "pattern": {
              "fillmode": "overlay",
              "size": 10,
              "solidity": 0.2
             }
            },
            "type": "barpolar"
           }
          ],
          "carpet": [
           {
            "aaxis": {
             "endlinecolor": "#2a3f5f",
             "gridcolor": "white",
             "linecolor": "white",
             "minorgridcolor": "white",
             "startlinecolor": "#2a3f5f"
            },
            "baxis": {
             "endlinecolor": "#2a3f5f",
             "gridcolor": "white",
             "linecolor": "white",
             "minorgridcolor": "white",
             "startlinecolor": "#2a3f5f"
            },
            "type": "carpet"
           }
          ],
          "choropleth": [
           {
            "colorbar": {
             "outlinewidth": 0,
             "ticks": ""
            },
            "type": "choropleth"
           }
          ],
          "contour": [
           {
            "colorbar": {
             "outlinewidth": 0,
             "ticks": ""
            },
            "colorscale": [
             [
              0,
              "#0d0887"
             ],
             [
              0.1111111111111111,
              "#46039f"
             ],
             [
              0.2222222222222222,
              "#7201a8"
             ],
             [
              0.3333333333333333,
              "#9c179e"
             ],
             [
              0.4444444444444444,
              "#bd3786"
             ],
             [
              0.5555555555555556,
              "#d8576b"
             ],
             [
              0.6666666666666666,
              "#ed7953"
             ],
             [
              0.7777777777777778,
              "#fb9f3a"
             ],
             [
              0.8888888888888888,
              "#fdca26"
             ],
             [
              1,
              "#f0f921"
             ]
            ],
            "type": "contour"
           }
          ],
          "contourcarpet": [
           {
            "colorbar": {
             "outlinewidth": 0,
             "ticks": ""
            },
            "type": "contourcarpet"
           }
          ],
          "heatmap": [
           {
            "colorbar": {
             "outlinewidth": 0,
             "ticks": ""
            },
            "colorscale": [
             [
              0,
              "#0d0887"
             ],
             [
              0.1111111111111111,
              "#46039f"
             ],
             [
              0.2222222222222222,
              "#7201a8"
             ],
             [
              0.3333333333333333,
              "#9c179e"
             ],
             [
              0.4444444444444444,
              "#bd3786"
             ],
             [
              0.5555555555555556,
              "#d8576b"
             ],
             [
              0.6666666666666666,
              "#ed7953"
             ],
             [
              0.7777777777777778,
              "#fb9f3a"
             ],
             [
              0.8888888888888888,
              "#fdca26"
             ],
             [
              1,
              "#f0f921"
             ]
            ],
            "type": "heatmap"
           }
          ],
          "heatmapgl": [
           {
            "colorbar": {
             "outlinewidth": 0,
             "ticks": ""
            },
            "colorscale": [
             [
              0,
              "#0d0887"
             ],
             [
              0.1111111111111111,
              "#46039f"
             ],
             [
              0.2222222222222222,
              "#7201a8"
             ],
             [
              0.3333333333333333,
              "#9c179e"
             ],
             [
              0.4444444444444444,
              "#bd3786"
             ],
             [
              0.5555555555555556,
              "#d8576b"
             ],
             [
              0.6666666666666666,
              "#ed7953"
             ],
             [
              0.7777777777777778,
              "#fb9f3a"
             ],
             [
              0.8888888888888888,
              "#fdca26"
             ],
             [
              1,
              "#f0f921"
             ]
            ],
            "type": "heatmapgl"
           }
          ],
          "histogram": [
           {
            "marker": {
             "pattern": {
              "fillmode": "overlay",
              "size": 10,
              "solidity": 0.2
             }
            },
            "type": "histogram"
           }
          ],
          "histogram2d": [
           {
            "colorbar": {
             "outlinewidth": 0,
             "ticks": ""
            },
            "colorscale": [
             [
              0,
              "#0d0887"
             ],
             [
              0.1111111111111111,
              "#46039f"
             ],
             [
              0.2222222222222222,
              "#7201a8"
             ],
             [
              0.3333333333333333,
              "#9c179e"
             ],
             [
              0.4444444444444444,
              "#bd3786"
             ],
             [
              0.5555555555555556,
              "#d8576b"
             ],
             [
              0.6666666666666666,
              "#ed7953"
             ],
             [
              0.7777777777777778,
              "#fb9f3a"
             ],
             [
              0.8888888888888888,
              "#fdca26"
             ],
             [
              1,
              "#f0f921"
             ]
            ],
            "type": "histogram2d"
           }
          ],
          "histogram2dcontour": [
           {
            "colorbar": {
             "outlinewidth": 0,
             "ticks": ""
            },
            "colorscale": [
             [
              0,
              "#0d0887"
             ],
             [
              0.1111111111111111,
              "#46039f"
             ],
             [
              0.2222222222222222,
              "#7201a8"
             ],
             [
              0.3333333333333333,
              "#9c179e"
             ],
             [
              0.4444444444444444,
              "#bd3786"
             ],
             [
              0.5555555555555556,
              "#d8576b"
             ],
             [
              0.6666666666666666,
              "#ed7953"
             ],
             [
              0.7777777777777778,
              "#fb9f3a"
             ],
             [
              0.8888888888888888,
              "#fdca26"
             ],
             [
              1,
              "#f0f921"
             ]
            ],
            "type": "histogram2dcontour"
           }
          ],
          "mesh3d": [
           {
            "colorbar": {
             "outlinewidth": 0,
             "ticks": ""
            },
            "type": "mesh3d"
           }
          ],
          "parcoords": [
           {
            "line": {
             "colorbar": {
              "outlinewidth": 0,
              "ticks": ""
             }
            },
            "type": "parcoords"
           }
          ],
          "pie": [
           {
            "automargin": true,
            "type": "pie"
           }
          ],
          "scatter": [
           {
            "fillpattern": {
             "fillmode": "overlay",
             "size": 10,
             "solidity": 0.2
            },
            "type": "scatter"
           }
          ],
          "scatter3d": [
           {
            "line": {
             "colorbar": {
              "outlinewidth": 0,
              "ticks": ""
             }
            },
            "marker": {
             "colorbar": {
              "outlinewidth": 0,
              "ticks": ""
             }
            },
            "type": "scatter3d"
           }
          ],
          "scattercarpet": [
           {
            "marker": {
             "colorbar": {
              "outlinewidth": 0,
              "ticks": ""
             }
            },
            "type": "scattercarpet"
           }
          ],
          "scattergeo": [
           {
            "marker": {
             "colorbar": {
              "outlinewidth": 0,
              "ticks": ""
             }
            },
            "type": "scattergeo"
           }
          ],
          "scattergl": [
           {
            "marker": {
             "colorbar": {
              "outlinewidth": 0,
              "ticks": ""
             }
            },
            "type": "scattergl"
           }
          ],
          "scattermapbox": [
           {
            "marker": {
             "colorbar": {
              "outlinewidth": 0,
              "ticks": ""
             }
            },
            "type": "scattermapbox"
           }
          ],
          "scatterpolar": [
           {
            "marker": {
             "colorbar": {
              "outlinewidth": 0,
              "ticks": ""
             }
            },
            "type": "scatterpolar"
           }
          ],
          "scatterpolargl": [
           {
            "marker": {
             "colorbar": {
              "outlinewidth": 0,
              "ticks": ""
             }
            },
            "type": "scatterpolargl"
           }
          ],
          "scatterternary": [
           {
            "marker": {
             "colorbar": {
              "outlinewidth": 0,
              "ticks": ""
             }
            },
            "type": "scatterternary"
           }
          ],
          "surface": [
           {
            "colorbar": {
             "outlinewidth": 0,
             "ticks": ""
            },
            "colorscale": [
             [
              0,
              "#0d0887"
             ],
             [
              0.1111111111111111,
              "#46039f"
             ],
             [
              0.2222222222222222,
              "#7201a8"
             ],
             [
              0.3333333333333333,
              "#9c179e"
             ],
             [
              0.4444444444444444,
              "#bd3786"
             ],
             [
              0.5555555555555556,
              "#d8576b"
             ],
             [
              0.6666666666666666,
              "#ed7953"
             ],
             [
              0.7777777777777778,
              "#fb9f3a"
             ],
             [
              0.8888888888888888,
              "#fdca26"
             ],
             [
              1,
              "#f0f921"
             ]
            ],
            "type": "surface"
           }
          ],
          "table": [
           {
            "cells": {
             "fill": {
              "color": "#EBF0F8"
             },
             "line": {
              "color": "white"
             }
            },
            "header": {
             "fill": {
              "color": "#C8D4E3"
             },
             "line": {
              "color": "white"
             }
            },
            "type": "table"
           }
          ]
         },
         "layout": {
          "annotationdefaults": {
           "arrowcolor": "#2a3f5f",
           "arrowhead": 0,
           "arrowwidth": 1
          },
          "autotypenumbers": "strict",
          "coloraxis": {
           "colorbar": {
            "outlinewidth": 0,
            "ticks": ""
           }
          },
          "colorscale": {
           "diverging": [
            [
             0,
             "#8e0152"
            ],
            [
             0.1,
             "#c51b7d"
            ],
            [
             0.2,
             "#de77ae"
            ],
            [
             0.3,
             "#f1b6da"
            ],
            [
             0.4,
             "#fde0ef"
            ],
            [
             0.5,
             "#f7f7f7"
            ],
            [
             0.6,
             "#e6f5d0"
            ],
            [
             0.7,
             "#b8e186"
            ],
            [
             0.8,
             "#7fbc41"
            ],
            [
             0.9,
             "#4d9221"
            ],
            [
             1,
             "#276419"
            ]
           ],
           "sequential": [
            [
             0,
             "#0d0887"
            ],
            [
             0.1111111111111111,
             "#46039f"
            ],
            [
             0.2222222222222222,
             "#7201a8"
            ],
            [
             0.3333333333333333,
             "#9c179e"
            ],
            [
             0.4444444444444444,
             "#bd3786"
            ],
            [
             0.5555555555555556,
             "#d8576b"
            ],
            [
             0.6666666666666666,
             "#ed7953"
            ],
            [
             0.7777777777777778,
             "#fb9f3a"
            ],
            [
             0.8888888888888888,
             "#fdca26"
            ],
            [
             1,
             "#f0f921"
            ]
           ],
           "sequentialminus": [
            [
             0,
             "#0d0887"
            ],
            [
             0.1111111111111111,
             "#46039f"
            ],
            [
             0.2222222222222222,
             "#7201a8"
            ],
            [
             0.3333333333333333,
             "#9c179e"
            ],
            [
             0.4444444444444444,
             "#bd3786"
            ],
            [
             0.5555555555555556,
             "#d8576b"
            ],
            [
             0.6666666666666666,
             "#ed7953"
            ],
            [
             0.7777777777777778,
             "#fb9f3a"
            ],
            [
             0.8888888888888888,
             "#fdca26"
            ],
            [
             1,
             "#f0f921"
            ]
           ]
          },
          "colorway": [
           "#636efa",
           "#EF553B",
           "#00cc96",
           "#ab63fa",
           "#FFA15A",
           "#19d3f3",
           "#FF6692",
           "#B6E880",
           "#FF97FF",
           "#FECB52"
          ],
          "font": {
           "color": "#2a3f5f"
          },
          "geo": {
           "bgcolor": "white",
           "lakecolor": "white",
           "landcolor": "#E5ECF6",
           "showlakes": true,
           "showland": true,
           "subunitcolor": "white"
          },
          "hoverlabel": {
           "align": "left"
          },
          "hovermode": "closest",
          "mapbox": {
           "style": "light"
          },
          "paper_bgcolor": "white",
          "plot_bgcolor": "#E5ECF6",
          "polar": {
           "angularaxis": {
            "gridcolor": "white",
            "linecolor": "white",
            "ticks": ""
           },
           "bgcolor": "#E5ECF6",
           "radialaxis": {
            "gridcolor": "white",
            "linecolor": "white",
            "ticks": ""
           }
          },
          "scene": {
           "xaxis": {
            "backgroundcolor": "#E5ECF6",
            "gridcolor": "white",
            "gridwidth": 2,
            "linecolor": "white",
            "showbackground": true,
            "ticks": "",
            "zerolinecolor": "white"
           },
           "yaxis": {
            "backgroundcolor": "#E5ECF6",
            "gridcolor": "white",
            "gridwidth": 2,
            "linecolor": "white",
            "showbackground": true,
            "ticks": "",
            "zerolinecolor": "white"
           },
           "zaxis": {
            "backgroundcolor": "#E5ECF6",
            "gridcolor": "white",
            "gridwidth": 2,
            "linecolor": "white",
            "showbackground": true,
            "ticks": "",
            "zerolinecolor": "white"
           }
          },
          "shapedefaults": {
           "line": {
            "color": "#2a3f5f"
           }
          },
          "ternary": {
           "aaxis": {
            "gridcolor": "white",
            "linecolor": "white",
            "ticks": ""
           },
           "baxis": {
            "gridcolor": "white",
            "linecolor": "white",
            "ticks": ""
           },
           "bgcolor": "#E5ECF6",
           "caxis": {
            "gridcolor": "white",
            "linecolor": "white",
            "ticks": ""
           }
          },
          "title": {
           "x": 0.05
          },
          "xaxis": {
           "automargin": true,
           "gridcolor": "white",
           "linecolor": "white",
           "ticks": "",
           "title": {
            "standoff": 15
           },
           "zerolinecolor": "white",
           "zerolinewidth": 2
          },
          "yaxis": {
           "automargin": true,
           "gridcolor": "white",
           "linecolor": "white",
           "ticks": "",
           "title": {
            "standoff": 15
           },
           "zerolinecolor": "white",
           "zerolinewidth": 2
          }
         }
        },
        "title": {
         "text": "Consumo por tipo de inmueble"
        },
        "xaxis": {
         "anchor": "y",
         "domain": [
          0,
          1
         ],
         "title": {
          "text": "CONSUMO"
         }
        },
        "yaxis": {
         "anchor": "x",
         "domain": [
          0,
          1
         ],
         "title": {
          "text": "CLASIFICACION"
         }
        }
       }
      }
     },
     "metadata": {},
     "output_type": "display_data"
    }
   ],
   "source": [
    "fig = px.box(df, x=\"CONSUMO\", y=\"CLASIFICACION\",orientation=\"h\", title=\"Consumo por tipo de inmueble\")\n",
    "fig.show()"
   ]
  },
  {
   "cell_type": "markdown",
   "metadata": {},
   "source": [
    "Con esto se confirma, que los inmuebles de tipo Industrial son los que tienen mayor consumo de gas, seguido de los inmuebles de tipo Comercial. Los inmuebles de tipo residencial, auqnue son mayoria, son los que menos gas consumen, teniendo valores meneroa a 50.\n",
    "\n",
    "Dentro de los valores de consumo de gas para inmuebles industriales, se puede apreciar que existen algunos valores atipicos visualmente."
   ]
  },
  {
   "cell_type": "markdown",
   "metadata": {},
   "source": [
    "##### CONSUMO VS DEPARTAMENTO\n"
   ]
  },
  {
   "cell_type": "code",
   "execution_count": 46,
   "metadata": {},
   "outputs": [
    {
     "data": {
      "application/vnd.plotly.v1+json": {
       "config": {
        "plotlyServerURL": "https://plot.ly"
       },
       "data": [
        {
         "alignmentgroup": "True",
         "boxpoints": "all",
         "hovertemplate": "CONSUMO=%{x}<br>DEPARTAMENTO=%{y}<extra></extra>",
         "legendgroup": "",
         "marker": {
          "color": "#636efa"
         },
         "name": "",
         "notched": false,
         "offsetgroup": "",
         "orientation": "h",
         "showlegend": false,
         "type": "box",
         "x": [
          0,
          21,
          0,
          132,
          0,
          6165,
          7,
          24,
          11,
          19,
          27,
          4595,
          17,
          21859,
          12,
          11,
          106,
          52,
          6555,
          10,
          356,
          13,
          550,
          5753,
          11,
          10,
          0,
          26,
          0,
          106,
          0,
          6672,
          16,
          21,
          10,
          18,
          27,
          4308,
          19,
          19855,
          13,
          11,
          118,
          45,
          78,
          10,
          280,
          23,
          582,
          7267,
          12,
          12,
          0,
          32,
          0,
          106,
          0,
          8828,
          13,
          20,
          11,
          19,
          28,
          4270,
          22,
          23748,
          11,
          9,
          129,
          48,
          3814,
          10,
          388,
          18,
          570,
          8519,
          11,
          11,
          0,
          30,
          0,
          53,
          0,
          5043,
          15,
          32,
          16,
          17,
          20,
          4123,
          17,
          19995,
          14,
          9,
          119,
          26,
          3838,
          8,
          258,
          18,
          516,
          7607,
          15,
          12,
          0,
          30,
          0,
          41,
          0,
          1533,
          12,
          8,
          11,
          17,
          26,
          4403,
          18,
          16442,
          14,
          13,
          122,
          28,
          3579,
          11,
          250,
          16,
          362,
          6976,
          13,
          13,
          0,
          30,
          0,
          56,
          0,
          1596,
          11,
          20,
          10,
          18,
          26,
          4537,
          15,
          4207,
          11,
          7,
          139,
          40,
          3938,
          9,
          360,
          15,
          447,
          3822,
          15,
          13,
          0,
          28,
          0,
          39,
          0,
          1806,
          11,
          20,
          6,
          18,
          23,
          4470,
          15,
          6603,
          11,
          10,
          137,
          30,
          7240,
          9,
          389,
          17,
          456,
          3370,
          18,
          12,
          0,
          21,
          0,
          53,
          0,
          1990,
          13,
          18,
          16,
          19,
          22,
          4619,
          15,
          4691,
          14,
          10,
          154,
          36,
          8091,
          6,
          376,
          18,
          471,
          2700,
          14,
          20,
          0,
          31,
          0,
          51,
          0,
          3086,
          14,
          21,
          13,
          21,
          22,
          4845,
          13,
          1795,
          11,
          10,
          153,
          34,
          8298,
          7,
          380,
          20,
          407,
          182,
          15,
          22,
          0,
          28,
          0,
          82,
          0,
          2802,
          11,
          20,
          12,
          20,
          21,
          4599,
          11,
          3028,
          12,
          13,
          157,
          31,
          9210,
          9,
          370,
          22,
          405,
          1964,
          16,
          22,
          0,
          24,
          0,
          53,
          0,
          2526,
          13,
          21,
          16,
          18,
          17,
          4575,
          13,
          8390,
          12,
          13,
          166,
          -75,
          5874,
          9,
          353,
          18,
          448,
          3573,
          12,
          18,
          0,
          24,
          0,
          40,
          0,
          2728,
          13,
          18,
          13,
          18,
          20,
          5594,
          22,
          12953,
          13,
          15,
          159,
          0,
          6078,
          6,
          385,
          20,
          480,
          6103,
          11,
          13
         ],
         "x0": " ",
         "xaxis": "x",
         "y": [
          "ATLANTICO",
          "ATLANTICO",
          "ATLANTICO",
          "ATLANTICO",
          "ATLANTICO",
          "ATLANTICO",
          "MAGDALENA",
          "MAGDALENA",
          "MAGDALENA",
          "ATLANTICO",
          "ATLANTICO",
          "ATLANTICO",
          "ATLANTICO",
          "MAGDALENA",
          "MAGDALENA",
          "ATLANTICO",
          "ATLANTICO",
          "ATLANTICO",
          "ATLANTICO",
          "ATLANTICO",
          "ATLANTICO",
          "ATLANTICO",
          "ATLANTICO",
          "MAGDALENA",
          "MAGDALENA",
          "ATLANTICO",
          "ATLANTICO",
          "ATLANTICO",
          "ATLANTICO",
          "ATLANTICO",
          "ATLANTICO",
          "ATLANTICO",
          "MAGDALENA",
          "MAGDALENA",
          "MAGDALENA",
          "ATLANTICO",
          "ATLANTICO",
          "ATLANTICO",
          "ATLANTICO",
          "MAGDALENA",
          "MAGDALENA",
          "ATLANTICO",
          "ATLANTICO",
          "ATLANTICO",
          "ATLANTICO",
          "ATLANTICO",
          "ATLANTICO",
          "ATLANTICO",
          "ATLANTICO",
          "MAGDALENA",
          "MAGDALENA",
          "ATLANTICO",
          "ATLANTICO",
          "ATLANTICO",
          "ATLANTICO",
          "ATLANTICO",
          "ATLANTICO",
          "ATLANTICO",
          "MAGDALENA",
          "MAGDALENA",
          "MAGDALENA",
          "ATLANTICO",
          "ATLANTICO",
          "ATLANTICO",
          "ATLANTICO",
          "MAGDALENA",
          "MAGDALENA",
          "ATLANTICO",
          "ATLANTICO",
          "ATLANTICO",
          "ATLANTICO",
          "ATLANTICO",
          "ATLANTICO",
          "ATLANTICO",
          "ATLANTICO",
          "MAGDALENA",
          "MAGDALENA",
          "ATLANTICO",
          "ATLANTICO",
          "ATLANTICO",
          "ATLANTICO",
          "ATLANTICO",
          "ATLANTICO",
          "ATLANTICO",
          "MAGDALENA",
          "MAGDALENA",
          "MAGDALENA",
          "ATLANTICO",
          "ATLANTICO",
          "ATLANTICO",
          "ATLANTICO",
          "MAGDALENA",
          "MAGDALENA",
          "ATLANTICO",
          "ATLANTICO",
          "ATLANTICO",
          "ATLANTICO",
          "ATLANTICO",
          "ATLANTICO",
          "ATLANTICO",
          "ATLANTICO",
          "MAGDALENA",
          "MAGDALENA",
          "ATLANTICO",
          "ATLANTICO",
          "ATLANTICO",
          "ATLANTICO",
          "ATLANTICO",
          "ATLANTICO",
          "ATLANTICO",
          "MAGDALENA",
          "MAGDALENA",
          "MAGDALENA",
          "ATLANTICO",
          "ATLANTICO",
          "ATLANTICO",
          "ATLANTICO",
          "MAGDALENA",
          "MAGDALENA",
          "ATLANTICO",
          "ATLANTICO",
          "ATLANTICO",
          "ATLANTICO",
          "ATLANTICO",
          "ATLANTICO",
          "ATLANTICO",
          "ATLANTICO",
          "MAGDALENA",
          "MAGDALENA",
          "ATLANTICO",
          "ATLANTICO",
          "ATLANTICO",
          "ATLANTICO",
          "ATLANTICO",
          "ATLANTICO",
          "ATLANTICO",
          "MAGDALENA",
          "MAGDALENA",
          "MAGDALENA",
          "ATLANTICO",
          "ATLANTICO",
          "ATLANTICO",
          "ATLANTICO",
          "MAGDALENA",
          "MAGDALENA",
          "ATLANTICO",
          "ATLANTICO",
          "ATLANTICO",
          "ATLANTICO",
          "ATLANTICO",
          "ATLANTICO",
          "ATLANTICO",
          "ATLANTICO",
          "MAGDALENA",
          "MAGDALENA",
          "ATLANTICO",
          "ATLANTICO",
          "ATLANTICO",
          "ATLANTICO",
          "ATLANTICO",
          "ATLANTICO",
          "ATLANTICO",
          "MAGDALENA",
          "MAGDALENA",
          "MAGDALENA",
          "ATLANTICO",
          "ATLANTICO",
          "ATLANTICO",
          "ATLANTICO",
          "MAGDALENA",
          "MAGDALENA",
          "ATLANTICO",
          "ATLANTICO",
          "ATLANTICO",
          "ATLANTICO",
          "ATLANTICO",
          "ATLANTICO",
          "ATLANTICO",
          "ATLANTICO",
          "MAGDALENA",
          "MAGDALENA",
          "ATLANTICO",
          "ATLANTICO",
          "ATLANTICO",
          "ATLANTICO",
          "ATLANTICO",
          "ATLANTICO",
          "ATLANTICO",
          "MAGDALENA",
          "MAGDALENA",
          "MAGDALENA",
          "ATLANTICO",
          "ATLANTICO",
          "ATLANTICO",
          "ATLANTICO",
          "MAGDALENA",
          "MAGDALENA",
          "ATLANTICO",
          "ATLANTICO",
          "ATLANTICO",
          "ATLANTICO",
          "ATLANTICO",
          "ATLANTICO",
          "ATLANTICO",
          "ATLANTICO",
          "MAGDALENA",
          "MAGDALENA",
          "ATLANTICO",
          "ATLANTICO",
          "ATLANTICO",
          "ATLANTICO",
          "ATLANTICO",
          "ATLANTICO",
          "ATLANTICO",
          "MAGDALENA",
          "MAGDALENA",
          "MAGDALENA",
          "ATLANTICO",
          "ATLANTICO",
          "ATLANTICO",
          "ATLANTICO",
          "MAGDALENA",
          "MAGDALENA",
          "ATLANTICO",
          "ATLANTICO",
          "ATLANTICO",
          "ATLANTICO",
          "ATLANTICO",
          "ATLANTICO",
          "ATLANTICO",
          "ATLANTICO",
          "MAGDALENA",
          "MAGDALENA",
          "ATLANTICO",
          "ATLANTICO",
          "ATLANTICO",
          "ATLANTICO",
          "ATLANTICO",
          "ATLANTICO",
          "ATLANTICO",
          "MAGDALENA",
          "MAGDALENA",
          "MAGDALENA",
          "ATLANTICO",
          "ATLANTICO",
          "ATLANTICO",
          "ATLANTICO",
          "MAGDALENA",
          "MAGDALENA",
          "ATLANTICO",
          "ATLANTICO",
          "ATLANTICO",
          "ATLANTICO",
          "ATLANTICO",
          "ATLANTICO",
          "ATLANTICO",
          "ATLANTICO",
          "MAGDALENA",
          "MAGDALENA",
          "ATLANTICO",
          "ATLANTICO",
          "ATLANTICO",
          "ATLANTICO",
          "ATLANTICO",
          "ATLANTICO",
          "ATLANTICO",
          "MAGDALENA",
          "MAGDALENA",
          "MAGDALENA",
          "ATLANTICO",
          "ATLANTICO",
          "ATLANTICO",
          "ATLANTICO",
          "MAGDALENA",
          "MAGDALENA",
          "ATLANTICO",
          "ATLANTICO",
          "ATLANTICO",
          "ATLANTICO",
          "ATLANTICO",
          "ATLANTICO",
          "ATLANTICO",
          "ATLANTICO",
          "MAGDALENA",
          "MAGDALENA",
          "ATLANTICO",
          "ATLANTICO",
          "ATLANTICO",
          "ATLANTICO",
          "ATLANTICO",
          "ATLANTICO",
          "ATLANTICO",
          "MAGDALENA",
          "MAGDALENA",
          "MAGDALENA",
          "ATLANTICO",
          "ATLANTICO",
          "ATLANTICO",
          "ATLANTICO",
          "MAGDALENA",
          "MAGDALENA",
          "ATLANTICO",
          "ATLANTICO",
          "ATLANTICO",
          "ATLANTICO",
          "ATLANTICO",
          "ATLANTICO",
          "ATLANTICO",
          "ATLANTICO",
          "MAGDALENA",
          "MAGDALENA",
          "ATLANTICO"
         ],
         "y0": " ",
         "yaxis": "y"
        }
       ],
       "layout": {
        "boxmode": "group",
        "legend": {
         "tracegroupgap": 0
        },
        "template": {
         "data": {
          "bar": [
           {
            "error_x": {
             "color": "#2a3f5f"
            },
            "error_y": {
             "color": "#2a3f5f"
            },
            "marker": {
             "line": {
              "color": "#E5ECF6",
              "width": 0.5
             },
             "pattern": {
              "fillmode": "overlay",
              "size": 10,
              "solidity": 0.2
             }
            },
            "type": "bar"
           }
          ],
          "barpolar": [
           {
            "marker": {
             "line": {
              "color": "#E5ECF6",
              "width": 0.5
             },
             "pattern": {
              "fillmode": "overlay",
              "size": 10,
              "solidity": 0.2
             }
            },
            "type": "barpolar"
           }
          ],
          "carpet": [
           {
            "aaxis": {
             "endlinecolor": "#2a3f5f",
             "gridcolor": "white",
             "linecolor": "white",
             "minorgridcolor": "white",
             "startlinecolor": "#2a3f5f"
            },
            "baxis": {
             "endlinecolor": "#2a3f5f",
             "gridcolor": "white",
             "linecolor": "white",
             "minorgridcolor": "white",
             "startlinecolor": "#2a3f5f"
            },
            "type": "carpet"
           }
          ],
          "choropleth": [
           {
            "colorbar": {
             "outlinewidth": 0,
             "ticks": ""
            },
            "type": "choropleth"
           }
          ],
          "contour": [
           {
            "colorbar": {
             "outlinewidth": 0,
             "ticks": ""
            },
            "colorscale": [
             [
              0,
              "#0d0887"
             ],
             [
              0.1111111111111111,
              "#46039f"
             ],
             [
              0.2222222222222222,
              "#7201a8"
             ],
             [
              0.3333333333333333,
              "#9c179e"
             ],
             [
              0.4444444444444444,
              "#bd3786"
             ],
             [
              0.5555555555555556,
              "#d8576b"
             ],
             [
              0.6666666666666666,
              "#ed7953"
             ],
             [
              0.7777777777777778,
              "#fb9f3a"
             ],
             [
              0.8888888888888888,
              "#fdca26"
             ],
             [
              1,
              "#f0f921"
             ]
            ],
            "type": "contour"
           }
          ],
          "contourcarpet": [
           {
            "colorbar": {
             "outlinewidth": 0,
             "ticks": ""
            },
            "type": "contourcarpet"
           }
          ],
          "heatmap": [
           {
            "colorbar": {
             "outlinewidth": 0,
             "ticks": ""
            },
            "colorscale": [
             [
              0,
              "#0d0887"
             ],
             [
              0.1111111111111111,
              "#46039f"
             ],
             [
              0.2222222222222222,
              "#7201a8"
             ],
             [
              0.3333333333333333,
              "#9c179e"
             ],
             [
              0.4444444444444444,
              "#bd3786"
             ],
             [
              0.5555555555555556,
              "#d8576b"
             ],
             [
              0.6666666666666666,
              "#ed7953"
             ],
             [
              0.7777777777777778,
              "#fb9f3a"
             ],
             [
              0.8888888888888888,
              "#fdca26"
             ],
             [
              1,
              "#f0f921"
             ]
            ],
            "type": "heatmap"
           }
          ],
          "heatmapgl": [
           {
            "colorbar": {
             "outlinewidth": 0,
             "ticks": ""
            },
            "colorscale": [
             [
              0,
              "#0d0887"
             ],
             [
              0.1111111111111111,
              "#46039f"
             ],
             [
              0.2222222222222222,
              "#7201a8"
             ],
             [
              0.3333333333333333,
              "#9c179e"
             ],
             [
              0.4444444444444444,
              "#bd3786"
             ],
             [
              0.5555555555555556,
              "#d8576b"
             ],
             [
              0.6666666666666666,
              "#ed7953"
             ],
             [
              0.7777777777777778,
              "#fb9f3a"
             ],
             [
              0.8888888888888888,
              "#fdca26"
             ],
             [
              1,
              "#f0f921"
             ]
            ],
            "type": "heatmapgl"
           }
          ],
          "histogram": [
           {
            "marker": {
             "pattern": {
              "fillmode": "overlay",
              "size": 10,
              "solidity": 0.2
             }
            },
            "type": "histogram"
           }
          ],
          "histogram2d": [
           {
            "colorbar": {
             "outlinewidth": 0,
             "ticks": ""
            },
            "colorscale": [
             [
              0,
              "#0d0887"
             ],
             [
              0.1111111111111111,
              "#46039f"
             ],
             [
              0.2222222222222222,
              "#7201a8"
             ],
             [
              0.3333333333333333,
              "#9c179e"
             ],
             [
              0.4444444444444444,
              "#bd3786"
             ],
             [
              0.5555555555555556,
              "#d8576b"
             ],
             [
              0.6666666666666666,
              "#ed7953"
             ],
             [
              0.7777777777777778,
              "#fb9f3a"
             ],
             [
              0.8888888888888888,
              "#fdca26"
             ],
             [
              1,
              "#f0f921"
             ]
            ],
            "type": "histogram2d"
           }
          ],
          "histogram2dcontour": [
           {
            "colorbar": {
             "outlinewidth": 0,
             "ticks": ""
            },
            "colorscale": [
             [
              0,
              "#0d0887"
             ],
             [
              0.1111111111111111,
              "#46039f"
             ],
             [
              0.2222222222222222,
              "#7201a8"
             ],
             [
              0.3333333333333333,
              "#9c179e"
             ],
             [
              0.4444444444444444,
              "#bd3786"
             ],
             [
              0.5555555555555556,
              "#d8576b"
             ],
             [
              0.6666666666666666,
              "#ed7953"
             ],
             [
              0.7777777777777778,
              "#fb9f3a"
             ],
             [
              0.8888888888888888,
              "#fdca26"
             ],
             [
              1,
              "#f0f921"
             ]
            ],
            "type": "histogram2dcontour"
           }
          ],
          "mesh3d": [
           {
            "colorbar": {
             "outlinewidth": 0,
             "ticks": ""
            },
            "type": "mesh3d"
           }
          ],
          "parcoords": [
           {
            "line": {
             "colorbar": {
              "outlinewidth": 0,
              "ticks": ""
             }
            },
            "type": "parcoords"
           }
          ],
          "pie": [
           {
            "automargin": true,
            "type": "pie"
           }
          ],
          "scatter": [
           {
            "fillpattern": {
             "fillmode": "overlay",
             "size": 10,
             "solidity": 0.2
            },
            "type": "scatter"
           }
          ],
          "scatter3d": [
           {
            "line": {
             "colorbar": {
              "outlinewidth": 0,
              "ticks": ""
             }
            },
            "marker": {
             "colorbar": {
              "outlinewidth": 0,
              "ticks": ""
             }
            },
            "type": "scatter3d"
           }
          ],
          "scattercarpet": [
           {
            "marker": {
             "colorbar": {
              "outlinewidth": 0,
              "ticks": ""
             }
            },
            "type": "scattercarpet"
           }
          ],
          "scattergeo": [
           {
            "marker": {
             "colorbar": {
              "outlinewidth": 0,
              "ticks": ""
             }
            },
            "type": "scattergeo"
           }
          ],
          "scattergl": [
           {
            "marker": {
             "colorbar": {
              "outlinewidth": 0,
              "ticks": ""
             }
            },
            "type": "scattergl"
           }
          ],
          "scattermapbox": [
           {
            "marker": {
             "colorbar": {
              "outlinewidth": 0,
              "ticks": ""
             }
            },
            "type": "scattermapbox"
           }
          ],
          "scatterpolar": [
           {
            "marker": {
             "colorbar": {
              "outlinewidth": 0,
              "ticks": ""
             }
            },
            "type": "scatterpolar"
           }
          ],
          "scatterpolargl": [
           {
            "marker": {
             "colorbar": {
              "outlinewidth": 0,
              "ticks": ""
             }
            },
            "type": "scatterpolargl"
           }
          ],
          "scatterternary": [
           {
            "marker": {
             "colorbar": {
              "outlinewidth": 0,
              "ticks": ""
             }
            },
            "type": "scatterternary"
           }
          ],
          "surface": [
           {
            "colorbar": {
             "outlinewidth": 0,
             "ticks": ""
            },
            "colorscale": [
             [
              0,
              "#0d0887"
             ],
             [
              0.1111111111111111,
              "#46039f"
             ],
             [
              0.2222222222222222,
              "#7201a8"
             ],
             [
              0.3333333333333333,
              "#9c179e"
             ],
             [
              0.4444444444444444,
              "#bd3786"
             ],
             [
              0.5555555555555556,
              "#d8576b"
             ],
             [
              0.6666666666666666,
              "#ed7953"
             ],
             [
              0.7777777777777778,
              "#fb9f3a"
             ],
             [
              0.8888888888888888,
              "#fdca26"
             ],
             [
              1,
              "#f0f921"
             ]
            ],
            "type": "surface"
           }
          ],
          "table": [
           {
            "cells": {
             "fill": {
              "color": "#EBF0F8"
             },
             "line": {
              "color": "white"
             }
            },
            "header": {
             "fill": {
              "color": "#C8D4E3"
             },
             "line": {
              "color": "white"
             }
            },
            "type": "table"
           }
          ]
         },
         "layout": {
          "annotationdefaults": {
           "arrowcolor": "#2a3f5f",
           "arrowhead": 0,
           "arrowwidth": 1
          },
          "autotypenumbers": "strict",
          "coloraxis": {
           "colorbar": {
            "outlinewidth": 0,
            "ticks": ""
           }
          },
          "colorscale": {
           "diverging": [
            [
             0,
             "#8e0152"
            ],
            [
             0.1,
             "#c51b7d"
            ],
            [
             0.2,
             "#de77ae"
            ],
            [
             0.3,
             "#f1b6da"
            ],
            [
             0.4,
             "#fde0ef"
            ],
            [
             0.5,
             "#f7f7f7"
            ],
            [
             0.6,
             "#e6f5d0"
            ],
            [
             0.7,
             "#b8e186"
            ],
            [
             0.8,
             "#7fbc41"
            ],
            [
             0.9,
             "#4d9221"
            ],
            [
             1,
             "#276419"
            ]
           ],
           "sequential": [
            [
             0,
             "#0d0887"
            ],
            [
             0.1111111111111111,
             "#46039f"
            ],
            [
             0.2222222222222222,
             "#7201a8"
            ],
            [
             0.3333333333333333,
             "#9c179e"
            ],
            [
             0.4444444444444444,
             "#bd3786"
            ],
            [
             0.5555555555555556,
             "#d8576b"
            ],
            [
             0.6666666666666666,
             "#ed7953"
            ],
            [
             0.7777777777777778,
             "#fb9f3a"
            ],
            [
             0.8888888888888888,
             "#fdca26"
            ],
            [
             1,
             "#f0f921"
            ]
           ],
           "sequentialminus": [
            [
             0,
             "#0d0887"
            ],
            [
             0.1111111111111111,
             "#46039f"
            ],
            [
             0.2222222222222222,
             "#7201a8"
            ],
            [
             0.3333333333333333,
             "#9c179e"
            ],
            [
             0.4444444444444444,
             "#bd3786"
            ],
            [
             0.5555555555555556,
             "#d8576b"
            ],
            [
             0.6666666666666666,
             "#ed7953"
            ],
            [
             0.7777777777777778,
             "#fb9f3a"
            ],
            [
             0.8888888888888888,
             "#fdca26"
            ],
            [
             1,
             "#f0f921"
            ]
           ]
          },
          "colorway": [
           "#636efa",
           "#EF553B",
           "#00cc96",
           "#ab63fa",
           "#FFA15A",
           "#19d3f3",
           "#FF6692",
           "#B6E880",
           "#FF97FF",
           "#FECB52"
          ],
          "font": {
           "color": "#2a3f5f"
          },
          "geo": {
           "bgcolor": "white",
           "lakecolor": "white",
           "landcolor": "#E5ECF6",
           "showlakes": true,
           "showland": true,
           "subunitcolor": "white"
          },
          "hoverlabel": {
           "align": "left"
          },
          "hovermode": "closest",
          "mapbox": {
           "style": "light"
          },
          "paper_bgcolor": "white",
          "plot_bgcolor": "#E5ECF6",
          "polar": {
           "angularaxis": {
            "gridcolor": "white",
            "linecolor": "white",
            "ticks": ""
           },
           "bgcolor": "#E5ECF6",
           "radialaxis": {
            "gridcolor": "white",
            "linecolor": "white",
            "ticks": ""
           }
          },
          "scene": {
           "xaxis": {
            "backgroundcolor": "#E5ECF6",
            "gridcolor": "white",
            "gridwidth": 2,
            "linecolor": "white",
            "showbackground": true,
            "ticks": "",
            "zerolinecolor": "white"
           },
           "yaxis": {
            "backgroundcolor": "#E5ECF6",
            "gridcolor": "white",
            "gridwidth": 2,
            "linecolor": "white",
            "showbackground": true,
            "ticks": "",
            "zerolinecolor": "white"
           },
           "zaxis": {
            "backgroundcolor": "#E5ECF6",
            "gridcolor": "white",
            "gridwidth": 2,
            "linecolor": "white",
            "showbackground": true,
            "ticks": "",
            "zerolinecolor": "white"
           }
          },
          "shapedefaults": {
           "line": {
            "color": "#2a3f5f"
           }
          },
          "ternary": {
           "aaxis": {
            "gridcolor": "white",
            "linecolor": "white",
            "ticks": ""
           },
           "baxis": {
            "gridcolor": "white",
            "linecolor": "white",
            "ticks": ""
           },
           "bgcolor": "#E5ECF6",
           "caxis": {
            "gridcolor": "white",
            "linecolor": "white",
            "ticks": ""
           }
          },
          "title": {
           "x": 0.05
          },
          "xaxis": {
           "automargin": true,
           "gridcolor": "white",
           "linecolor": "white",
           "ticks": "",
           "title": {
            "standoff": 15
           },
           "zerolinecolor": "white",
           "zerolinewidth": 2
          },
          "yaxis": {
           "automargin": true,
           "gridcolor": "white",
           "linecolor": "white",
           "ticks": "",
           "title": {
            "standoff": 15
           },
           "zerolinecolor": "white",
           "zerolinewidth": 2
          }
         }
        },
        "title": {
         "text": "Consumo por Departamento"
        },
        "xaxis": {
         "anchor": "y",
         "domain": [
          0,
          1
         ],
         "title": {
          "text": "CONSUMO"
         }
        },
        "yaxis": {
         "anchor": "x",
         "domain": [
          0,
          1
         ],
         "title": {
          "text": "DEPARTAMENTO"
         }
        }
       }
      }
     },
     "metadata": {},
     "output_type": "display_data"
    }
   ],
   "source": [
    "fig = px.box(df, x=\"CONSUMO\", y=\"DEPARTAMENTO\",orientation=\"h\", title=\"Consumo por Departamento\", points=\"all\")\n",
    "fig.show()"
   ]
  },
  {
   "cell_type": "markdown",
   "metadata": {},
   "source": [
    "Se logra apreciar que se tiene una menor dispersión del valor de consumo para el departmaento del Atlantico, en comparación a la dispersión que se tiene para el consumo del departamento de Magdalena, que a pesar de tener menor cantidad de registros, se tiene una tendencia hacia valores mayores de consumo, seguramente por la presencia de los inmbuenles industriales en este departamento."
   ]
  },
  {
   "cell_type": "markdown",
   "metadata": {},
   "source": [
    "##### CONSUMO VS PERIODO"
   ]
  },
  {
   "cell_type": "code",
   "execution_count": 47,
   "metadata": {},
   "outputs": [
    {
     "data": {
      "application/vnd.plotly.v1+json": {
       "config": {
        "plotlyServerURL": "https://plot.ly"
       },
       "data": [
        {
         "hovertemplate": "PERIODO=%{x}<br>CONSUMO=%{y}<extra></extra>",
         "legendgroup": "",
         "line": {
          "color": "#636efa",
          "dash": "solid"
         },
         "marker": {
          "symbol": "circle"
         },
         "mode": "lines",
         "name": "",
         "orientation": "v",
         "showlegend": false,
         "type": "scatter",
         "x": [
          "2021-01-01T00:00:00",
          "2021-02-01T00:00:00",
          "2021-03-01T00:00:00",
          "2021-04-01T00:00:00",
          "2021-05-01T00:00:00",
          "2021-06-01T00:00:00",
          "2021-07-01T00:00:00",
          "2021-08-01T00:00:00",
          "2021-09-01T00:00:00",
          "2021-10-01T00:00:00",
          "2021-11-01T00:00:00",
          "2021-12-01T00:00:00"
         ],
         "xaxis": "x",
         "y": [
          46316,
          39529,
          50635,
          41801,
          33938,
          19342,
          24738,
          23387,
          19451,
          22865,
          26087,
          34726
         ],
         "yaxis": "y"
        }
       ],
       "layout": {
        "legend": {
         "tracegroupgap": 0
        },
        "margin": {
         "t": 60
        },
        "template": {
         "data": {
          "bar": [
           {
            "error_x": {
             "color": "#2a3f5f"
            },
            "error_y": {
             "color": "#2a3f5f"
            },
            "marker": {
             "line": {
              "color": "#E5ECF6",
              "width": 0.5
             },
             "pattern": {
              "fillmode": "overlay",
              "size": 10,
              "solidity": 0.2
             }
            },
            "type": "bar"
           }
          ],
          "barpolar": [
           {
            "marker": {
             "line": {
              "color": "#E5ECF6",
              "width": 0.5
             },
             "pattern": {
              "fillmode": "overlay",
              "size": 10,
              "solidity": 0.2
             }
            },
            "type": "barpolar"
           }
          ],
          "carpet": [
           {
            "aaxis": {
             "endlinecolor": "#2a3f5f",
             "gridcolor": "white",
             "linecolor": "white",
             "minorgridcolor": "white",
             "startlinecolor": "#2a3f5f"
            },
            "baxis": {
             "endlinecolor": "#2a3f5f",
             "gridcolor": "white",
             "linecolor": "white",
             "minorgridcolor": "white",
             "startlinecolor": "#2a3f5f"
            },
            "type": "carpet"
           }
          ],
          "choropleth": [
           {
            "colorbar": {
             "outlinewidth": 0,
             "ticks": ""
            },
            "type": "choropleth"
           }
          ],
          "contour": [
           {
            "colorbar": {
             "outlinewidth": 0,
             "ticks": ""
            },
            "colorscale": [
             [
              0,
              "#0d0887"
             ],
             [
              0.1111111111111111,
              "#46039f"
             ],
             [
              0.2222222222222222,
              "#7201a8"
             ],
             [
              0.3333333333333333,
              "#9c179e"
             ],
             [
              0.4444444444444444,
              "#bd3786"
             ],
             [
              0.5555555555555556,
              "#d8576b"
             ],
             [
              0.6666666666666666,
              "#ed7953"
             ],
             [
              0.7777777777777778,
              "#fb9f3a"
             ],
             [
              0.8888888888888888,
              "#fdca26"
             ],
             [
              1,
              "#f0f921"
             ]
            ],
            "type": "contour"
           }
          ],
          "contourcarpet": [
           {
            "colorbar": {
             "outlinewidth": 0,
             "ticks": ""
            },
            "type": "contourcarpet"
           }
          ],
          "heatmap": [
           {
            "colorbar": {
             "outlinewidth": 0,
             "ticks": ""
            },
            "colorscale": [
             [
              0,
              "#0d0887"
             ],
             [
              0.1111111111111111,
              "#46039f"
             ],
             [
              0.2222222222222222,
              "#7201a8"
             ],
             [
              0.3333333333333333,
              "#9c179e"
             ],
             [
              0.4444444444444444,
              "#bd3786"
             ],
             [
              0.5555555555555556,
              "#d8576b"
             ],
             [
              0.6666666666666666,
              "#ed7953"
             ],
             [
              0.7777777777777778,
              "#fb9f3a"
             ],
             [
              0.8888888888888888,
              "#fdca26"
             ],
             [
              1,
              "#f0f921"
             ]
            ],
            "type": "heatmap"
           }
          ],
          "heatmapgl": [
           {
            "colorbar": {
             "outlinewidth": 0,
             "ticks": ""
            },
            "colorscale": [
             [
              0,
              "#0d0887"
             ],
             [
              0.1111111111111111,
              "#46039f"
             ],
             [
              0.2222222222222222,
              "#7201a8"
             ],
             [
              0.3333333333333333,
              "#9c179e"
             ],
             [
              0.4444444444444444,
              "#bd3786"
             ],
             [
              0.5555555555555556,
              "#d8576b"
             ],
             [
              0.6666666666666666,
              "#ed7953"
             ],
             [
              0.7777777777777778,
              "#fb9f3a"
             ],
             [
              0.8888888888888888,
              "#fdca26"
             ],
             [
              1,
              "#f0f921"
             ]
            ],
            "type": "heatmapgl"
           }
          ],
          "histogram": [
           {
            "marker": {
             "pattern": {
              "fillmode": "overlay",
              "size": 10,
              "solidity": 0.2
             }
            },
            "type": "histogram"
           }
          ],
          "histogram2d": [
           {
            "colorbar": {
             "outlinewidth": 0,
             "ticks": ""
            },
            "colorscale": [
             [
              0,
              "#0d0887"
             ],
             [
              0.1111111111111111,
              "#46039f"
             ],
             [
              0.2222222222222222,
              "#7201a8"
             ],
             [
              0.3333333333333333,
              "#9c179e"
             ],
             [
              0.4444444444444444,
              "#bd3786"
             ],
             [
              0.5555555555555556,
              "#d8576b"
             ],
             [
              0.6666666666666666,
              "#ed7953"
             ],
             [
              0.7777777777777778,
              "#fb9f3a"
             ],
             [
              0.8888888888888888,
              "#fdca26"
             ],
             [
              1,
              "#f0f921"
             ]
            ],
            "type": "histogram2d"
           }
          ],
          "histogram2dcontour": [
           {
            "colorbar": {
             "outlinewidth": 0,
             "ticks": ""
            },
            "colorscale": [
             [
              0,
              "#0d0887"
             ],
             [
              0.1111111111111111,
              "#46039f"
             ],
             [
              0.2222222222222222,
              "#7201a8"
             ],
             [
              0.3333333333333333,
              "#9c179e"
             ],
             [
              0.4444444444444444,
              "#bd3786"
             ],
             [
              0.5555555555555556,
              "#d8576b"
             ],
             [
              0.6666666666666666,
              "#ed7953"
             ],
             [
              0.7777777777777778,
              "#fb9f3a"
             ],
             [
              0.8888888888888888,
              "#fdca26"
             ],
             [
              1,
              "#f0f921"
             ]
            ],
            "type": "histogram2dcontour"
           }
          ],
          "mesh3d": [
           {
            "colorbar": {
             "outlinewidth": 0,
             "ticks": ""
            },
            "type": "mesh3d"
           }
          ],
          "parcoords": [
           {
            "line": {
             "colorbar": {
              "outlinewidth": 0,
              "ticks": ""
             }
            },
            "type": "parcoords"
           }
          ],
          "pie": [
           {
            "automargin": true,
            "type": "pie"
           }
          ],
          "scatter": [
           {
            "fillpattern": {
             "fillmode": "overlay",
             "size": 10,
             "solidity": 0.2
            },
            "type": "scatter"
           }
          ],
          "scatter3d": [
           {
            "line": {
             "colorbar": {
              "outlinewidth": 0,
              "ticks": ""
             }
            },
            "marker": {
             "colorbar": {
              "outlinewidth": 0,
              "ticks": ""
             }
            },
            "type": "scatter3d"
           }
          ],
          "scattercarpet": [
           {
            "marker": {
             "colorbar": {
              "outlinewidth": 0,
              "ticks": ""
             }
            },
            "type": "scattercarpet"
           }
          ],
          "scattergeo": [
           {
            "marker": {
             "colorbar": {
              "outlinewidth": 0,
              "ticks": ""
             }
            },
            "type": "scattergeo"
           }
          ],
          "scattergl": [
           {
            "marker": {
             "colorbar": {
              "outlinewidth": 0,
              "ticks": ""
             }
            },
            "type": "scattergl"
           }
          ],
          "scattermapbox": [
           {
            "marker": {
             "colorbar": {
              "outlinewidth": 0,
              "ticks": ""
             }
            },
            "type": "scattermapbox"
           }
          ],
          "scatterpolar": [
           {
            "marker": {
             "colorbar": {
              "outlinewidth": 0,
              "ticks": ""
             }
            },
            "type": "scatterpolar"
           }
          ],
          "scatterpolargl": [
           {
            "marker": {
             "colorbar": {
              "outlinewidth": 0,
              "ticks": ""
             }
            },
            "type": "scatterpolargl"
           }
          ],
          "scatterternary": [
           {
            "marker": {
             "colorbar": {
              "outlinewidth": 0,
              "ticks": ""
             }
            },
            "type": "scatterternary"
           }
          ],
          "surface": [
           {
            "colorbar": {
             "outlinewidth": 0,
             "ticks": ""
            },
            "colorscale": [
             [
              0,
              "#0d0887"
             ],
             [
              0.1111111111111111,
              "#46039f"
             ],
             [
              0.2222222222222222,
              "#7201a8"
             ],
             [
              0.3333333333333333,
              "#9c179e"
             ],
             [
              0.4444444444444444,
              "#bd3786"
             ],
             [
              0.5555555555555556,
              "#d8576b"
             ],
             [
              0.6666666666666666,
              "#ed7953"
             ],
             [
              0.7777777777777778,
              "#fb9f3a"
             ],
             [
              0.8888888888888888,
              "#fdca26"
             ],
             [
              1,
              "#f0f921"
             ]
            ],
            "type": "surface"
           }
          ],
          "table": [
           {
            "cells": {
             "fill": {
              "color": "#EBF0F8"
             },
             "line": {
              "color": "white"
             }
            },
            "header": {
             "fill": {
              "color": "#C8D4E3"
             },
             "line": {
              "color": "white"
             }
            },
            "type": "table"
           }
          ]
         },
         "layout": {
          "annotationdefaults": {
           "arrowcolor": "#2a3f5f",
           "arrowhead": 0,
           "arrowwidth": 1
          },
          "autotypenumbers": "strict",
          "coloraxis": {
           "colorbar": {
            "outlinewidth": 0,
            "ticks": ""
           }
          },
          "colorscale": {
           "diverging": [
            [
             0,
             "#8e0152"
            ],
            [
             0.1,
             "#c51b7d"
            ],
            [
             0.2,
             "#de77ae"
            ],
            [
             0.3,
             "#f1b6da"
            ],
            [
             0.4,
             "#fde0ef"
            ],
            [
             0.5,
             "#f7f7f7"
            ],
            [
             0.6,
             "#e6f5d0"
            ],
            [
             0.7,
             "#b8e186"
            ],
            [
             0.8,
             "#7fbc41"
            ],
            [
             0.9,
             "#4d9221"
            ],
            [
             1,
             "#276419"
            ]
           ],
           "sequential": [
            [
             0,
             "#0d0887"
            ],
            [
             0.1111111111111111,
             "#46039f"
            ],
            [
             0.2222222222222222,
             "#7201a8"
            ],
            [
             0.3333333333333333,
             "#9c179e"
            ],
            [
             0.4444444444444444,
             "#bd3786"
            ],
            [
             0.5555555555555556,
             "#d8576b"
            ],
            [
             0.6666666666666666,
             "#ed7953"
            ],
            [
             0.7777777777777778,
             "#fb9f3a"
            ],
            [
             0.8888888888888888,
             "#fdca26"
            ],
            [
             1,
             "#f0f921"
            ]
           ],
           "sequentialminus": [
            [
             0,
             "#0d0887"
            ],
            [
             0.1111111111111111,
             "#46039f"
            ],
            [
             0.2222222222222222,
             "#7201a8"
            ],
            [
             0.3333333333333333,
             "#9c179e"
            ],
            [
             0.4444444444444444,
             "#bd3786"
            ],
            [
             0.5555555555555556,
             "#d8576b"
            ],
            [
             0.6666666666666666,
             "#ed7953"
            ],
            [
             0.7777777777777778,
             "#fb9f3a"
            ],
            [
             0.8888888888888888,
             "#fdca26"
            ],
            [
             1,
             "#f0f921"
            ]
           ]
          },
          "colorway": [
           "#636efa",
           "#EF553B",
           "#00cc96",
           "#ab63fa",
           "#FFA15A",
           "#19d3f3",
           "#FF6692",
           "#B6E880",
           "#FF97FF",
           "#FECB52"
          ],
          "font": {
           "color": "#2a3f5f"
          },
          "geo": {
           "bgcolor": "white",
           "lakecolor": "white",
           "landcolor": "#E5ECF6",
           "showlakes": true,
           "showland": true,
           "subunitcolor": "white"
          },
          "hoverlabel": {
           "align": "left"
          },
          "hovermode": "closest",
          "mapbox": {
           "style": "light"
          },
          "paper_bgcolor": "white",
          "plot_bgcolor": "#E5ECF6",
          "polar": {
           "angularaxis": {
            "gridcolor": "white",
            "linecolor": "white",
            "ticks": ""
           },
           "bgcolor": "#E5ECF6",
           "radialaxis": {
            "gridcolor": "white",
            "linecolor": "white",
            "ticks": ""
           }
          },
          "scene": {
           "xaxis": {
            "backgroundcolor": "#E5ECF6",
            "gridcolor": "white",
            "gridwidth": 2,
            "linecolor": "white",
            "showbackground": true,
            "ticks": "",
            "zerolinecolor": "white"
           },
           "yaxis": {
            "backgroundcolor": "#E5ECF6",
            "gridcolor": "white",
            "gridwidth": 2,
            "linecolor": "white",
            "showbackground": true,
            "ticks": "",
            "zerolinecolor": "white"
           },
           "zaxis": {
            "backgroundcolor": "#E5ECF6",
            "gridcolor": "white",
            "gridwidth": 2,
            "linecolor": "white",
            "showbackground": true,
            "ticks": "",
            "zerolinecolor": "white"
           }
          },
          "shapedefaults": {
           "line": {
            "color": "#2a3f5f"
           }
          },
          "ternary": {
           "aaxis": {
            "gridcolor": "white",
            "linecolor": "white",
            "ticks": ""
           },
           "baxis": {
            "gridcolor": "white",
            "linecolor": "white",
            "ticks": ""
           },
           "bgcolor": "#E5ECF6",
           "caxis": {
            "gridcolor": "white",
            "linecolor": "white",
            "ticks": ""
           }
          },
          "title": {
           "x": 0.05
          },
          "xaxis": {
           "automargin": true,
           "gridcolor": "white",
           "linecolor": "white",
           "ticks": "",
           "title": {
            "standoff": 15
           },
           "zerolinecolor": "white",
           "zerolinewidth": 2
          },
          "yaxis": {
           "automargin": true,
           "gridcolor": "white",
           "linecolor": "white",
           "ticks": "",
           "title": {
            "standoff": 15
           },
           "zerolinecolor": "white",
           "zerolinewidth": 2
          }
         }
        },
        "xaxis": {
         "anchor": "y",
         "domain": [
          0,
          1
         ],
         "title": {
          "text": "PERIODO"
         }
        },
        "yaxis": {
         "anchor": "x",
         "domain": [
          0,
          1
         ],
         "title": {
          "text": "CONSUMO"
         }
        }
       }
      }
     },
     "metadata": {},
     "output_type": "display_data"
    }
   ],
   "source": [
    "data = df.groupby([\"PERIODO\"]).sum().reset_index()\n",
    "fig = px.line(data, x=\"PERIODO\", y=\"CONSUMO\")\n",
    "fig.show()\n"
   ]
  },
  {
   "cell_type": "markdown",
   "metadata": {},
   "source": [
    "Se logra apreciar que para los primeros meses del 2021 se tuvo el mayor consumo de gas, con un pico en marzo. De ahi en adelante se tuvo una tendencia a la baja en el consumo de gas, para luego retomar una tendencia a la alza a partir de octubre."
   ]
  },
  {
   "cell_type": "markdown",
   "metadata": {},
   "source": [
    "Como los inmuebles comerciales tienen una gran influencia en la suma de consumo por dia, se desea visualizar tambien el consumo para cada periodo, discriminado por tipo de inmueble:"
   ]
  },
  {
   "cell_type": "code",
   "execution_count": 48,
   "metadata": {},
   "outputs": [
    {
     "data": {
      "application/vnd.plotly.v1+json": {
       "config": {
        "plotlyServerURL": "https://plot.ly"
       },
       "data": [
        {
         "hovertemplate": "CLASIFICACION=COMERCIAL<br>PERIODO=%{x}<br>CONSUMO=%{y}<extra></extra>",
         "legendgroup": "COMERCIAL",
         "line": {
          "color": "#636efa",
          "dash": "solid"
         },
         "marker": {
          "symbol": "circle"
         },
         "mode": "lines",
         "name": "COMERCIAL",
         "orientation": "v",
         "showlegend": true,
         "type": "scatter",
         "x": [
          "2021-01-01T00:00:00",
          "2021-02-01T00:00:00",
          "2021-03-01T00:00:00",
          "2021-04-01T00:00:00",
          "2021-05-01T00:00:00",
          "2021-06-01T00:00:00",
          "2021-07-01T00:00:00",
          "2021-08-01T00:00:00",
          "2021-09-01T00:00:00",
          "2021-10-01T00:00:00",
          "2021-11-01T00:00:00",
          "2021-12-01T00:00:00"
         ],
         "xaxis": "x3",
         "y": [
          1217,
          1157,
          1273,
          1002,
          833,
          1072,
          1079,
          1111,
          1056,
          1073,
          969,
          1088
         ],
         "yaxis": "y3"
        },
        {
         "hovertemplate": "CLASIFICACION=INDUSTRIAL<br>PERIODO=%{x}<br>CONSUMO=%{y}<extra></extra>",
         "legendgroup": "INDUSTRIAL",
         "line": {
          "color": "#EF553B",
          "dash": "solid"
         },
         "marker": {
          "symbol": "circle"
         },
         "mode": "lines",
         "name": "INDUSTRIAL",
         "orientation": "v",
         "showlegend": true,
         "type": "scatter",
         "x": [
          "2021-01-01T00:00:00",
          "2021-02-01T00:00:00",
          "2021-03-01T00:00:00",
          "2021-04-01T00:00:00",
          "2021-05-01T00:00:00",
          "2021-06-01T00:00:00",
          "2021-07-01T00:00:00",
          "2021-08-01T00:00:00",
          "2021-09-01T00:00:00",
          "2021-10-01T00:00:00",
          "2021-11-01T00:00:00",
          "2021-12-01T00:00:00"
         ],
         "xaxis": "x2",
         "y": [
          44927,
          38180,
          49179,
          40606,
          32933,
          18100,
          23489,
          22091,
          18206,
          21603,
          24938,
          33456
         ],
         "yaxis": "y2"
        },
        {
         "hovertemplate": "CLASIFICACION=RESIDENCIAL<br>PERIODO=%{x}<br>CONSUMO=%{y}<extra></extra>",
         "legendgroup": "RESIDENCIAL",
         "line": {
          "color": "#00cc96",
          "dash": "solid"
         },
         "marker": {
          "symbol": "circle"
         },
         "mode": "lines",
         "name": "RESIDENCIAL",
         "orientation": "v",
         "showlegend": true,
         "type": "scatter",
         "x": [
          "2021-01-01T00:00:00",
          "2021-02-01T00:00:00",
          "2021-03-01T00:00:00",
          "2021-04-01T00:00:00",
          "2021-05-01T00:00:00",
          "2021-06-01T00:00:00",
          "2021-07-01T00:00:00",
          "2021-08-01T00:00:00",
          "2021-09-01T00:00:00",
          "2021-10-01T00:00:00",
          "2021-11-01T00:00:00",
          "2021-12-01T00:00:00"
         ],
         "xaxis": "x",
         "y": [
          172,
          192,
          183,
          193,
          172,
          170,
          170,
          185,
          189,
          189,
          180,
          182
         ],
         "yaxis": "y"
        }
       ],
       "layout": {
        "annotations": [
         {
          "font": {},
          "showarrow": false,
          "text": "CLASIFICACION=RESIDENCIAL",
          "x": 0.5,
          "xanchor": "center",
          "xref": "paper",
          "y": 0.2866666666666666,
          "yanchor": "bottom",
          "yref": "paper"
         },
         {
          "font": {},
          "showarrow": false,
          "text": "CLASIFICACION=INDUSTRIAL",
          "x": 0.5,
          "xanchor": "center",
          "xref": "paper",
          "y": 0.6433333333333333,
          "yanchor": "bottom",
          "yref": "paper"
         },
         {
          "font": {},
          "showarrow": false,
          "text": "CLASIFICACION=COMERCIAL",
          "x": 0.5,
          "xanchor": "center",
          "xref": "paper",
          "y": 0.9999999999999999,
          "yanchor": "bottom",
          "yref": "paper"
         }
        ],
        "legend": {
         "title": {
          "text": "CLASIFICACION"
         },
         "tracegroupgap": 0
        },
        "template": {
         "data": {
          "bar": [
           {
            "error_x": {
             "color": "#2a3f5f"
            },
            "error_y": {
             "color": "#2a3f5f"
            },
            "marker": {
             "line": {
              "color": "#E5ECF6",
              "width": 0.5
             },
             "pattern": {
              "fillmode": "overlay",
              "size": 10,
              "solidity": 0.2
             }
            },
            "type": "bar"
           }
          ],
          "barpolar": [
           {
            "marker": {
             "line": {
              "color": "#E5ECF6",
              "width": 0.5
             },
             "pattern": {
              "fillmode": "overlay",
              "size": 10,
              "solidity": 0.2
             }
            },
            "type": "barpolar"
           }
          ],
          "carpet": [
           {
            "aaxis": {
             "endlinecolor": "#2a3f5f",
             "gridcolor": "white",
             "linecolor": "white",
             "minorgridcolor": "white",
             "startlinecolor": "#2a3f5f"
            },
            "baxis": {
             "endlinecolor": "#2a3f5f",
             "gridcolor": "white",
             "linecolor": "white",
             "minorgridcolor": "white",
             "startlinecolor": "#2a3f5f"
            },
            "type": "carpet"
           }
          ],
          "choropleth": [
           {
            "colorbar": {
             "outlinewidth": 0,
             "ticks": ""
            },
            "type": "choropleth"
           }
          ],
          "contour": [
           {
            "colorbar": {
             "outlinewidth": 0,
             "ticks": ""
            },
            "colorscale": [
             [
              0,
              "#0d0887"
             ],
             [
              0.1111111111111111,
              "#46039f"
             ],
             [
              0.2222222222222222,
              "#7201a8"
             ],
             [
              0.3333333333333333,
              "#9c179e"
             ],
             [
              0.4444444444444444,
              "#bd3786"
             ],
             [
              0.5555555555555556,
              "#d8576b"
             ],
             [
              0.6666666666666666,
              "#ed7953"
             ],
             [
              0.7777777777777778,
              "#fb9f3a"
             ],
             [
              0.8888888888888888,
              "#fdca26"
             ],
             [
              1,
              "#f0f921"
             ]
            ],
            "type": "contour"
           }
          ],
          "contourcarpet": [
           {
            "colorbar": {
             "outlinewidth": 0,
             "ticks": ""
            },
            "type": "contourcarpet"
           }
          ],
          "heatmap": [
           {
            "colorbar": {
             "outlinewidth": 0,
             "ticks": ""
            },
            "colorscale": [
             [
              0,
              "#0d0887"
             ],
             [
              0.1111111111111111,
              "#46039f"
             ],
             [
              0.2222222222222222,
              "#7201a8"
             ],
             [
              0.3333333333333333,
              "#9c179e"
             ],
             [
              0.4444444444444444,
              "#bd3786"
             ],
             [
              0.5555555555555556,
              "#d8576b"
             ],
             [
              0.6666666666666666,
              "#ed7953"
             ],
             [
              0.7777777777777778,
              "#fb9f3a"
             ],
             [
              0.8888888888888888,
              "#fdca26"
             ],
             [
              1,
              "#f0f921"
             ]
            ],
            "type": "heatmap"
           }
          ],
          "heatmapgl": [
           {
            "colorbar": {
             "outlinewidth": 0,
             "ticks": ""
            },
            "colorscale": [
             [
              0,
              "#0d0887"
             ],
             [
              0.1111111111111111,
              "#46039f"
             ],
             [
              0.2222222222222222,
              "#7201a8"
             ],
             [
              0.3333333333333333,
              "#9c179e"
             ],
             [
              0.4444444444444444,
              "#bd3786"
             ],
             [
              0.5555555555555556,
              "#d8576b"
             ],
             [
              0.6666666666666666,
              "#ed7953"
             ],
             [
              0.7777777777777778,
              "#fb9f3a"
             ],
             [
              0.8888888888888888,
              "#fdca26"
             ],
             [
              1,
              "#f0f921"
             ]
            ],
            "type": "heatmapgl"
           }
          ],
          "histogram": [
           {
            "marker": {
             "pattern": {
              "fillmode": "overlay",
              "size": 10,
              "solidity": 0.2
             }
            },
            "type": "histogram"
           }
          ],
          "histogram2d": [
           {
            "colorbar": {
             "outlinewidth": 0,
             "ticks": ""
            },
            "colorscale": [
             [
              0,
              "#0d0887"
             ],
             [
              0.1111111111111111,
              "#46039f"
             ],
             [
              0.2222222222222222,
              "#7201a8"
             ],
             [
              0.3333333333333333,
              "#9c179e"
             ],
             [
              0.4444444444444444,
              "#bd3786"
             ],
             [
              0.5555555555555556,
              "#d8576b"
             ],
             [
              0.6666666666666666,
              "#ed7953"
             ],
             [
              0.7777777777777778,
              "#fb9f3a"
             ],
             [
              0.8888888888888888,
              "#fdca26"
             ],
             [
              1,
              "#f0f921"
             ]
            ],
            "type": "histogram2d"
           }
          ],
          "histogram2dcontour": [
           {
            "colorbar": {
             "outlinewidth": 0,
             "ticks": ""
            },
            "colorscale": [
             [
              0,
              "#0d0887"
             ],
             [
              0.1111111111111111,
              "#46039f"
             ],
             [
              0.2222222222222222,
              "#7201a8"
             ],
             [
              0.3333333333333333,
              "#9c179e"
             ],
             [
              0.4444444444444444,
              "#bd3786"
             ],
             [
              0.5555555555555556,
              "#d8576b"
             ],
             [
              0.6666666666666666,
              "#ed7953"
             ],
             [
              0.7777777777777778,
              "#fb9f3a"
             ],
             [
              0.8888888888888888,
              "#fdca26"
             ],
             [
              1,
              "#f0f921"
             ]
            ],
            "type": "histogram2dcontour"
           }
          ],
          "mesh3d": [
           {
            "colorbar": {
             "outlinewidth": 0,
             "ticks": ""
            },
            "type": "mesh3d"
           }
          ],
          "parcoords": [
           {
            "line": {
             "colorbar": {
              "outlinewidth": 0,
              "ticks": ""
             }
            },
            "type": "parcoords"
           }
          ],
          "pie": [
           {
            "automargin": true,
            "type": "pie"
           }
          ],
          "scatter": [
           {
            "fillpattern": {
             "fillmode": "overlay",
             "size": 10,
             "solidity": 0.2
            },
            "type": "scatter"
           }
          ],
          "scatter3d": [
           {
            "line": {
             "colorbar": {
              "outlinewidth": 0,
              "ticks": ""
             }
            },
            "marker": {
             "colorbar": {
              "outlinewidth": 0,
              "ticks": ""
             }
            },
            "type": "scatter3d"
           }
          ],
          "scattercarpet": [
           {
            "marker": {
             "colorbar": {
              "outlinewidth": 0,
              "ticks": ""
             }
            },
            "type": "scattercarpet"
           }
          ],
          "scattergeo": [
           {
            "marker": {
             "colorbar": {
              "outlinewidth": 0,
              "ticks": ""
             }
            },
            "type": "scattergeo"
           }
          ],
          "scattergl": [
           {
            "marker": {
             "colorbar": {
              "outlinewidth": 0,
              "ticks": ""
             }
            },
            "type": "scattergl"
           }
          ],
          "scattermapbox": [
           {
            "marker": {
             "colorbar": {
              "outlinewidth": 0,
              "ticks": ""
             }
            },
            "type": "scattermapbox"
           }
          ],
          "scatterpolar": [
           {
            "marker": {
             "colorbar": {
              "outlinewidth": 0,
              "ticks": ""
             }
            },
            "type": "scatterpolar"
           }
          ],
          "scatterpolargl": [
           {
            "marker": {
             "colorbar": {
              "outlinewidth": 0,
              "ticks": ""
             }
            },
            "type": "scatterpolargl"
           }
          ],
          "scatterternary": [
           {
            "marker": {
             "colorbar": {
              "outlinewidth": 0,
              "ticks": ""
             }
            },
            "type": "scatterternary"
           }
          ],
          "surface": [
           {
            "colorbar": {
             "outlinewidth": 0,
             "ticks": ""
            },
            "colorscale": [
             [
              0,
              "#0d0887"
             ],
             [
              0.1111111111111111,
              "#46039f"
             ],
             [
              0.2222222222222222,
              "#7201a8"
             ],
             [
              0.3333333333333333,
              "#9c179e"
             ],
             [
              0.4444444444444444,
              "#bd3786"
             ],
             [
              0.5555555555555556,
              "#d8576b"
             ],
             [
              0.6666666666666666,
              "#ed7953"
             ],
             [
              0.7777777777777778,
              "#fb9f3a"
             ],
             [
              0.8888888888888888,
              "#fdca26"
             ],
             [
              1,
              "#f0f921"
             ]
            ],
            "type": "surface"
           }
          ],
          "table": [
           {
            "cells": {
             "fill": {
              "color": "#EBF0F8"
             },
             "line": {
              "color": "white"
             }
            },
            "header": {
             "fill": {
              "color": "#C8D4E3"
             },
             "line": {
              "color": "white"
             }
            },
            "type": "table"
           }
          ]
         },
         "layout": {
          "annotationdefaults": {
           "arrowcolor": "#2a3f5f",
           "arrowhead": 0,
           "arrowwidth": 1
          },
          "autotypenumbers": "strict",
          "coloraxis": {
           "colorbar": {
            "outlinewidth": 0,
            "ticks": ""
           }
          },
          "colorscale": {
           "diverging": [
            [
             0,
             "#8e0152"
            ],
            [
             0.1,
             "#c51b7d"
            ],
            [
             0.2,
             "#de77ae"
            ],
            [
             0.3,
             "#f1b6da"
            ],
            [
             0.4,
             "#fde0ef"
            ],
            [
             0.5,
             "#f7f7f7"
            ],
            [
             0.6,
             "#e6f5d0"
            ],
            [
             0.7,
             "#b8e186"
            ],
            [
             0.8,
             "#7fbc41"
            ],
            [
             0.9,
             "#4d9221"
            ],
            [
             1,
             "#276419"
            ]
           ],
           "sequential": [
            [
             0,
             "#0d0887"
            ],
            [
             0.1111111111111111,
             "#46039f"
            ],
            [
             0.2222222222222222,
             "#7201a8"
            ],
            [
             0.3333333333333333,
             "#9c179e"
            ],
            [
             0.4444444444444444,
             "#bd3786"
            ],
            [
             0.5555555555555556,
             "#d8576b"
            ],
            [
             0.6666666666666666,
             "#ed7953"
            ],
            [
             0.7777777777777778,
             "#fb9f3a"
            ],
            [
             0.8888888888888888,
             "#fdca26"
            ],
            [
             1,
             "#f0f921"
            ]
           ],
           "sequentialminus": [
            [
             0,
             "#0d0887"
            ],
            [
             0.1111111111111111,
             "#46039f"
            ],
            [
             0.2222222222222222,
             "#7201a8"
            ],
            [
             0.3333333333333333,
             "#9c179e"
            ],
            [
             0.4444444444444444,
             "#bd3786"
            ],
            [
             0.5555555555555556,
             "#d8576b"
            ],
            [
             0.6666666666666666,
             "#ed7953"
            ],
            [
             0.7777777777777778,
             "#fb9f3a"
            ],
            [
             0.8888888888888888,
             "#fdca26"
            ],
            [
             1,
             "#f0f921"
            ]
           ]
          },
          "colorway": [
           "#636efa",
           "#EF553B",
           "#00cc96",
           "#ab63fa",
           "#FFA15A",
           "#19d3f3",
           "#FF6692",
           "#B6E880",
           "#FF97FF",
           "#FECB52"
          ],
          "font": {
           "color": "#2a3f5f"
          },
          "geo": {
           "bgcolor": "white",
           "lakecolor": "white",
           "landcolor": "#E5ECF6",
           "showlakes": true,
           "showland": true,
           "subunitcolor": "white"
          },
          "hoverlabel": {
           "align": "left"
          },
          "hovermode": "closest",
          "mapbox": {
           "style": "light"
          },
          "paper_bgcolor": "white",
          "plot_bgcolor": "#E5ECF6",
          "polar": {
           "angularaxis": {
            "gridcolor": "white",
            "linecolor": "white",
            "ticks": ""
           },
           "bgcolor": "#E5ECF6",
           "radialaxis": {
            "gridcolor": "white",
            "linecolor": "white",
            "ticks": ""
           }
          },
          "scene": {
           "xaxis": {
            "backgroundcolor": "#E5ECF6",
            "gridcolor": "white",
            "gridwidth": 2,
            "linecolor": "white",
            "showbackground": true,
            "ticks": "",
            "zerolinecolor": "white"
           },
           "yaxis": {
            "backgroundcolor": "#E5ECF6",
            "gridcolor": "white",
            "gridwidth": 2,
            "linecolor": "white",
            "showbackground": true,
            "ticks": "",
            "zerolinecolor": "white"
           },
           "zaxis": {
            "backgroundcolor": "#E5ECF6",
            "gridcolor": "white",
            "gridwidth": 2,
            "linecolor": "white",
            "showbackground": true,
            "ticks": "",
            "zerolinecolor": "white"
           }
          },
          "shapedefaults": {
           "line": {
            "color": "#2a3f5f"
           }
          },
          "ternary": {
           "aaxis": {
            "gridcolor": "white",
            "linecolor": "white",
            "ticks": ""
           },
           "baxis": {
            "gridcolor": "white",
            "linecolor": "white",
            "ticks": ""
           },
           "bgcolor": "#E5ECF6",
           "caxis": {
            "gridcolor": "white",
            "linecolor": "white",
            "ticks": ""
           }
          },
          "title": {
           "x": 0.05
          },
          "xaxis": {
           "automargin": true,
           "gridcolor": "white",
           "linecolor": "white",
           "ticks": "",
           "title": {
            "standoff": 15
           },
           "zerolinecolor": "white",
           "zerolinewidth": 2
          },
          "yaxis": {
           "automargin": true,
           "gridcolor": "white",
           "linecolor": "white",
           "ticks": "",
           "title": {
            "standoff": 15
           },
           "zerolinecolor": "white",
           "zerolinewidth": 2
          }
         }
        },
        "title": {
         "text": "Consumo por tipo de Inmueble - 2021"
        },
        "xaxis": {
         "anchor": "y",
         "domain": [
          0,
          1
         ],
         "title": {
          "text": "PERIODO"
         }
        },
        "xaxis2": {
         "anchor": "y2",
         "domain": [
          0,
          1
         ],
         "matches": "x",
         "showticklabels": false
        },
        "xaxis3": {
         "anchor": "y3",
         "domain": [
          0,
          1
         ],
         "matches": "x",
         "showticklabels": false
        },
        "yaxis": {
         "anchor": "x",
         "domain": [
          0,
          0.2866666666666666
         ],
         "title": {
          "text": "CONSUMO"
         }
        },
        "yaxis2": {
         "anchor": "x2",
         "domain": [
          0.35666666666666663,
          0.6433333333333333
         ],
         "title": {
          "text": "CONSUMO"
         }
        },
        "yaxis3": {
         "anchor": "x3",
         "domain": [
          0.7133333333333333,
          0.9999999999999999
         ],
         "title": {
          "text": "CONSUMO"
         }
        }
       }
      }
     },
     "metadata": {},
     "output_type": "display_data"
    }
   ],
   "source": [
    "data = df.groupby([\"PERIODO\", \"CLASIFICACION\"]).sum().reset_index()\n",
    "fig = px.line(data, x=\"PERIODO\", y=\"CONSUMO\", facet_col=\"CLASIFICACION\", facet_col_wrap=1, color=\"CLASIFICACION\", title=\"Consumo por tipo de Inmueble - 2021\")\n",
    "fig.update_yaxes(matches=None)\n",
    "fig.show()"
   ]
  },
  {
   "cell_type": "markdown",
   "metadata": {},
   "source": [
    "* Para el consumo de los inmuebles comerciales, se tiene valores altos de consumos los primeros meses del 2021, luego se tiene una baja en el consumo, para posteriormente mantener un consumo aparentemente constante a partir de junio.\n",
    "* En los inmuebles industriales, se tiene tambien los valores mas alto los primeros meses, con un pico de consumo en marzo, a partir del cual se tiene una tendencia a la baja en el consumo, para retornar a una alza en el consumo o a partir de octubre.\n",
    "* Finalmente, para los inmuebles residenciales, no se tiene una tendencia a la alza o la baja, mas bien parece que los datos son estacionarios, con un patrón estacional que se repite cada 6 meses. \n",
    "\n",
    "\n"
   ]
  },
  {
   "cell_type": "code",
   "execution_count": 49,
   "metadata": {},
   "outputs": [
    {
     "data": {
      "application/vnd.plotly.v1+json": {
       "config": {
        "plotlyServerURL": "https://plot.ly"
       },
       "data": [
        {
         "hovertemplate": "DEPARTAMENTO=ATLANTICO<br>PERIODO=%{x}<br>CONSUMO=%{y}<extra></extra>",
         "legendgroup": "ATLANTICO",
         "line": {
          "color": "#636efa",
          "dash": "solid"
         },
         "marker": {
          "symbol": "circle"
         },
         "mode": "lines",
         "name": "ATLANTICO",
         "orientation": "v",
         "showlegend": true,
         "type": "scatter",
         "x": [
          "2021-01-01T00:00:00",
          "2021-02-01T00:00:00",
          "2021-03-01T00:00:00",
          "2021-04-01T00:00:00",
          "2021-05-01T00:00:00",
          "2021-06-01T00:00:00",
          "2021-07-01T00:00:00",
          "2021-08-01T00:00:00",
          "2021-09-01T00:00:00",
          "2021-10-01T00:00:00",
          "2021-11-01T00:00:00",
          "2021-12-01T00:00:00"
         ],
         "xaxis": "x",
         "y": [
          18639,
          12335,
          18302,
          14107,
          10462,
          11246,
          14699,
          15921,
          17400,
          17802,
          14050,
          15602
         ],
         "yaxis": "y"
        },
        {
         "hovertemplate": "DEPARTAMENTO=MAGDALENA<br>PERIODO=%{x}<br>CONSUMO=%{y}<extra></extra>",
         "legendgroup": "MAGDALENA",
         "line": {
          "color": "#EF553B",
          "dash": "solid"
         },
         "marker": {
          "symbol": "circle"
         },
         "mode": "lines",
         "name": "MAGDALENA",
         "orientation": "v",
         "showlegend": true,
         "type": "scatter",
         "x": [
          "2021-01-01T00:00:00",
          "2021-02-01T00:00:00",
          "2021-03-01T00:00:00",
          "2021-04-01T00:00:00",
          "2021-05-01T00:00:00",
          "2021-06-01T00:00:00",
          "2021-07-01T00:00:00",
          "2021-08-01T00:00:00",
          "2021-09-01T00:00:00",
          "2021-10-01T00:00:00",
          "2021-11-01T00:00:00",
          "2021-12-01T00:00:00"
         ],
         "xaxis": "x",
         "y": [
          27677,
          27194,
          32333,
          27694,
          23476,
          8096,
          10039,
          7466,
          2051,
          5063,
          12037,
          19124
         ],
         "yaxis": "y"
        }
       ],
       "layout": {
        "legend": {
         "title": {
          "text": "DEPARTAMENTO"
         },
         "tracegroupgap": 0
        },
        "template": {
         "data": {
          "bar": [
           {
            "error_x": {
             "color": "#2a3f5f"
            },
            "error_y": {
             "color": "#2a3f5f"
            },
            "marker": {
             "line": {
              "color": "#E5ECF6",
              "width": 0.5
             },
             "pattern": {
              "fillmode": "overlay",
              "size": 10,
              "solidity": 0.2
             }
            },
            "type": "bar"
           }
          ],
          "barpolar": [
           {
            "marker": {
             "line": {
              "color": "#E5ECF6",
              "width": 0.5
             },
             "pattern": {
              "fillmode": "overlay",
              "size": 10,
              "solidity": 0.2
             }
            },
            "type": "barpolar"
           }
          ],
          "carpet": [
           {
            "aaxis": {
             "endlinecolor": "#2a3f5f",
             "gridcolor": "white",
             "linecolor": "white",
             "minorgridcolor": "white",
             "startlinecolor": "#2a3f5f"
            },
            "baxis": {
             "endlinecolor": "#2a3f5f",
             "gridcolor": "white",
             "linecolor": "white",
             "minorgridcolor": "white",
             "startlinecolor": "#2a3f5f"
            },
            "type": "carpet"
           }
          ],
          "choropleth": [
           {
            "colorbar": {
             "outlinewidth": 0,
             "ticks": ""
            },
            "type": "choropleth"
           }
          ],
          "contour": [
           {
            "colorbar": {
             "outlinewidth": 0,
             "ticks": ""
            },
            "colorscale": [
             [
              0,
              "#0d0887"
             ],
             [
              0.1111111111111111,
              "#46039f"
             ],
             [
              0.2222222222222222,
              "#7201a8"
             ],
             [
              0.3333333333333333,
              "#9c179e"
             ],
             [
              0.4444444444444444,
              "#bd3786"
             ],
             [
              0.5555555555555556,
              "#d8576b"
             ],
             [
              0.6666666666666666,
              "#ed7953"
             ],
             [
              0.7777777777777778,
              "#fb9f3a"
             ],
             [
              0.8888888888888888,
              "#fdca26"
             ],
             [
              1,
              "#f0f921"
             ]
            ],
            "type": "contour"
           }
          ],
          "contourcarpet": [
           {
            "colorbar": {
             "outlinewidth": 0,
             "ticks": ""
            },
            "type": "contourcarpet"
           }
          ],
          "heatmap": [
           {
            "colorbar": {
             "outlinewidth": 0,
             "ticks": ""
            },
            "colorscale": [
             [
              0,
              "#0d0887"
             ],
             [
              0.1111111111111111,
              "#46039f"
             ],
             [
              0.2222222222222222,
              "#7201a8"
             ],
             [
              0.3333333333333333,
              "#9c179e"
             ],
             [
              0.4444444444444444,
              "#bd3786"
             ],
             [
              0.5555555555555556,
              "#d8576b"
             ],
             [
              0.6666666666666666,
              "#ed7953"
             ],
             [
              0.7777777777777778,
              "#fb9f3a"
             ],
             [
              0.8888888888888888,
              "#fdca26"
             ],
             [
              1,
              "#f0f921"
             ]
            ],
            "type": "heatmap"
           }
          ],
          "heatmapgl": [
           {
            "colorbar": {
             "outlinewidth": 0,
             "ticks": ""
            },
            "colorscale": [
             [
              0,
              "#0d0887"
             ],
             [
              0.1111111111111111,
              "#46039f"
             ],
             [
              0.2222222222222222,
              "#7201a8"
             ],
             [
              0.3333333333333333,
              "#9c179e"
             ],
             [
              0.4444444444444444,
              "#bd3786"
             ],
             [
              0.5555555555555556,
              "#d8576b"
             ],
             [
              0.6666666666666666,
              "#ed7953"
             ],
             [
              0.7777777777777778,
              "#fb9f3a"
             ],
             [
              0.8888888888888888,
              "#fdca26"
             ],
             [
              1,
              "#f0f921"
             ]
            ],
            "type": "heatmapgl"
           }
          ],
          "histogram": [
           {
            "marker": {
             "pattern": {
              "fillmode": "overlay",
              "size": 10,
              "solidity": 0.2
             }
            },
            "type": "histogram"
           }
          ],
          "histogram2d": [
           {
            "colorbar": {
             "outlinewidth": 0,
             "ticks": ""
            },
            "colorscale": [
             [
              0,
              "#0d0887"
             ],
             [
              0.1111111111111111,
              "#46039f"
             ],
             [
              0.2222222222222222,
              "#7201a8"
             ],
             [
              0.3333333333333333,
              "#9c179e"
             ],
             [
              0.4444444444444444,
              "#bd3786"
             ],
             [
              0.5555555555555556,
              "#d8576b"
             ],
             [
              0.6666666666666666,
              "#ed7953"
             ],
             [
              0.7777777777777778,
              "#fb9f3a"
             ],
             [
              0.8888888888888888,
              "#fdca26"
             ],
             [
              1,
              "#f0f921"
             ]
            ],
            "type": "histogram2d"
           }
          ],
          "histogram2dcontour": [
           {
            "colorbar": {
             "outlinewidth": 0,
             "ticks": ""
            },
            "colorscale": [
             [
              0,
              "#0d0887"
             ],
             [
              0.1111111111111111,
              "#46039f"
             ],
             [
              0.2222222222222222,
              "#7201a8"
             ],
             [
              0.3333333333333333,
              "#9c179e"
             ],
             [
              0.4444444444444444,
              "#bd3786"
             ],
             [
              0.5555555555555556,
              "#d8576b"
             ],
             [
              0.6666666666666666,
              "#ed7953"
             ],
             [
              0.7777777777777778,
              "#fb9f3a"
             ],
             [
              0.8888888888888888,
              "#fdca26"
             ],
             [
              1,
              "#f0f921"
             ]
            ],
            "type": "histogram2dcontour"
           }
          ],
          "mesh3d": [
           {
            "colorbar": {
             "outlinewidth": 0,
             "ticks": ""
            },
            "type": "mesh3d"
           }
          ],
          "parcoords": [
           {
            "line": {
             "colorbar": {
              "outlinewidth": 0,
              "ticks": ""
             }
            },
            "type": "parcoords"
           }
          ],
          "pie": [
           {
            "automargin": true,
            "type": "pie"
           }
          ],
          "scatter": [
           {
            "fillpattern": {
             "fillmode": "overlay",
             "size": 10,
             "solidity": 0.2
            },
            "type": "scatter"
           }
          ],
          "scatter3d": [
           {
            "line": {
             "colorbar": {
              "outlinewidth": 0,
              "ticks": ""
             }
            },
            "marker": {
             "colorbar": {
              "outlinewidth": 0,
              "ticks": ""
             }
            },
            "type": "scatter3d"
           }
          ],
          "scattercarpet": [
           {
            "marker": {
             "colorbar": {
              "outlinewidth": 0,
              "ticks": ""
             }
            },
            "type": "scattercarpet"
           }
          ],
          "scattergeo": [
           {
            "marker": {
             "colorbar": {
              "outlinewidth": 0,
              "ticks": ""
             }
            },
            "type": "scattergeo"
           }
          ],
          "scattergl": [
           {
            "marker": {
             "colorbar": {
              "outlinewidth": 0,
              "ticks": ""
             }
            },
            "type": "scattergl"
           }
          ],
          "scattermapbox": [
           {
            "marker": {
             "colorbar": {
              "outlinewidth": 0,
              "ticks": ""
             }
            },
            "type": "scattermapbox"
           }
          ],
          "scatterpolar": [
           {
            "marker": {
             "colorbar": {
              "outlinewidth": 0,
              "ticks": ""
             }
            },
            "type": "scatterpolar"
           }
          ],
          "scatterpolargl": [
           {
            "marker": {
             "colorbar": {
              "outlinewidth": 0,
              "ticks": ""
             }
            },
            "type": "scatterpolargl"
           }
          ],
          "scatterternary": [
           {
            "marker": {
             "colorbar": {
              "outlinewidth": 0,
              "ticks": ""
             }
            },
            "type": "scatterternary"
           }
          ],
          "surface": [
           {
            "colorbar": {
             "outlinewidth": 0,
             "ticks": ""
            },
            "colorscale": [
             [
              0,
              "#0d0887"
             ],
             [
              0.1111111111111111,
              "#46039f"
             ],
             [
              0.2222222222222222,
              "#7201a8"
             ],
             [
              0.3333333333333333,
              "#9c179e"
             ],
             [
              0.4444444444444444,
              "#bd3786"
             ],
             [
              0.5555555555555556,
              "#d8576b"
             ],
             [
              0.6666666666666666,
              "#ed7953"
             ],
             [
              0.7777777777777778,
              "#fb9f3a"
             ],
             [
              0.8888888888888888,
              "#fdca26"
             ],
             [
              1,
              "#f0f921"
             ]
            ],
            "type": "surface"
           }
          ],
          "table": [
           {
            "cells": {
             "fill": {
              "color": "#EBF0F8"
             },
             "line": {
              "color": "white"
             }
            },
            "header": {
             "fill": {
              "color": "#C8D4E3"
             },
             "line": {
              "color": "white"
             }
            },
            "type": "table"
           }
          ]
         },
         "layout": {
          "annotationdefaults": {
           "arrowcolor": "#2a3f5f",
           "arrowhead": 0,
           "arrowwidth": 1
          },
          "autotypenumbers": "strict",
          "coloraxis": {
           "colorbar": {
            "outlinewidth": 0,
            "ticks": ""
           }
          },
          "colorscale": {
           "diverging": [
            [
             0,
             "#8e0152"
            ],
            [
             0.1,
             "#c51b7d"
            ],
            [
             0.2,
             "#de77ae"
            ],
            [
             0.3,
             "#f1b6da"
            ],
            [
             0.4,
             "#fde0ef"
            ],
            [
             0.5,
             "#f7f7f7"
            ],
            [
             0.6,
             "#e6f5d0"
            ],
            [
             0.7,
             "#b8e186"
            ],
            [
             0.8,
             "#7fbc41"
            ],
            [
             0.9,
             "#4d9221"
            ],
            [
             1,
             "#276419"
            ]
           ],
           "sequential": [
            [
             0,
             "#0d0887"
            ],
            [
             0.1111111111111111,
             "#46039f"
            ],
            [
             0.2222222222222222,
             "#7201a8"
            ],
            [
             0.3333333333333333,
             "#9c179e"
            ],
            [
             0.4444444444444444,
             "#bd3786"
            ],
            [
             0.5555555555555556,
             "#d8576b"
            ],
            [
             0.6666666666666666,
             "#ed7953"
            ],
            [
             0.7777777777777778,
             "#fb9f3a"
            ],
            [
             0.8888888888888888,
             "#fdca26"
            ],
            [
             1,
             "#f0f921"
            ]
           ],
           "sequentialminus": [
            [
             0,
             "#0d0887"
            ],
            [
             0.1111111111111111,
             "#46039f"
            ],
            [
             0.2222222222222222,
             "#7201a8"
            ],
            [
             0.3333333333333333,
             "#9c179e"
            ],
            [
             0.4444444444444444,
             "#bd3786"
            ],
            [
             0.5555555555555556,
             "#d8576b"
            ],
            [
             0.6666666666666666,
             "#ed7953"
            ],
            [
             0.7777777777777778,
             "#fb9f3a"
            ],
            [
             0.8888888888888888,
             "#fdca26"
            ],
            [
             1,
             "#f0f921"
            ]
           ]
          },
          "colorway": [
           "#636efa",
           "#EF553B",
           "#00cc96",
           "#ab63fa",
           "#FFA15A",
           "#19d3f3",
           "#FF6692",
           "#B6E880",
           "#FF97FF",
           "#FECB52"
          ],
          "font": {
           "color": "#2a3f5f"
          },
          "geo": {
           "bgcolor": "white",
           "lakecolor": "white",
           "landcolor": "#E5ECF6",
           "showlakes": true,
           "showland": true,
           "subunitcolor": "white"
          },
          "hoverlabel": {
           "align": "left"
          },
          "hovermode": "closest",
          "mapbox": {
           "style": "light"
          },
          "paper_bgcolor": "white",
          "plot_bgcolor": "#E5ECF6",
          "polar": {
           "angularaxis": {
            "gridcolor": "white",
            "linecolor": "white",
            "ticks": ""
           },
           "bgcolor": "#E5ECF6",
           "radialaxis": {
            "gridcolor": "white",
            "linecolor": "white",
            "ticks": ""
           }
          },
          "scene": {
           "xaxis": {
            "backgroundcolor": "#E5ECF6",
            "gridcolor": "white",
            "gridwidth": 2,
            "linecolor": "white",
            "showbackground": true,
            "ticks": "",
            "zerolinecolor": "white"
           },
           "yaxis": {
            "backgroundcolor": "#E5ECF6",
            "gridcolor": "white",
            "gridwidth": 2,
            "linecolor": "white",
            "showbackground": true,
            "ticks": "",
            "zerolinecolor": "white"
           },
           "zaxis": {
            "backgroundcolor": "#E5ECF6",
            "gridcolor": "white",
            "gridwidth": 2,
            "linecolor": "white",
            "showbackground": true,
            "ticks": "",
            "zerolinecolor": "white"
           }
          },
          "shapedefaults": {
           "line": {
            "color": "#2a3f5f"
           }
          },
          "ternary": {
           "aaxis": {
            "gridcolor": "white",
            "linecolor": "white",
            "ticks": ""
           },
           "baxis": {
            "gridcolor": "white",
            "linecolor": "white",
            "ticks": ""
           },
           "bgcolor": "#E5ECF6",
           "caxis": {
            "gridcolor": "white",
            "linecolor": "white",
            "ticks": ""
           }
          },
          "title": {
           "x": 0.05
          },
          "xaxis": {
           "automargin": true,
           "gridcolor": "white",
           "linecolor": "white",
           "ticks": "",
           "title": {
            "standoff": 15
           },
           "zerolinecolor": "white",
           "zerolinewidth": 2
          },
          "yaxis": {
           "automargin": true,
           "gridcolor": "white",
           "linecolor": "white",
           "ticks": "",
           "title": {
            "standoff": 15
           },
           "zerolinecolor": "white",
           "zerolinewidth": 2
          }
         }
        },
        "title": {
         "text": "Consumo por Departamento - 2021"
        },
        "xaxis": {
         "anchor": "y",
         "domain": [
          0,
          1
         ],
         "title": {
          "text": "PERIODO"
         }
        },
        "yaxis": {
         "anchor": "x",
         "domain": [
          0,
          1
         ],
         "title": {
          "text": "CONSUMO"
         }
        }
       }
      }
     },
     "metadata": {},
     "output_type": "display_data"
    }
   ],
   "source": [
    "data = df.groupby([\"PERIODO\", \"DEPARTAMENTO\"]).sum().reset_index()\n",
    "fig = px.line(data, x=\"PERIODO\", y=\"CONSUMO\", color=\"DEPARTAMENTO\", title=\"Consumo por Departamento - 2021\")\n",
    "fig.show()"
   ]
  },
  {
   "cell_type": "markdown",
   "metadata": {},
   "source": [
    "Para los primeros meses del 2021, se tuvo un mayor consumo de gas en el departamento del Magdalena en comparación al departamento del Atlantico, a pesar que la mayoria de clientes son del Atlantico. A partir de junio, el consumo de gas en el Atlantico fue mayor, manteniendose hasta novimebre. Para diciembre, el consumo del Magdalena vuele a superar al consumo de gas en el Atlantico."
   ]
  },
  {
   "cell_type": "code",
   "execution_count": null,
   "metadata": {},
   "outputs": [],
   "source": []
  },
  {
   "cell_type": "markdown",
   "metadata": {},
   "source": [
    "##### CLASIFICACION VS DEPARTAMENTO "
   ]
  },
  {
   "cell_type": "code",
   "execution_count": 50,
   "metadata": {},
   "outputs": [
    {
     "data": {
      "application/vnd.plotly.v1+json": {
       "config": {
        "plotlyServerURL": "https://plot.ly"
       },
       "data": [
        {
         "coloraxis": "coloraxis",
         "hovertemplate": "CLASIFICACION=%{x}<br>DEPARTAMENTO=%{y}<br>count=%{z}<extra></extra>",
         "name": "",
         "texttemplate": "%{z}",
         "type": "histogram2d",
         "x": [
          "RESIDENCIAL",
          "COMERCIAL",
          "RESIDENCIAL",
          "COMERCIAL",
          "RESIDENCIAL",
          "INDUSTRIAL",
          "RESIDENCIAL",
          "RESIDENCIAL",
          "RESIDENCIAL",
          "RESIDENCIAL",
          "RESIDENCIAL",
          "INDUSTRIAL",
          "RESIDENCIAL",
          "INDUSTRIAL",
          "RESIDENCIAL",
          "RESIDENCIAL",
          "COMERCIAL",
          "COMERCIAL",
          "INDUSTRIAL",
          "RESIDENCIAL",
          "COMERCIAL",
          "RESIDENCIAL",
          "COMERCIAL",
          "INDUSTRIAL",
          "RESIDENCIAL",
          "RESIDENCIAL",
          "RESIDENCIAL",
          "COMERCIAL",
          "RESIDENCIAL",
          "COMERCIAL",
          "RESIDENCIAL",
          "INDUSTRIAL",
          "RESIDENCIAL",
          "RESIDENCIAL",
          "RESIDENCIAL",
          "RESIDENCIAL",
          "RESIDENCIAL",
          "INDUSTRIAL",
          "RESIDENCIAL",
          "INDUSTRIAL",
          "RESIDENCIAL",
          "RESIDENCIAL",
          "COMERCIAL",
          "COMERCIAL",
          "INDUSTRIAL",
          "RESIDENCIAL",
          "COMERCIAL",
          "RESIDENCIAL",
          "COMERCIAL",
          "INDUSTRIAL",
          "RESIDENCIAL",
          "RESIDENCIAL",
          "RESIDENCIAL",
          "COMERCIAL",
          "RESIDENCIAL",
          "COMERCIAL",
          "RESIDENCIAL",
          "INDUSTRIAL",
          "RESIDENCIAL",
          "RESIDENCIAL",
          "RESIDENCIAL",
          "RESIDENCIAL",
          "RESIDENCIAL",
          "INDUSTRIAL",
          "RESIDENCIAL",
          "INDUSTRIAL",
          "RESIDENCIAL",
          "RESIDENCIAL",
          "COMERCIAL",
          "COMERCIAL",
          "INDUSTRIAL",
          "RESIDENCIAL",
          "COMERCIAL",
          "RESIDENCIAL",
          "COMERCIAL",
          "INDUSTRIAL",
          "RESIDENCIAL",
          "RESIDENCIAL",
          "RESIDENCIAL",
          "COMERCIAL",
          "RESIDENCIAL",
          "COMERCIAL",
          "RESIDENCIAL",
          "INDUSTRIAL",
          "RESIDENCIAL",
          "RESIDENCIAL",
          "RESIDENCIAL",
          "RESIDENCIAL",
          "RESIDENCIAL",
          "INDUSTRIAL",
          "RESIDENCIAL",
          "INDUSTRIAL",
          "RESIDENCIAL",
          "RESIDENCIAL",
          "COMERCIAL",
          "COMERCIAL",
          "INDUSTRIAL",
          "RESIDENCIAL",
          "COMERCIAL",
          "RESIDENCIAL",
          "COMERCIAL",
          "INDUSTRIAL",
          "RESIDENCIAL",
          "RESIDENCIAL",
          "RESIDENCIAL",
          "COMERCIAL",
          "RESIDENCIAL",
          "COMERCIAL",
          "RESIDENCIAL",
          "INDUSTRIAL",
          "RESIDENCIAL",
          "RESIDENCIAL",
          "RESIDENCIAL",
          "RESIDENCIAL",
          "RESIDENCIAL",
          "INDUSTRIAL",
          "RESIDENCIAL",
          "INDUSTRIAL",
          "RESIDENCIAL",
          "RESIDENCIAL",
          "COMERCIAL",
          "COMERCIAL",
          "INDUSTRIAL",
          "RESIDENCIAL",
          "COMERCIAL",
          "RESIDENCIAL",
          "COMERCIAL",
          "INDUSTRIAL",
          "RESIDENCIAL",
          "RESIDENCIAL",
          "RESIDENCIAL",
          "COMERCIAL",
          "RESIDENCIAL",
          "COMERCIAL",
          "RESIDENCIAL",
          "INDUSTRIAL",
          "RESIDENCIAL",
          "RESIDENCIAL",
          "RESIDENCIAL",
          "RESIDENCIAL",
          "RESIDENCIAL",
          "INDUSTRIAL",
          "RESIDENCIAL",
          "INDUSTRIAL",
          "RESIDENCIAL",
          "RESIDENCIAL",
          "COMERCIAL",
          "COMERCIAL",
          "INDUSTRIAL",
          "RESIDENCIAL",
          "COMERCIAL",
          "RESIDENCIAL",
          "COMERCIAL",
          "INDUSTRIAL",
          "RESIDENCIAL",
          "RESIDENCIAL",
          "RESIDENCIAL",
          "COMERCIAL",
          "RESIDENCIAL",
          "COMERCIAL",
          "RESIDENCIAL",
          "INDUSTRIAL",
          "RESIDENCIAL",
          "RESIDENCIAL",
          "RESIDENCIAL",
          "RESIDENCIAL",
          "RESIDENCIAL",
          "INDUSTRIAL",
          "RESIDENCIAL",
          "INDUSTRIAL",
          "RESIDENCIAL",
          "RESIDENCIAL",
          "COMERCIAL",
          "COMERCIAL",
          "INDUSTRIAL",
          "RESIDENCIAL",
          "COMERCIAL",
          "RESIDENCIAL",
          "COMERCIAL",
          "INDUSTRIAL",
          "RESIDENCIAL",
          "RESIDENCIAL",
          "RESIDENCIAL",
          "COMERCIAL",
          "RESIDENCIAL",
          "COMERCIAL",
          "RESIDENCIAL",
          "INDUSTRIAL",
          "RESIDENCIAL",
          "RESIDENCIAL",
          "RESIDENCIAL",
          "RESIDENCIAL",
          "RESIDENCIAL",
          "INDUSTRIAL",
          "RESIDENCIAL",
          "INDUSTRIAL",
          "RESIDENCIAL",
          "RESIDENCIAL",
          "COMERCIAL",
          "COMERCIAL",
          "INDUSTRIAL",
          "RESIDENCIAL",
          "COMERCIAL",
          "RESIDENCIAL",
          "COMERCIAL",
          "INDUSTRIAL",
          "RESIDENCIAL",
          "RESIDENCIAL",
          "RESIDENCIAL",
          "COMERCIAL",
          "RESIDENCIAL",
          "COMERCIAL",
          "RESIDENCIAL",
          "INDUSTRIAL",
          "RESIDENCIAL",
          "RESIDENCIAL",
          "RESIDENCIAL",
          "RESIDENCIAL",
          "RESIDENCIAL",
          "INDUSTRIAL",
          "RESIDENCIAL",
          "INDUSTRIAL",
          "RESIDENCIAL",
          "RESIDENCIAL",
          "COMERCIAL",
          "COMERCIAL",
          "INDUSTRIAL",
          "RESIDENCIAL",
          "COMERCIAL",
          "RESIDENCIAL",
          "COMERCIAL",
          "INDUSTRIAL",
          "RESIDENCIAL",
          "RESIDENCIAL",
          "RESIDENCIAL",
          "COMERCIAL",
          "RESIDENCIAL",
          "COMERCIAL",
          "RESIDENCIAL",
          "INDUSTRIAL",
          "RESIDENCIAL",
          "RESIDENCIAL",
          "RESIDENCIAL",
          "RESIDENCIAL",
          "RESIDENCIAL",
          "INDUSTRIAL",
          "RESIDENCIAL",
          "INDUSTRIAL",
          "RESIDENCIAL",
          "RESIDENCIAL",
          "COMERCIAL",
          "COMERCIAL",
          "INDUSTRIAL",
          "RESIDENCIAL",
          "COMERCIAL",
          "RESIDENCIAL",
          "COMERCIAL",
          "INDUSTRIAL",
          "RESIDENCIAL",
          "RESIDENCIAL",
          "RESIDENCIAL",
          "COMERCIAL",
          "RESIDENCIAL",
          "COMERCIAL",
          "RESIDENCIAL",
          "INDUSTRIAL",
          "RESIDENCIAL",
          "RESIDENCIAL",
          "RESIDENCIAL",
          "RESIDENCIAL",
          "RESIDENCIAL",
          "INDUSTRIAL",
          "RESIDENCIAL",
          "INDUSTRIAL",
          "RESIDENCIAL",
          "RESIDENCIAL",
          "COMERCIAL",
          "COMERCIAL",
          "INDUSTRIAL",
          "RESIDENCIAL",
          "COMERCIAL",
          "RESIDENCIAL",
          "COMERCIAL",
          "INDUSTRIAL",
          "RESIDENCIAL",
          "RESIDENCIAL",
          "RESIDENCIAL",
          "COMERCIAL",
          "RESIDENCIAL",
          "COMERCIAL",
          "RESIDENCIAL",
          "INDUSTRIAL",
          "RESIDENCIAL",
          "RESIDENCIAL",
          "RESIDENCIAL",
          "RESIDENCIAL",
          "RESIDENCIAL",
          "INDUSTRIAL",
          "RESIDENCIAL",
          "INDUSTRIAL",
          "RESIDENCIAL",
          "RESIDENCIAL",
          "COMERCIAL",
          "COMERCIAL",
          "INDUSTRIAL",
          "RESIDENCIAL",
          "COMERCIAL",
          "RESIDENCIAL",
          "COMERCIAL",
          "INDUSTRIAL",
          "RESIDENCIAL",
          "RESIDENCIAL"
         ],
         "xaxis": "x",
         "xbingroup": "x",
         "y": [
          "ATLANTICO",
          "ATLANTICO",
          "ATLANTICO",
          "ATLANTICO",
          "ATLANTICO",
          "ATLANTICO",
          "MAGDALENA",
          "MAGDALENA",
          "MAGDALENA",
          "ATLANTICO",
          "ATLANTICO",
          "ATLANTICO",
          "ATLANTICO",
          "MAGDALENA",
          "MAGDALENA",
          "ATLANTICO",
          "ATLANTICO",
          "ATLANTICO",
          "ATLANTICO",
          "ATLANTICO",
          "ATLANTICO",
          "ATLANTICO",
          "ATLANTICO",
          "MAGDALENA",
          "MAGDALENA",
          "ATLANTICO",
          "ATLANTICO",
          "ATLANTICO",
          "ATLANTICO",
          "ATLANTICO",
          "ATLANTICO",
          "ATLANTICO",
          "MAGDALENA",
          "MAGDALENA",
          "MAGDALENA",
          "ATLANTICO",
          "ATLANTICO",
          "ATLANTICO",
          "ATLANTICO",
          "MAGDALENA",
          "MAGDALENA",
          "ATLANTICO",
          "ATLANTICO",
          "ATLANTICO",
          "ATLANTICO",
          "ATLANTICO",
          "ATLANTICO",
          "ATLANTICO",
          "ATLANTICO",
          "MAGDALENA",
          "MAGDALENA",
          "ATLANTICO",
          "ATLANTICO",
          "ATLANTICO",
          "ATLANTICO",
          "ATLANTICO",
          "ATLANTICO",
          "ATLANTICO",
          "MAGDALENA",
          "MAGDALENA",
          "MAGDALENA",
          "ATLANTICO",
          "ATLANTICO",
          "ATLANTICO",
          "ATLANTICO",
          "MAGDALENA",
          "MAGDALENA",
          "ATLANTICO",
          "ATLANTICO",
          "ATLANTICO",
          "ATLANTICO",
          "ATLANTICO",
          "ATLANTICO",
          "ATLANTICO",
          "ATLANTICO",
          "MAGDALENA",
          "MAGDALENA",
          "ATLANTICO",
          "ATLANTICO",
          "ATLANTICO",
          "ATLANTICO",
          "ATLANTICO",
          "ATLANTICO",
          "ATLANTICO",
          "MAGDALENA",
          "MAGDALENA",
          "MAGDALENA",
          "ATLANTICO",
          "ATLANTICO",
          "ATLANTICO",
          "ATLANTICO",
          "MAGDALENA",
          "MAGDALENA",
          "ATLANTICO",
          "ATLANTICO",
          "ATLANTICO",
          "ATLANTICO",
          "ATLANTICO",
          "ATLANTICO",
          "ATLANTICO",
          "ATLANTICO",
          "MAGDALENA",
          "MAGDALENA",
          "ATLANTICO",
          "ATLANTICO",
          "ATLANTICO",
          "ATLANTICO",
          "ATLANTICO",
          "ATLANTICO",
          "ATLANTICO",
          "MAGDALENA",
          "MAGDALENA",
          "MAGDALENA",
          "ATLANTICO",
          "ATLANTICO",
          "ATLANTICO",
          "ATLANTICO",
          "MAGDALENA",
          "MAGDALENA",
          "ATLANTICO",
          "ATLANTICO",
          "ATLANTICO",
          "ATLANTICO",
          "ATLANTICO",
          "ATLANTICO",
          "ATLANTICO",
          "ATLANTICO",
          "MAGDALENA",
          "MAGDALENA",
          "ATLANTICO",
          "ATLANTICO",
          "ATLANTICO",
          "ATLANTICO",
          "ATLANTICO",
          "ATLANTICO",
          "ATLANTICO",
          "MAGDALENA",
          "MAGDALENA",
          "MAGDALENA",
          "ATLANTICO",
          "ATLANTICO",
          "ATLANTICO",
          "ATLANTICO",
          "MAGDALENA",
          "MAGDALENA",
          "ATLANTICO",
          "ATLANTICO",
          "ATLANTICO",
          "ATLANTICO",
          "ATLANTICO",
          "ATLANTICO",
          "ATLANTICO",
          "ATLANTICO",
          "MAGDALENA",
          "MAGDALENA",
          "ATLANTICO",
          "ATLANTICO",
          "ATLANTICO",
          "ATLANTICO",
          "ATLANTICO",
          "ATLANTICO",
          "ATLANTICO",
          "MAGDALENA",
          "MAGDALENA",
          "MAGDALENA",
          "ATLANTICO",
          "ATLANTICO",
          "ATLANTICO",
          "ATLANTICO",
          "MAGDALENA",
          "MAGDALENA",
          "ATLANTICO",
          "ATLANTICO",
          "ATLANTICO",
          "ATLANTICO",
          "ATLANTICO",
          "ATLANTICO",
          "ATLANTICO",
          "ATLANTICO",
          "MAGDALENA",
          "MAGDALENA",
          "ATLANTICO",
          "ATLANTICO",
          "ATLANTICO",
          "ATLANTICO",
          "ATLANTICO",
          "ATLANTICO",
          "ATLANTICO",
          "MAGDALENA",
          "MAGDALENA",
          "MAGDALENA",
          "ATLANTICO",
          "ATLANTICO",
          "ATLANTICO",
          "ATLANTICO",
          "MAGDALENA",
          "MAGDALENA",
          "ATLANTICO",
          "ATLANTICO",
          "ATLANTICO",
          "ATLANTICO",
          "ATLANTICO",
          "ATLANTICO",
          "ATLANTICO",
          "ATLANTICO",
          "MAGDALENA",
          "MAGDALENA",
          "ATLANTICO",
          "ATLANTICO",
          "ATLANTICO",
          "ATLANTICO",
          "ATLANTICO",
          "ATLANTICO",
          "ATLANTICO",
          "MAGDALENA",
          "MAGDALENA",
          "MAGDALENA",
          "ATLANTICO",
          "ATLANTICO",
          "ATLANTICO",
          "ATLANTICO",
          "MAGDALENA",
          "MAGDALENA",
          "ATLANTICO",
          "ATLANTICO",
          "ATLANTICO",
          "ATLANTICO",
          "ATLANTICO",
          "ATLANTICO",
          "ATLANTICO",
          "ATLANTICO",
          "MAGDALENA",
          "MAGDALENA",
          "ATLANTICO",
          "ATLANTICO",
          "ATLANTICO",
          "ATLANTICO",
          "ATLANTICO",
          "ATLANTICO",
          "ATLANTICO",
          "MAGDALENA",
          "MAGDALENA",
          "MAGDALENA",
          "ATLANTICO",
          "ATLANTICO",
          "ATLANTICO",
          "ATLANTICO",
          "MAGDALENA",
          "MAGDALENA",
          "ATLANTICO",
          "ATLANTICO",
          "ATLANTICO",
          "ATLANTICO",
          "ATLANTICO",
          "ATLANTICO",
          "ATLANTICO",
          "ATLANTICO",
          "MAGDALENA",
          "MAGDALENA",
          "ATLANTICO",
          "ATLANTICO",
          "ATLANTICO",
          "ATLANTICO",
          "ATLANTICO",
          "ATLANTICO",
          "ATLANTICO",
          "MAGDALENA",
          "MAGDALENA",
          "MAGDALENA",
          "ATLANTICO",
          "ATLANTICO",
          "ATLANTICO",
          "ATLANTICO",
          "MAGDALENA",
          "MAGDALENA",
          "ATLANTICO",
          "ATLANTICO",
          "ATLANTICO",
          "ATLANTICO",
          "ATLANTICO",
          "ATLANTICO",
          "ATLANTICO",
          "ATLANTICO",
          "MAGDALENA",
          "MAGDALENA",
          "ATLANTICO",
          "ATLANTICO",
          "ATLANTICO",
          "ATLANTICO",
          "ATLANTICO",
          "ATLANTICO",
          "ATLANTICO",
          "MAGDALENA",
          "MAGDALENA",
          "MAGDALENA",
          "ATLANTICO",
          "ATLANTICO",
          "ATLANTICO",
          "ATLANTICO",
          "MAGDALENA",
          "MAGDALENA",
          "ATLANTICO",
          "ATLANTICO",
          "ATLANTICO",
          "ATLANTICO",
          "ATLANTICO",
          "ATLANTICO",
          "ATLANTICO",
          "ATLANTICO",
          "MAGDALENA",
          "MAGDALENA",
          "ATLANTICO"
         ],
         "yaxis": "y",
         "ybingroup": "y"
        }
       ],
       "layout": {
        "coloraxis": {
         "colorbar": {
          "title": {
           "text": "count"
          }
         },
         "colorscale": [
          [
           0,
           "#0d0887"
          ],
          [
           0.1111111111111111,
           "#46039f"
          ],
          [
           0.2222222222222222,
           "#7201a8"
          ],
          [
           0.3333333333333333,
           "#9c179e"
          ],
          [
           0.4444444444444444,
           "#bd3786"
          ],
          [
           0.5555555555555556,
           "#d8576b"
          ],
          [
           0.6666666666666666,
           "#ed7953"
          ],
          [
           0.7777777777777778,
           "#fb9f3a"
          ],
          [
           0.8888888888888888,
           "#fdca26"
          ],
          [
           1,
           "#f0f921"
          ]
         ]
        },
        "legend": {
         "tracegroupgap": 0
        },
        "margin": {
         "t": 60
        },
        "template": {
         "data": {
          "bar": [
           {
            "error_x": {
             "color": "#2a3f5f"
            },
            "error_y": {
             "color": "#2a3f5f"
            },
            "marker": {
             "line": {
              "color": "#E5ECF6",
              "width": 0.5
             },
             "pattern": {
              "fillmode": "overlay",
              "size": 10,
              "solidity": 0.2
             }
            },
            "type": "bar"
           }
          ],
          "barpolar": [
           {
            "marker": {
             "line": {
              "color": "#E5ECF6",
              "width": 0.5
             },
             "pattern": {
              "fillmode": "overlay",
              "size": 10,
              "solidity": 0.2
             }
            },
            "type": "barpolar"
           }
          ],
          "carpet": [
           {
            "aaxis": {
             "endlinecolor": "#2a3f5f",
             "gridcolor": "white",
             "linecolor": "white",
             "minorgridcolor": "white",
             "startlinecolor": "#2a3f5f"
            },
            "baxis": {
             "endlinecolor": "#2a3f5f",
             "gridcolor": "white",
             "linecolor": "white",
             "minorgridcolor": "white",
             "startlinecolor": "#2a3f5f"
            },
            "type": "carpet"
           }
          ],
          "choropleth": [
           {
            "colorbar": {
             "outlinewidth": 0,
             "ticks": ""
            },
            "type": "choropleth"
           }
          ],
          "contour": [
           {
            "colorbar": {
             "outlinewidth": 0,
             "ticks": ""
            },
            "colorscale": [
             [
              0,
              "#0d0887"
             ],
             [
              0.1111111111111111,
              "#46039f"
             ],
             [
              0.2222222222222222,
              "#7201a8"
             ],
             [
              0.3333333333333333,
              "#9c179e"
             ],
             [
              0.4444444444444444,
              "#bd3786"
             ],
             [
              0.5555555555555556,
              "#d8576b"
             ],
             [
              0.6666666666666666,
              "#ed7953"
             ],
             [
              0.7777777777777778,
              "#fb9f3a"
             ],
             [
              0.8888888888888888,
              "#fdca26"
             ],
             [
              1,
              "#f0f921"
             ]
            ],
            "type": "contour"
           }
          ],
          "contourcarpet": [
           {
            "colorbar": {
             "outlinewidth": 0,
             "ticks": ""
            },
            "type": "contourcarpet"
           }
          ],
          "heatmap": [
           {
            "colorbar": {
             "outlinewidth": 0,
             "ticks": ""
            },
            "colorscale": [
             [
              0,
              "#0d0887"
             ],
             [
              0.1111111111111111,
              "#46039f"
             ],
             [
              0.2222222222222222,
              "#7201a8"
             ],
             [
              0.3333333333333333,
              "#9c179e"
             ],
             [
              0.4444444444444444,
              "#bd3786"
             ],
             [
              0.5555555555555556,
              "#d8576b"
             ],
             [
              0.6666666666666666,
              "#ed7953"
             ],
             [
              0.7777777777777778,
              "#fb9f3a"
             ],
             [
              0.8888888888888888,
              "#fdca26"
             ],
             [
              1,
              "#f0f921"
             ]
            ],
            "type": "heatmap"
           }
          ],
          "heatmapgl": [
           {
            "colorbar": {
             "outlinewidth": 0,
             "ticks": ""
            },
            "colorscale": [
             [
              0,
              "#0d0887"
             ],
             [
              0.1111111111111111,
              "#46039f"
             ],
             [
              0.2222222222222222,
              "#7201a8"
             ],
             [
              0.3333333333333333,
              "#9c179e"
             ],
             [
              0.4444444444444444,
              "#bd3786"
             ],
             [
              0.5555555555555556,
              "#d8576b"
             ],
             [
              0.6666666666666666,
              "#ed7953"
             ],
             [
              0.7777777777777778,
              "#fb9f3a"
             ],
             [
              0.8888888888888888,
              "#fdca26"
             ],
             [
              1,
              "#f0f921"
             ]
            ],
            "type": "heatmapgl"
           }
          ],
          "histogram": [
           {
            "marker": {
             "pattern": {
              "fillmode": "overlay",
              "size": 10,
              "solidity": 0.2
             }
            },
            "type": "histogram"
           }
          ],
          "histogram2d": [
           {
            "colorbar": {
             "outlinewidth": 0,
             "ticks": ""
            },
            "colorscale": [
             [
              0,
              "#0d0887"
             ],
             [
              0.1111111111111111,
              "#46039f"
             ],
             [
              0.2222222222222222,
              "#7201a8"
             ],
             [
              0.3333333333333333,
              "#9c179e"
             ],
             [
              0.4444444444444444,
              "#bd3786"
             ],
             [
              0.5555555555555556,
              "#d8576b"
             ],
             [
              0.6666666666666666,
              "#ed7953"
             ],
             [
              0.7777777777777778,
              "#fb9f3a"
             ],
             [
              0.8888888888888888,
              "#fdca26"
             ],
             [
              1,
              "#f0f921"
             ]
            ],
            "type": "histogram2d"
           }
          ],
          "histogram2dcontour": [
           {
            "colorbar": {
             "outlinewidth": 0,
             "ticks": ""
            },
            "colorscale": [
             [
              0,
              "#0d0887"
             ],
             [
              0.1111111111111111,
              "#46039f"
             ],
             [
              0.2222222222222222,
              "#7201a8"
             ],
             [
              0.3333333333333333,
              "#9c179e"
             ],
             [
              0.4444444444444444,
              "#bd3786"
             ],
             [
              0.5555555555555556,
              "#d8576b"
             ],
             [
              0.6666666666666666,
              "#ed7953"
             ],
             [
              0.7777777777777778,
              "#fb9f3a"
             ],
             [
              0.8888888888888888,
              "#fdca26"
             ],
             [
              1,
              "#f0f921"
             ]
            ],
            "type": "histogram2dcontour"
           }
          ],
          "mesh3d": [
           {
            "colorbar": {
             "outlinewidth": 0,
             "ticks": ""
            },
            "type": "mesh3d"
           }
          ],
          "parcoords": [
           {
            "line": {
             "colorbar": {
              "outlinewidth": 0,
              "ticks": ""
             }
            },
            "type": "parcoords"
           }
          ],
          "pie": [
           {
            "automargin": true,
            "type": "pie"
           }
          ],
          "scatter": [
           {
            "fillpattern": {
             "fillmode": "overlay",
             "size": 10,
             "solidity": 0.2
            },
            "type": "scatter"
           }
          ],
          "scatter3d": [
           {
            "line": {
             "colorbar": {
              "outlinewidth": 0,
              "ticks": ""
             }
            },
            "marker": {
             "colorbar": {
              "outlinewidth": 0,
              "ticks": ""
             }
            },
            "type": "scatter3d"
           }
          ],
          "scattercarpet": [
           {
            "marker": {
             "colorbar": {
              "outlinewidth": 0,
              "ticks": ""
             }
            },
            "type": "scattercarpet"
           }
          ],
          "scattergeo": [
           {
            "marker": {
             "colorbar": {
              "outlinewidth": 0,
              "ticks": ""
             }
            },
            "type": "scattergeo"
           }
          ],
          "scattergl": [
           {
            "marker": {
             "colorbar": {
              "outlinewidth": 0,
              "ticks": ""
             }
            },
            "type": "scattergl"
           }
          ],
          "scattermapbox": [
           {
            "marker": {
             "colorbar": {
              "outlinewidth": 0,
              "ticks": ""
             }
            },
            "type": "scattermapbox"
           }
          ],
          "scatterpolar": [
           {
            "marker": {
             "colorbar": {
              "outlinewidth": 0,
              "ticks": ""
             }
            },
            "type": "scatterpolar"
           }
          ],
          "scatterpolargl": [
           {
            "marker": {
             "colorbar": {
              "outlinewidth": 0,
              "ticks": ""
             }
            },
            "type": "scatterpolargl"
           }
          ],
          "scatterternary": [
           {
            "marker": {
             "colorbar": {
              "outlinewidth": 0,
              "ticks": ""
             }
            },
            "type": "scatterternary"
           }
          ],
          "surface": [
           {
            "colorbar": {
             "outlinewidth": 0,
             "ticks": ""
            },
            "colorscale": [
             [
              0,
              "#0d0887"
             ],
             [
              0.1111111111111111,
              "#46039f"
             ],
             [
              0.2222222222222222,
              "#7201a8"
             ],
             [
              0.3333333333333333,
              "#9c179e"
             ],
             [
              0.4444444444444444,
              "#bd3786"
             ],
             [
              0.5555555555555556,
              "#d8576b"
             ],
             [
              0.6666666666666666,
              "#ed7953"
             ],
             [
              0.7777777777777778,
              "#fb9f3a"
             ],
             [
              0.8888888888888888,
              "#fdca26"
             ],
             [
              1,
              "#f0f921"
             ]
            ],
            "type": "surface"
           }
          ],
          "table": [
           {
            "cells": {
             "fill": {
              "color": "#EBF0F8"
             },
             "line": {
              "color": "white"
             }
            },
            "header": {
             "fill": {
              "color": "#C8D4E3"
             },
             "line": {
              "color": "white"
             }
            },
            "type": "table"
           }
          ]
         },
         "layout": {
          "annotationdefaults": {
           "arrowcolor": "#2a3f5f",
           "arrowhead": 0,
           "arrowwidth": 1
          },
          "autotypenumbers": "strict",
          "coloraxis": {
           "colorbar": {
            "outlinewidth": 0,
            "ticks": ""
           }
          },
          "colorscale": {
           "diverging": [
            [
             0,
             "#8e0152"
            ],
            [
             0.1,
             "#c51b7d"
            ],
            [
             0.2,
             "#de77ae"
            ],
            [
             0.3,
             "#f1b6da"
            ],
            [
             0.4,
             "#fde0ef"
            ],
            [
             0.5,
             "#f7f7f7"
            ],
            [
             0.6,
             "#e6f5d0"
            ],
            [
             0.7,
             "#b8e186"
            ],
            [
             0.8,
             "#7fbc41"
            ],
            [
             0.9,
             "#4d9221"
            ],
            [
             1,
             "#276419"
            ]
           ],
           "sequential": [
            [
             0,
             "#0d0887"
            ],
            [
             0.1111111111111111,
             "#46039f"
            ],
            [
             0.2222222222222222,
             "#7201a8"
            ],
            [
             0.3333333333333333,
             "#9c179e"
            ],
            [
             0.4444444444444444,
             "#bd3786"
            ],
            [
             0.5555555555555556,
             "#d8576b"
            ],
            [
             0.6666666666666666,
             "#ed7953"
            ],
            [
             0.7777777777777778,
             "#fb9f3a"
            ],
            [
             0.8888888888888888,
             "#fdca26"
            ],
            [
             1,
             "#f0f921"
            ]
           ],
           "sequentialminus": [
            [
             0,
             "#0d0887"
            ],
            [
             0.1111111111111111,
             "#46039f"
            ],
            [
             0.2222222222222222,
             "#7201a8"
            ],
            [
             0.3333333333333333,
             "#9c179e"
            ],
            [
             0.4444444444444444,
             "#bd3786"
            ],
            [
             0.5555555555555556,
             "#d8576b"
            ],
            [
             0.6666666666666666,
             "#ed7953"
            ],
            [
             0.7777777777777778,
             "#fb9f3a"
            ],
            [
             0.8888888888888888,
             "#fdca26"
            ],
            [
             1,
             "#f0f921"
            ]
           ]
          },
          "colorway": [
           "#636efa",
           "#EF553B",
           "#00cc96",
           "#ab63fa",
           "#FFA15A",
           "#19d3f3",
           "#FF6692",
           "#B6E880",
           "#FF97FF",
           "#FECB52"
          ],
          "font": {
           "color": "#2a3f5f"
          },
          "geo": {
           "bgcolor": "white",
           "lakecolor": "white",
           "landcolor": "#E5ECF6",
           "showlakes": true,
           "showland": true,
           "subunitcolor": "white"
          },
          "hoverlabel": {
           "align": "left"
          },
          "hovermode": "closest",
          "mapbox": {
           "style": "light"
          },
          "paper_bgcolor": "white",
          "plot_bgcolor": "#E5ECF6",
          "polar": {
           "angularaxis": {
            "gridcolor": "white",
            "linecolor": "white",
            "ticks": ""
           },
           "bgcolor": "#E5ECF6",
           "radialaxis": {
            "gridcolor": "white",
            "linecolor": "white",
            "ticks": ""
           }
          },
          "scene": {
           "xaxis": {
            "backgroundcolor": "#E5ECF6",
            "gridcolor": "white",
            "gridwidth": 2,
            "linecolor": "white",
            "showbackground": true,
            "ticks": "",
            "zerolinecolor": "white"
           },
           "yaxis": {
            "backgroundcolor": "#E5ECF6",
            "gridcolor": "white",
            "gridwidth": 2,
            "linecolor": "white",
            "showbackground": true,
            "ticks": "",
            "zerolinecolor": "white"
           },
           "zaxis": {
            "backgroundcolor": "#E5ECF6",
            "gridcolor": "white",
            "gridwidth": 2,
            "linecolor": "white",
            "showbackground": true,
            "ticks": "",
            "zerolinecolor": "white"
           }
          },
          "shapedefaults": {
           "line": {
            "color": "#2a3f5f"
           }
          },
          "ternary": {
           "aaxis": {
            "gridcolor": "white",
            "linecolor": "white",
            "ticks": ""
           },
           "baxis": {
            "gridcolor": "white",
            "linecolor": "white",
            "ticks": ""
           },
           "bgcolor": "#E5ECF6",
           "caxis": {
            "gridcolor": "white",
            "linecolor": "white",
            "ticks": ""
           }
          },
          "title": {
           "x": 0.05
          },
          "xaxis": {
           "automargin": true,
           "gridcolor": "white",
           "linecolor": "white",
           "ticks": "",
           "title": {
            "standoff": 15
           },
           "zerolinecolor": "white",
           "zerolinewidth": 2
          },
          "yaxis": {
           "automargin": true,
           "gridcolor": "white",
           "linecolor": "white",
           "ticks": "",
           "title": {
            "standoff": 15
           },
           "zerolinecolor": "white",
           "zerolinewidth": 2
          }
         }
        },
        "xaxis": {
         "anchor": "y",
         "domain": [
          0,
          1
         ],
         "title": {
          "text": "CLASIFICACION"
         }
        },
        "yaxis": {
         "anchor": "x",
         "domain": [
          0,
          1
         ],
         "title": {
          "text": "DEPARTAMENTO"
         }
        }
       }
      }
     },
     "metadata": {},
     "output_type": "display_data"
    }
   ],
   "source": [
    "fig = px.density_heatmap(df, x=\"CLASIFICACION\", y=\"DEPARTAMENTO\", text_auto=True)\n",
    "fig.show()"
   ]
  },
  {
   "cell_type": "markdown",
   "metadata": {},
   "source": [
    "Para el caso del departamneto de Magdalena, no se tienen clientes con inmuebles de tipo comercial, solo de tipo residencial e industrial. Para ambos departamentos, la mayoria de clientes son inmuebles residenciales."
   ]
  },
  {
   "cell_type": "markdown",
   "metadata": {},
   "source": [
    "#### ANÁLISIS DE CORRELACIÓN"
   ]
  },
  {
   "cell_type": "markdown",
   "metadata": {},
   "source": [
    "Ahora se analiza si existen una correlación entre las variables que se estan estudiando.\n",
    "\n",
    "Para esto se plantean las siguiente hipotesis:\n",
    "\n",
    "$H_{0}:$ No existe una relación entre las variables\n",
    "\n",
    "$H_{1}:$ Si existe una realción entre la variables\n",
    "\n",
    "(Las hipotesis asociadas a cada puebra que se va a utilizar son diferentes a la planteadas, pero se adaptan para facilitar la compresión de los resultados )"
   ]
  },
  {
   "cell_type": "markdown",
   "metadata": {},
   "source": [
    "* CONSUMO VS DEPARTAMENTO"
   ]
  },
  {
   "cell_type": "code",
   "execution_count": 51,
   "metadata": {},
   "outputs": [
    {
     "name": "stdout",
     "output_type": "stream",
     "text": [
      "Estadísticas de ANOVA:\n",
      "F-value: 16.064344369906067\n",
      "p-value: 7.674551801537477e-05\n"
     ]
    }
   ],
   "source": [
    "from scipy.stats import f_oneway\n",
    "\n",
    "result = f_oneway(*[group['CONSUMO'] for name, group in df.groupby('DEPARTAMENTO')])\n",
    "\n",
    "print(\"Estadísticas de ANOVA:\")\n",
    "print(f\"F-value: {result.statistic}\")\n",
    "print(f\"p-value: {result.pvalue}\")"
   ]
  },
  {
   "cell_type": "markdown",
   "metadata": {},
   "source": [
    "Al realizar el análisis de varianza para estas dos variable, y considerando un nivel de significancia del 0.05, como el p.valor es menor al nivel de significancia, se puede afrimar que existen diferencias significativas estadisticamente entre el consumo por Departamento, por lo que si existe una relación entre el Departamento y el Consumo."
   ]
  },
  {
   "cell_type": "markdown",
   "metadata": {},
   "source": [
    "* CONSUMO VS CLASIFICACION"
   ]
  },
  {
   "cell_type": "code",
   "execution_count": 52,
   "metadata": {},
   "outputs": [
    {
     "name": "stdout",
     "output_type": "stream",
     "text": [
      "Estadísticas de ANOVA:\n",
      "F-value: 188.14256213078923\n",
      "p-value: 3.601376459934906e-54\n"
     ]
    }
   ],
   "source": [
    "result = f_oneway(*[group['CONSUMO'] for name, group in df.groupby('CLASIFICACION')])\n",
    "\n",
    "print(\"Estadísticas de ANOVA:\")\n",
    "print(f\"F-value: {result.statistic}\")\n",
    "print(f\"p-value: {result.pvalue}\")"
   ]
  },
  {
   "cell_type": "markdown",
   "metadata": {},
   "source": [
    "Al realizar el análisis de varianza para estas dos variable, y considerando un nivel de significancia del 0.05, como el p.valor es menor al nivel de significancia, se puede afrimar que existen diferencias significativas estadisticamente entre el consumo por tipo de inmueble, por lo que si existe una relación entre el Departamento y el tipo de inmueble. Esto ya se lograba apreciar en los graficos realizados anteriormente, y solo se reliza la prueba como un metodo confirmatorio."
   ]
  },
  {
   "cell_type": "code",
   "execution_count": 53,
   "metadata": {},
   "outputs": [
    {
     "name": "stdout",
     "output_type": "stream",
     "text": [
      "p-value: 1.9548330709779576e-08\n"
     ]
    }
   ],
   "source": [
    "from scipy.stats import chi2_contingency\n",
    "tabla_contingencia = pd.crosstab(df[\"DEPARTAMENTO\"], df[\"CLASIFICACION\"])\n",
    "correlacion = chi2_contingency(tabla_contingencia)\n",
    "print(f\"p-value: {correlacion.pvalue}\")"
   ]
  },
  {
   "cell_type": "markdown",
   "metadata": {},
   "source": [
    "En este caso, considerando el mismo nivel de significancia, se considera que si existe una relación entre Departamento y el tipo de inmueble."
   ]
  },
  {
   "cell_type": "markdown",
   "metadata": {},
   "source": [
    "#### PREPARACIÓN DE LOS DATOS"
   ]
  },
  {
   "cell_type": "markdown",
   "metadata": {},
   "source": [
    "Se va a imputar el valor de Consumo para la persona que tiene un registro negativo. Para las personas que han tenido un consumo de 0 durante todo el año, no se quitaran ni eliminarán, ya que no no afectan el valor total del consumo mensual, y se tendria que indigar mas en la causa de ese consumo igual a 0 antes de decidir realizar una imputación de datos. "
   ]
  },
  {
   "cell_type": "code",
   "execution_count": 54,
   "metadata": {},
   "outputs": [],
   "source": [
    "df.loc[277,\"CONSUMO\"] = None"
   ]
  },
  {
   "cell_type": "code",
   "execution_count": 55,
   "metadata": {},
   "outputs": [
    {
     "data": {
      "text/plain": [
       "nan"
      ]
     },
     "execution_count": 55,
     "metadata": {},
     "output_type": "execute_result"
    }
   ],
   "source": [
    "df.loc[277,\"CONSUMO\"]"
   ]
  },
  {
   "cell_type": "markdown",
   "metadata": {},
   "source": [
    "Para este caso se utilizará la mediana del consumo para la imputación del dato atipico."
   ]
  },
  {
   "cell_type": "code",
   "execution_count": 56,
   "metadata": {},
   "outputs": [],
   "source": [
    "imp_consumo =  SimpleImputer(strategy='median')\n",
    "df[\"CONSUMO\"] = imp_consumo.fit_transform(df[\"CONSUMO\"].values.reshape(-1,1))"
   ]
  },
  {
   "cell_type": "code",
   "execution_count": 57,
   "metadata": {},
   "outputs": [
    {
     "data": {
      "text/plain": [
       "20.0"
      ]
     },
     "execution_count": 57,
     "metadata": {},
     "output_type": "execute_result"
    }
   ],
   "source": [
    "df.loc[277,\"CONSUMO\"]"
   ]
  },
  {
   "cell_type": "markdown",
   "metadata": {},
   "source": [
    "Ahora se obtiene el total de consumo mensual:"
   ]
  },
  {
   "cell_type": "code",
   "execution_count": 58,
   "metadata": {},
   "outputs": [
    {
     "data": {
      "text/html": [
       "<div>\n",
       "<style scoped>\n",
       "    .dataframe tbody tr th:only-of-type {\n",
       "        vertical-align: middle;\n",
       "    }\n",
       "\n",
       "    .dataframe tbody tr th {\n",
       "        vertical-align: top;\n",
       "    }\n",
       "\n",
       "    .dataframe thead th {\n",
       "        text-align: right;\n",
       "    }\n",
       "</style>\n",
       "<table border=\"1\" class=\"dataframe\">\n",
       "  <thead>\n",
       "    <tr style=\"text-align: right;\">\n",
       "      <th></th>\n",
       "      <th>PERIODO</th>\n",
       "      <th>CONSUMO</th>\n",
       "    </tr>\n",
       "  </thead>\n",
       "  <tbody>\n",
       "    <tr>\n",
       "      <th>0</th>\n",
       "      <td>2021-01-01</td>\n",
       "      <td>46316.0</td>\n",
       "    </tr>\n",
       "    <tr>\n",
       "      <th>1</th>\n",
       "      <td>2021-02-01</td>\n",
       "      <td>39529.0</td>\n",
       "    </tr>\n",
       "    <tr>\n",
       "      <th>2</th>\n",
       "      <td>2021-03-01</td>\n",
       "      <td>50635.0</td>\n",
       "    </tr>\n",
       "    <tr>\n",
       "      <th>3</th>\n",
       "      <td>2021-04-01</td>\n",
       "      <td>41801.0</td>\n",
       "    </tr>\n",
       "    <tr>\n",
       "      <th>4</th>\n",
       "      <td>2021-05-01</td>\n",
       "      <td>33938.0</td>\n",
       "    </tr>\n",
       "  </tbody>\n",
       "</table>\n",
       "</div>"
      ],
      "text/plain": [
       "     PERIODO  CONSUMO\n",
       "0 2021-01-01  46316.0\n",
       "1 2021-02-01  39529.0\n",
       "2 2021-03-01  50635.0\n",
       "3 2021-04-01  41801.0\n",
       "4 2021-05-01  33938.0"
      ]
     },
     "execution_count": 58,
     "metadata": {},
     "output_type": "execute_result"
    }
   ],
   "source": [
    "df_new = df.groupby([\"PERIODO\"]).sum().reset_index().loc[:,[\"PERIODO\", \"CONSUMO\"]]\n",
    "df_new.head()"
   ]
  },
  {
   "cell_type": "code",
   "execution_count": 59,
   "metadata": {},
   "outputs": [],
   "source": [
    "df_new['YEAR'] = df_new['PERIODO'].dt.year\n",
    "df_new['MES'] = df_new['PERIODO'].dt.month"
   ]
  },
  {
   "cell_type": "code",
   "execution_count": 60,
   "metadata": {},
   "outputs": [
    {
     "data": {
      "text/html": [
       "<div>\n",
       "<style scoped>\n",
       "    .dataframe tbody tr th:only-of-type {\n",
       "        vertical-align: middle;\n",
       "    }\n",
       "\n",
       "    .dataframe tbody tr th {\n",
       "        vertical-align: top;\n",
       "    }\n",
       "\n",
       "    .dataframe thead th {\n",
       "        text-align: right;\n",
       "    }\n",
       "</style>\n",
       "<table border=\"1\" class=\"dataframe\">\n",
       "  <thead>\n",
       "    <tr style=\"text-align: right;\">\n",
       "      <th></th>\n",
       "      <th>PERIODO</th>\n",
       "      <th>CONSUMO</th>\n",
       "      <th>YEAR</th>\n",
       "      <th>MES</th>\n",
       "    </tr>\n",
       "  </thead>\n",
       "  <tbody>\n",
       "    <tr>\n",
       "      <th>0</th>\n",
       "      <td>2021-01-01</td>\n",
       "      <td>46316.0</td>\n",
       "      <td>2021</td>\n",
       "      <td>1</td>\n",
       "    </tr>\n",
       "    <tr>\n",
       "      <th>1</th>\n",
       "      <td>2021-02-01</td>\n",
       "      <td>39529.0</td>\n",
       "      <td>2021</td>\n",
       "      <td>2</td>\n",
       "    </tr>\n",
       "    <tr>\n",
       "      <th>2</th>\n",
       "      <td>2021-03-01</td>\n",
       "      <td>50635.0</td>\n",
       "      <td>2021</td>\n",
       "      <td>3</td>\n",
       "    </tr>\n",
       "    <tr>\n",
       "      <th>3</th>\n",
       "      <td>2021-04-01</td>\n",
       "      <td>41801.0</td>\n",
       "      <td>2021</td>\n",
       "      <td>4</td>\n",
       "    </tr>\n",
       "    <tr>\n",
       "      <th>4</th>\n",
       "      <td>2021-05-01</td>\n",
       "      <td>33938.0</td>\n",
       "      <td>2021</td>\n",
       "      <td>5</td>\n",
       "    </tr>\n",
       "  </tbody>\n",
       "</table>\n",
       "</div>"
      ],
      "text/plain": [
       "     PERIODO  CONSUMO  YEAR  MES\n",
       "0 2021-01-01  46316.0  2021    1\n",
       "1 2021-02-01  39529.0  2021    2\n",
       "2 2021-03-01  50635.0  2021    3\n",
       "3 2021-04-01  41801.0  2021    4\n",
       "4 2021-05-01  33938.0  2021    5"
      ]
     },
     "execution_count": 60,
     "metadata": {},
     "output_type": "execute_result"
    }
   ],
   "source": [
    "df_new.head()"
   ]
  },
  {
   "cell_type": "code",
   "execution_count": 61,
   "metadata": {},
   "outputs": [
    {
     "data": {
      "text/html": [
       "<div>\n",
       "<style scoped>\n",
       "    .dataframe tbody tr th:only-of-type {\n",
       "        vertical-align: middle;\n",
       "    }\n",
       "\n",
       "    .dataframe tbody tr th {\n",
       "        vertical-align: top;\n",
       "    }\n",
       "\n",
       "    .dataframe thead th {\n",
       "        text-align: right;\n",
       "    }\n",
       "</style>\n",
       "<table border=\"1\" class=\"dataframe\">\n",
       "  <thead>\n",
       "    <tr style=\"text-align: right;\">\n",
       "      <th></th>\n",
       "      <th>PERIODO</th>\n",
       "      <th>CONSUMO</th>\n",
       "      <th>MES_2</th>\n",
       "      <th>MES_3</th>\n",
       "      <th>MES_4</th>\n",
       "      <th>MES_5</th>\n",
       "      <th>MES_6</th>\n",
       "      <th>MES_7</th>\n",
       "      <th>MES_8</th>\n",
       "      <th>MES_9</th>\n",
       "      <th>MES_10</th>\n",
       "      <th>MES_11</th>\n",
       "      <th>MES_12</th>\n",
       "    </tr>\n",
       "  </thead>\n",
       "  <tbody>\n",
       "    <tr>\n",
       "      <th>0</th>\n",
       "      <td>2021-01-01</td>\n",
       "      <td>46316.0</td>\n",
       "      <td>False</td>\n",
       "      <td>False</td>\n",
       "      <td>False</td>\n",
       "      <td>False</td>\n",
       "      <td>False</td>\n",
       "      <td>False</td>\n",
       "      <td>False</td>\n",
       "      <td>False</td>\n",
       "      <td>False</td>\n",
       "      <td>False</td>\n",
       "      <td>False</td>\n",
       "    </tr>\n",
       "    <tr>\n",
       "      <th>1</th>\n",
       "      <td>2021-02-01</td>\n",
       "      <td>39529.0</td>\n",
       "      <td>True</td>\n",
       "      <td>False</td>\n",
       "      <td>False</td>\n",
       "      <td>False</td>\n",
       "      <td>False</td>\n",
       "      <td>False</td>\n",
       "      <td>False</td>\n",
       "      <td>False</td>\n",
       "      <td>False</td>\n",
       "      <td>False</td>\n",
       "      <td>False</td>\n",
       "    </tr>\n",
       "    <tr>\n",
       "      <th>2</th>\n",
       "      <td>2021-03-01</td>\n",
       "      <td>50635.0</td>\n",
       "      <td>False</td>\n",
       "      <td>True</td>\n",
       "      <td>False</td>\n",
       "      <td>False</td>\n",
       "      <td>False</td>\n",
       "      <td>False</td>\n",
       "      <td>False</td>\n",
       "      <td>False</td>\n",
       "      <td>False</td>\n",
       "      <td>False</td>\n",
       "      <td>False</td>\n",
       "    </tr>\n",
       "    <tr>\n",
       "      <th>3</th>\n",
       "      <td>2021-04-01</td>\n",
       "      <td>41801.0</td>\n",
       "      <td>False</td>\n",
       "      <td>False</td>\n",
       "      <td>True</td>\n",
       "      <td>False</td>\n",
       "      <td>False</td>\n",
       "      <td>False</td>\n",
       "      <td>False</td>\n",
       "      <td>False</td>\n",
       "      <td>False</td>\n",
       "      <td>False</td>\n",
       "      <td>False</td>\n",
       "    </tr>\n",
       "    <tr>\n",
       "      <th>4</th>\n",
       "      <td>2021-05-01</td>\n",
       "      <td>33938.0</td>\n",
       "      <td>False</td>\n",
       "      <td>False</td>\n",
       "      <td>False</td>\n",
       "      <td>True</td>\n",
       "      <td>False</td>\n",
       "      <td>False</td>\n",
       "      <td>False</td>\n",
       "      <td>False</td>\n",
       "      <td>False</td>\n",
       "      <td>False</td>\n",
       "      <td>False</td>\n",
       "    </tr>\n",
       "    <tr>\n",
       "      <th>5</th>\n",
       "      <td>2021-06-01</td>\n",
       "      <td>19342.0</td>\n",
       "      <td>False</td>\n",
       "      <td>False</td>\n",
       "      <td>False</td>\n",
       "      <td>False</td>\n",
       "      <td>True</td>\n",
       "      <td>False</td>\n",
       "      <td>False</td>\n",
       "      <td>False</td>\n",
       "      <td>False</td>\n",
       "      <td>False</td>\n",
       "      <td>False</td>\n",
       "    </tr>\n",
       "    <tr>\n",
       "      <th>6</th>\n",
       "      <td>2021-07-01</td>\n",
       "      <td>24738.0</td>\n",
       "      <td>False</td>\n",
       "      <td>False</td>\n",
       "      <td>False</td>\n",
       "      <td>False</td>\n",
       "      <td>False</td>\n",
       "      <td>True</td>\n",
       "      <td>False</td>\n",
       "      <td>False</td>\n",
       "      <td>False</td>\n",
       "      <td>False</td>\n",
       "      <td>False</td>\n",
       "    </tr>\n",
       "    <tr>\n",
       "      <th>7</th>\n",
       "      <td>2021-08-01</td>\n",
       "      <td>23387.0</td>\n",
       "      <td>False</td>\n",
       "      <td>False</td>\n",
       "      <td>False</td>\n",
       "      <td>False</td>\n",
       "      <td>False</td>\n",
       "      <td>False</td>\n",
       "      <td>True</td>\n",
       "      <td>False</td>\n",
       "      <td>False</td>\n",
       "      <td>False</td>\n",
       "      <td>False</td>\n",
       "    </tr>\n",
       "    <tr>\n",
       "      <th>8</th>\n",
       "      <td>2021-09-01</td>\n",
       "      <td>19451.0</td>\n",
       "      <td>False</td>\n",
       "      <td>False</td>\n",
       "      <td>False</td>\n",
       "      <td>False</td>\n",
       "      <td>False</td>\n",
       "      <td>False</td>\n",
       "      <td>False</td>\n",
       "      <td>True</td>\n",
       "      <td>False</td>\n",
       "      <td>False</td>\n",
       "      <td>False</td>\n",
       "    </tr>\n",
       "    <tr>\n",
       "      <th>9</th>\n",
       "      <td>2021-10-01</td>\n",
       "      <td>22865.0</td>\n",
       "      <td>False</td>\n",
       "      <td>False</td>\n",
       "      <td>False</td>\n",
       "      <td>False</td>\n",
       "      <td>False</td>\n",
       "      <td>False</td>\n",
       "      <td>False</td>\n",
       "      <td>False</td>\n",
       "      <td>True</td>\n",
       "      <td>False</td>\n",
       "      <td>False</td>\n",
       "    </tr>\n",
       "    <tr>\n",
       "      <th>10</th>\n",
       "      <td>2021-11-01</td>\n",
       "      <td>26182.0</td>\n",
       "      <td>False</td>\n",
       "      <td>False</td>\n",
       "      <td>False</td>\n",
       "      <td>False</td>\n",
       "      <td>False</td>\n",
       "      <td>False</td>\n",
       "      <td>False</td>\n",
       "      <td>False</td>\n",
       "      <td>False</td>\n",
       "      <td>True</td>\n",
       "      <td>False</td>\n",
       "    </tr>\n",
       "    <tr>\n",
       "      <th>11</th>\n",
       "      <td>2021-12-01</td>\n",
       "      <td>34726.0</td>\n",
       "      <td>False</td>\n",
       "      <td>False</td>\n",
       "      <td>False</td>\n",
       "      <td>False</td>\n",
       "      <td>False</td>\n",
       "      <td>False</td>\n",
       "      <td>False</td>\n",
       "      <td>False</td>\n",
       "      <td>False</td>\n",
       "      <td>False</td>\n",
       "      <td>True</td>\n",
       "    </tr>\n",
       "  </tbody>\n",
       "</table>\n",
       "</div>"
      ],
      "text/plain": [
       "      PERIODO  CONSUMO  MES_2  MES_3  MES_4  MES_5  MES_6  MES_7  MES_8  \\\n",
       "0  2021-01-01  46316.0  False  False  False  False  False  False  False   \n",
       "1  2021-02-01  39529.0   True  False  False  False  False  False  False   \n",
       "2  2021-03-01  50635.0  False   True  False  False  False  False  False   \n",
       "3  2021-04-01  41801.0  False  False   True  False  False  False  False   \n",
       "4  2021-05-01  33938.0  False  False  False   True  False  False  False   \n",
       "5  2021-06-01  19342.0  False  False  False  False   True  False  False   \n",
       "6  2021-07-01  24738.0  False  False  False  False  False   True  False   \n",
       "7  2021-08-01  23387.0  False  False  False  False  False  False   True   \n",
       "8  2021-09-01  19451.0  False  False  False  False  False  False  False   \n",
       "9  2021-10-01  22865.0  False  False  False  False  False  False  False   \n",
       "10 2021-11-01  26182.0  False  False  False  False  False  False  False   \n",
       "11 2021-12-01  34726.0  False  False  False  False  False  False  False   \n",
       "\n",
       "    MES_9  MES_10  MES_11  MES_12  \n",
       "0   False   False   False   False  \n",
       "1   False   False   False   False  \n",
       "2   False   False   False   False  \n",
       "3   False   False   False   False  \n",
       "4   False   False   False   False  \n",
       "5   False   False   False   False  \n",
       "6   False   False   False   False  \n",
       "7   False   False   False   False  \n",
       "8    True   False   False   False  \n",
       "9   False    True   False   False  \n",
       "10  False   False    True   False  \n",
       "11  False   False   False    True  "
      ]
     },
     "execution_count": 61,
     "metadata": {},
     "output_type": "execute_result"
    }
   ],
   "source": [
    "df_encoded = pd.get_dummies(df_new, columns=['MES', 'YEAR'], drop_first=True)\n",
    "df_encoded"
   ]
  },
  {
   "cell_type": "markdown",
   "metadata": {},
   "source": [
    "### 4. PLANTEAMIENTO DE MODELO"
   ]
  },
  {
   "cell_type": "markdown",
   "metadata": {},
   "source": [
    "*Plantee modelo que permita predecir los consumos del primer mes del año 2022, tomando como base el año de historia que se tiene en el archivo adjunto. Identifique cuales y cuantos modelos implementaría y explique su razonamiento.*"
   ]
  },
  {
   "cell_type": "markdown",
   "metadata": {},
   "source": [
    "Considerando que la información historica con la que se cuenta es reducida, no seria necesario implementar modelos complejos, como las redes neuronales, ya que no se tendria suficiente información para el entrenamiento y es un problema que se podria resolver con metodos mas simples y clasicos.\n",
    "\n",
    "Para realizar la predicción de consumo del mes de enero de 2022, se podrian considerar dos opciones, aplicar modelos de regresión simple, considerando como variable dependiente el Consumo, y como variable independiente el tiempo, en este caso el mes. Se podria aplicar un modelo de regresión de Ridge o uno de Lasso. En este escenario los resultados de predicción que obtengan para otros años, será igual mes a mes, es decir, la predicción de enero de 2022 será igual a la predicción de enero de 2023, pues solo se esta considerando el efecto del mes sobre la variable Consumo.\n",
    "\n",
    "Tambien se podrian implementar modelos de series de tiempo, que traten de explicar la variabilidad del consumo de gas mes a mes, y hacer la estimación para el proximo año. Se podrian aplicar tecnicas de series de tiempo como ARIMA, Suavizamiento exponencial simple, ya que no se detecta una estacionalidad en los datos del consumo a nivel global. Si se considerara hacer la predicción de consumo para cada tipo de inmueble (Comercial, Industrial y residencial), se podrian aplicar tecnicas de series de tiempo que incluyan el factor estacional, como SARIMA o Suavizamiento Exponencial doble o triple, principalmente para el consumo residencial, ya que se ve un patrón estacional para este tipo de clientes. "
   ]
  },
  {
   "cell_type": "markdown",
   "metadata": {},
   "source": [
    "### 5. MODELADO"
   ]
  },
  {
   "cell_type": "markdown",
   "metadata": {},
   "source": [
    "*En la medida de lo posible, implemente los modelos planteados en el punto 4, para esto debe usar Python.*"
   ]
  },
  {
   "cell_type": "markdown",
   "metadata": {},
   "source": [
    "* Regresión Ridge"
   ]
  },
  {
   "cell_type": "markdown",
   "metadata": {},
   "source": [
    "Se hace la separación de los datos, apartando los resgistrso del mes de novimebre y dicembre para evaluar el modelo."
   ]
  },
  {
   "cell_type": "code",
   "execution_count": 62,
   "metadata": {},
   "outputs": [],
   "source": [
    "from sklearn.model_selection import train_test_split\n",
    "from sklearn.linear_model import Ridge\n",
    "from sklearn.metrics import mean_squared_error\n",
    "from sklearn.preprocessing import StandardScaler\n",
    "from sklearn.pipeline import make_pipeline\n",
    "from sklearn.model_selection import GridSearchCV\n",
    "from sklearn.metrics import mean_squared_error\n",
    "\n",
    "X= df_encoded.drop([\"CONSUMO\", \"PERIODO\"],axis=1)\n",
    "y = df_encoded[\"CONSUMO\"]\n",
    "X_train, X_test, y_train, y_test = train_test_split(X, y, test_size=2,shuffle = False, stratify= None)"
   ]
  },
  {
   "cell_type": "markdown",
   "metadata": {},
   "source": [
    "Se crea un pipeline para realizar hiperparametrización de alpha, y encontrar el valor que arroja el mejor modelo."
   ]
  },
  {
   "cell_type": "code",
   "execution_count": 63,
   "metadata": {},
   "outputs": [
    {
     "name": "stdout",
     "output_type": "stream",
     "text": [
      "Best estimator:\n",
      "Pipeline(steps=[('standardscaler', StandardScaler()),\n",
      "                ('ridge', Ridge(alpha=100))])\n"
     ]
    }
   ],
   "source": [
    "pipe = make_pipeline(StandardScaler(), Ridge())\n",
    "param_grid = {'ridge__alpha': [0.001, 0.01, 0.1, 0.25, 0.5, 0.75, 1, 2.5, 5, 7.5, 10, 100]}\n",
    "grid = GridSearchCV(pipe, param_grid, cv=5)\n",
    "grid.fit(X_train, y_train)\n",
    "print(\"Best estimator:\\n{}\".format(grid.best_estimator_))"
   ]
  },
  {
   "cell_type": "markdown",
   "metadata": {},
   "source": [
    "Se obtiene que alpha = 100, es el parametro que permite obtener el mejor modelo."
   ]
  },
  {
   "cell_type": "code",
   "execution_count": 64,
   "metadata": {},
   "outputs": [
    {
     "name": "stdout",
     "output_type": "stream",
     "text": [
      "{'RMSE': 4620.459508430287, 'R2': -0.16978985127021762}\n"
     ]
    }
   ],
   "source": [
    "ridge_metrics = {'RMSE': 1000,\n",
    "               'R2': 0}\n",
    "\n",
    "reg = Ridge(alpha=100)\n",
    "reg.fit(X_train, y_train)\n",
    "y_pred = reg.predict(X_test)\n",
    "score = np.sqrt(mean_squared_error(y_test, y_pred))\n",
    "r2 = reg.score(X_test, y_test)\n",
    "ridge_metrics['RMSE'] = score\n",
    "ridge_metrics['R2'] = r2\n",
    "\n",
    "# Resultados\n",
    "print(ridge_metrics)"
   ]
  },
  {
   "cell_type": "code",
   "execution_count": 65,
   "metadata": {},
   "outputs": [
    {
     "data": {
      "text/plain": [
       "array([32214.3016983, 32214.3016983])"
      ]
     },
     "execution_count": 65,
     "metadata": {},
     "output_type": "execute_result"
    }
   ],
   "source": [
    "y_pred"
   ]
  },
  {
   "cell_type": "markdown",
   "metadata": {},
   "source": [
    "Los resultados obtenidos con este modelo no fueron muy buenos, debidos a la poca cantidad de datos. Observando el valor del R2, que es negativo, se puede ver que este modelo no explica nada de la variabilidad del consumo, y el modelo obtenido no es mejor que implementar una linea constante para hacer las estimaciones. Este modelo no es adecuado para realizar la predicción del mes de enero del 2022."
   ]
  },
  {
   "cell_type": "markdown",
   "metadata": {},
   "source": [
    "* ARIMA"
   ]
  },
  {
   "cell_type": "code",
   "execution_count": 66,
   "metadata": {},
   "outputs": [],
   "source": [
    "import numpy as np, pandas as pd\n",
    "from statsmodels.graphics.tsaplots import plot_acf\n",
    "import matplotlib.pyplot as plt"
   ]
  },
  {
   "cell_type": "markdown",
   "metadata": {},
   "source": [
    "Se realiza un análisis de autocorrelación de la serie de tiempo del Consumo, obsevando el grafico ACF para la serie de tiempo orginal, se puede ver por el comportamiento de los rezagos, que la serie no es estacionaria, y efectivamente existe una tendencia. Al realizar 2 diferenciaciones de la serie de tiempo, se obtiene una serie de tiempo estacionaria."
   ]
  },
  {
   "cell_type": "code",
   "execution_count": 67,
   "metadata": {},
   "outputs": [
    {
     "data": {
      "image/png": "[encoded data removed]",
      "text/plain": [
       "<Figure size 1500x1500 with 6 Axes>"
      ]
     },
     "metadata": {},
     "output_type": "display_data"
    }
   ],
   "source": [
    "plt.rcParams.update({'figure.figsize': (15,15)})\n",
    "\n",
    "fig, axes = plt.subplots(3, 2, sharex=True)\n",
    "axes[0, 0].plot(df_new.CONSUMO); axes[0, 0].set_title('Original Series')\n",
    "plot_acf(df_new.CONSUMO, ax=axes[0, 1], lags =11);\n",
    "\n",
    "axes[1, 0].plot(df_new.CONSUMO.diff()); axes[1, 0].set_title('1st Order Differencing')\n",
    "plot_acf(df_new.CONSUMO.diff().dropna(), ax=axes[1, 1], lags =10);\n",
    "\n",
    "axes[2, 0].plot(df_new.CONSUMO.diff().diff()); axes[2, 0].set_title('2nd Order Differencing')\n",
    "plot_acf(df_new.CONSUMO.diff().diff().dropna(), ax=axes[2, 1], lags = 9);"
   ]
  },
  {
   "cell_type": "markdown",
   "metadata": {},
   "source": [
    "Se hace una división de los datos, para entrenar la serie de tiempo y luego para evaluarla, dejando los regsitros de noviembre y diciembre para el test."
   ]
  },
  {
   "cell_type": "code",
   "execution_count": 68,
   "metadata": {},
   "outputs": [
    {
     "name": "stdout",
     "output_type": "stream",
     "text": [
      "train: (10,)\n",
      "test_1w: (2,)\n"
     ]
    }
   ],
   "source": [
    "n = len(df_new.CONSUMO)\n",
    "n_test = 2 \n",
    "train_size = n - n_test\n",
    "\n",
    "train = df_new.CONSUMO.iloc[:train_size]\n",
    "dates_train = df_new.PERIODO.iloc[:train_size]\n",
    "test_1w = df_new.CONSUMO.iloc[train_size:train_size + n_test] \n",
    "dates_1w = df_new.CONSUMO.iloc[train_size:train_size + n_test] \n",
    "print(\"train:\", train.shape)\n",
    "print(\"test_1w:\", test_1w.shape)"
   ]
  },
  {
   "cell_type": "code",
   "execution_count": 69,
   "metadata": {},
   "outputs": [],
   "source": [
    "from statsmodels.tsa.arima.model import ARIMA\n",
    "import warnings\n",
    "warnings.filterwarnings(\"ignore\")"
   ]
  },
  {
   "cell_type": "markdown",
   "metadata": {},
   "source": [
    "Con el siguiente codigo se busca obtener los parametros del modelo ARIMA, que permitan obtener la metrica AIC mas baja."
   ]
  },
  {
   "cell_type": "code",
   "execution_count": 70,
   "metadata": {},
   "outputs": [],
   "source": [
    "best_aic = np.inf\n",
    "best_bic = np.inf\n",
    "\n",
    "best_order = None\n",
    "best_mdl = None\n",
    "\n",
    "pq_rng = range(5)\n",
    "d_rng  = range(3)\n",
    "\n",
    "for i in pq_rng:\n",
    "    for d in d_rng:\n",
    "        for j in pq_rng:\n",
    "            try:\n",
    "                tmp_mdl = ARIMA(train, order=(i,d,j)).fit()\n",
    "                tmp_aic = tmp_mdl.aic\n",
    "                if tmp_aic < best_aic:\n",
    "                    best_aic = tmp_aic\n",
    "                    best_order = (i, d, j)\n",
    "                    best_mdl = tmp_mdl\n",
    "            except: continue"
   ]
  },
  {
   "cell_type": "code",
   "execution_count": 71,
   "metadata": {},
   "outputs": [
    {
     "name": "stdout",
     "output_type": "stream",
     "text": [
      "aic: 172.19429 | order: (1, 2, 0)\n"
     ]
    }
   ],
   "source": [
    "print('aic: {:6.5f} | order: {}'.format(best_aic, best_order))"
   ]
  },
  {
   "cell_type": "markdown",
   "metadata": {},
   "source": [
    "En este caso se tiene un proceso autorregresivo de orde 1, media movil de orden 0, y se realizan 2 diferenciaciones en la serie de tiempo."
   ]
  },
  {
   "cell_type": "code",
   "execution_count": 72,
   "metadata": {},
   "outputs": [],
   "source": [
    "from statsmodels.graphics.tsaplots import plot_predict\n",
    "\n",
    "model = ARIMA(train, order=best_order)\n",
    "model_fit = model.fit()"
   ]
  },
  {
   "cell_type": "markdown",
   "metadata": {},
   "source": [
    "El modelo ajustado a la serie de tiempo:"
   ]
  },
  {
   "cell_type": "code",
   "execution_count": 73,
   "metadata": {},
   "outputs": [
    {
     "data": {
      "text/plain": [
       "<Figure size 1200x800 with 0 Axes>"
      ]
     },
     "metadata": {},
     "output_type": "display_data"
    },
    {
     "data": {
      "image/png": "[encoded data removed]",
      "text/plain": [
       "<Figure size 1500x1500 with 1 Axes>"
      ]
     },
     "metadata": {},
     "output_type": "display_data"
    }
   ],
   "source": [
    "plt.figure(figsize = (12,8))\n",
    "fig, ax = plt.subplots()\n",
    "ax = y_train.loc[1:].plot(ax=ax)\n",
    "plot_predict(model_fit, 1, ax=ax)\n",
    "plt.show();"
   ]
  },
  {
   "cell_type": "markdown",
   "metadata": {},
   "source": [
    "Función para obtener las metricas de predicción:"
   ]
  },
  {
   "cell_type": "code",
   "execution_count": 74,
   "metadata": {},
   "outputs": [],
   "source": [
    "from sklearn.metrics import r2_score\n",
    "\n",
    "def forecast_accuracy(forecast, actual, str_name):\n",
    "    \n",
    "    mape = np.mean(np.abs(forecast - actual)/np.abs(actual)) # MAPE\n",
    "    mae = np.mean(np.abs(forecast - actual))                 # MAE\n",
    "    rmse = np.mean((forecast - actual)**2)**.5               # RMSE\n",
    "    mse = np.mean((forecast - actual)**2)                    # MSE\n",
    "    r2 = r2_score(forecast, actual)\n",
    "    \n",
    "    df_acc = pd.DataFrame({'MAE': [mae],\n",
    "                           'MSE': [mse],\n",
    "                           'MAPE': [mape],\n",
    "                           'RMSE': [rmse],\n",
    "                           'R2': [r2]},\n",
    "                          index=[str_name])\n",
    "    \n",
    "    return df_acc"
   ]
  },
  {
   "cell_type": "markdown",
   "metadata": {},
   "source": [
    "Función para ealizar una predicción movil, ya que el modelo arima solo permite hacer la predicción para un horizonte de 1:"
   ]
  },
  {
   "cell_type": "code",
   "execution_count": 75,
   "metadata": {},
   "outputs": [],
   "source": [
    "def arima_rolling(history, test):\n",
    "    \n",
    "    predictions = list()\n",
    "    for t in range(len(test)):\n",
    "        model = ARIMA(history, order=best_order)\n",
    "        model_fit = model.fit()\n",
    "        output = model_fit.forecast()\n",
    "        yhat = output[0]\n",
    "        predictions.append(yhat)\n",
    "        obs = test[t]\n",
    "        history.append(obs)\n",
    "        print('predicted=%f, expected=%f' % (yhat, obs))\n",
    "        \n",
    "    return predictions"
   ]
  },
  {
   "cell_type": "code",
   "execution_count": 76,
   "metadata": {},
   "outputs": [
    {
     "name": "stdout",
     "output_type": "stream",
     "text": [
      "predicted=23330.214270, expected=26182.000000\n",
      "predicted=29537.457998, expected=34726.000000\n"
     ]
    }
   ],
   "source": [
    "test_1wl = test_1w.tolist()\n",
    "yhat_1w  = arima_rolling(train.tolist(), test_1wl)"
   ]
  },
  {
   "cell_type": "code",
   "execution_count": 77,
   "metadata": {},
   "outputs": [
    {
     "data": {
      "text/html": [
       "<div>\n",
       "<style scoped>\n",
       "    .dataframe tbody tr th:only-of-type {\n",
       "        vertical-align: middle;\n",
       "    }\n",
       "\n",
       "    .dataframe tbody tr th {\n",
       "        vertical-align: top;\n",
       "    }\n",
       "\n",
       "    .dataframe thead th {\n",
       "        text-align: right;\n",
       "    }\n",
       "</style>\n",
       "<table border=\"1\" class=\"dataframe\">\n",
       "  <thead>\n",
       "    <tr style=\"text-align: right;\">\n",
       "      <th></th>\n",
       "      <th>MAE</th>\n",
       "      <th>MSE</th>\n",
       "      <th>MAPE</th>\n",
       "      <th>RMSE</th>\n",
       "      <th>R2</th>\n",
       "    </tr>\n",
       "  </thead>\n",
       "  <tbody>\n",
       "    <tr>\n",
       "      <th>week 1</th>\n",
       "      <td>4020.163866</td>\n",
       "      <td>1.752682e+07</td>\n",
       "      <td>0.148948</td>\n",
       "      <td>4186.505103</td>\n",
       "      <td>0.039625</td>\n",
       "    </tr>\n",
       "  </tbody>\n",
       "</table>\n",
       "</div>"
      ],
      "text/plain": [
       "                MAE           MSE      MAPE         RMSE        R2\n",
       "week 1  4020.163866  1.752682e+07  0.148948  4186.505103  0.039625"
      ]
     },
     "execution_count": 77,
     "metadata": {},
     "output_type": "execute_result"
    }
   ],
   "source": [
    "forecast_accuracy(np.array(test_1wl), np.array(yhat_1w), \"week 1\")"
   ]
  },
  {
   "cell_type": "markdown",
   "metadata": {},
   "source": [
    "Este modelo tambien tiene un R2 bajo, por lo que no logra explicar muy bien la variabilidad del consumo de gas. Aunque los valores obtenidos durnate el testeo son mas cercanos al valor real de los obtenidos con el modelo de Ridge."
   ]
  },
  {
   "cell_type": "markdown",
   "metadata": {},
   "source": [
    "#### PREDICCIÓN"
   ]
  },
  {
   "cell_type": "markdown",
   "metadata": {},
   "source": [
    "Se utiliza el modelo de ARIMA, para realizar la predicción del mes de enero de 2022:"
   ]
  },
  {
   "cell_type": "code",
   "execution_count": 78,
   "metadata": {},
   "outputs": [],
   "source": [
    "model2 = ARIMA(df_new[\"CONSUMO\"], order=best_order)\n",
    "model2_fit = model2.fit()"
   ]
  },
  {
   "cell_type": "code",
   "execution_count": 79,
   "metadata": {},
   "outputs": [
    {
     "data": {
      "text/plain": [
       "12    41195.289281\n",
       "dtype: float64"
      ]
     },
     "execution_count": 79,
     "metadata": {},
     "output_type": "execute_result"
    }
   ],
   "source": [
    "pred = model2_fit.forecast()\n",
    "pred"
   ]
  }
 ],
 "metadata": {
  "kernelspec": {
   "display_name": "ml_venv",
   "language": "python",
   "name": "python3"
  },
  "language_info": {
   "codemirror_mode": {
    "name": "ipython",
    "version": 3
   },
   "file_extension": ".py",
   "mimetype": "text/x-python",
   "name": "python",
   "nbconvert_exporter": "python",
   "pygments_lexer": "ipython3",
   "version": "3.9.17"
  }
 },
 "nbformat": 4,
 "nbformat_minor": 2
}
